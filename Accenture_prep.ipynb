{
 "cells": [
  {
   "cell_type": "code",
   "execution_count": 2,
   "id": "c46278bc-fd39-4d20-9f22-249112184703",
   "metadata": {},
   "outputs": [
    {
     "name": "stdin",
     "output_type": "stream",
     "text": [
      "enter playlist: abcaca\n"
     ]
    },
    {
     "name": "stdout",
     "output_type": "stream",
     "text": [
      "2\n"
     ]
    }
   ],
   "source": [
    "st=input(\"enter playlist:\")\n",
    "max=0\n",
    "for i in range(len(st)):\n",
    "    sub=st[i:i+3]\n",
    "    if sub.count(\"a\")>max:\n",
    "        max=sub.count(\"a\")\n",
    "print(max)\n",
    "\n"
   ]
  },
  {
   "cell_type": "code",
   "execution_count": 16,
   "id": "d7469a09-92cd-4069-874c-469f40033756",
   "metadata": {},
   "outputs": [
    {
     "name": "stdout",
     "output_type": "stream",
     "text": [
      "1\n"
     ]
    }
   ],
   "source": [
    "l=[2,3,6-4,1,4,]\n",
    "for i in range(len(l)):\n",
    "    if sum(l[0:i])==sum(l[i+1:]):\n",
    "        print(l[i])\n",
    "#o(n^2) time"
   ]
  },
  {
   "cell_type": "code",
   "execution_count": null,
   "id": "e2361312-ef0c-4e07-8364-920a780f1076",
   "metadata": {},
   "outputs": [],
   "source": [
    "l=[2,3,-1,-4,1,4,-4]\n",
    "total=sum(l)\n",
    "left=0\n",
    "for i in range(len(l)):\n",
    "    right=total-left-l[i]\n",
    "    if left==right:\n",
    "        print(l[i])\n",
    "    left+=l[i]\n",
    "#o(n) complexity"
   ]
  },
  {
   "cell_type": "code",
   "execution_count": 9,
   "id": "578b6d32-8dad-4d38-896a-6183c07eb015",
   "metadata": {},
   "outputs": [
    {
     "name": "stdout",
     "output_type": "stream",
     "text": [
      "one hundred and twenty-three\n",
      "one hundred and one thousand and ten\n",
      "one million\n",
      "four million, five hundred and sixty-seven thousand, eight hundred and ninety\n"
     ]
    }
   ],
   "source": [
    "from num2words import num2words\n",
    "\n",
    "print(num2words(123))           # Output: \"one hundred and twenty-three\"\n",
    "print(num2words(101010))        # Output: \"one hundred and one thousand and ten\"\n",
    "print(num2words(1000000))       # Output: \"one million\"\n",
    "print(num2words(4567890))    # Output: \"one billion, two hundred and thirty-four million, five hundred and sixty-seven thousand, eight hundred and ninety\"\n"
   ]
  },
  {
   "cell_type": "code",
   "execution_count": 17,
   "id": "f9fe4d24-92d1-4e9b-82a0-ede8a75d98fe",
   "metadata": {},
   "outputs": [
    {
     "name": "stdin",
     "output_type": "stream",
     "text": [
      "enter row 2\n",
      "enter cols 2\n",
      "enter element 56\n",
      "enter element 4\n",
      "enter element 22\n",
      "enter element 6\n"
     ]
    },
    {
     "name": "stdout",
     "output_type": "stream",
     "text": [
      "56 4\n",
      "22 6\n"
     ]
    }
   ],
   "source": [
    "rows=int(input(\"enter row\"))\n",
    "cols=int(input(\"enter cols\"))\n",
    "matrix=[]\n",
    "for i in range(rows):\n",
    "    row=[]\n",
    "    for j in range(cols):\n",
    "        elem=int(input(\"enter element\"))\n",
    "        row.append(elem)\n",
    "    matrix.append(row)\n",
    "for row in matrix:\n",
    "    print(\" \".join(map(str,row)))\n",
    "for i in matrix:\n",
    "    print(\"Matrixi)\n",
    "    "
   ]
  },
  {
   "cell_type": "code",
   "execution_count": 70,
   "id": "6c3d4ed7-5fa2-4bb5-bfdb-f915e43ca82a",
   "metadata": {},
   "outputs": [
    {
     "name": "stdout",
     "output_type": "stream",
     "text": [
      "True\n"
     ]
    }
   ],
   "source": [
    "#balanced parenthesis\n",
    "class Solution:\n",
    "    def __init__(self,string):\n",
    "        self.string=string\n",
    "    def check_balance(self):\n",
    "        stack=[]\n",
    "        pairs={')':'(','}':'{',']':'['}\n",
    "        for char in self.string:\n",
    "            if char in pairs.values():\n",
    "                stack.append(char)\n",
    "            elif char in pairs.keys():\n",
    "                if stack==[] or pairs[char]!=stack.pop():\n",
    "                    return False\n",
    "            else:\n",
    "                return False\n",
    "        return stack==[]\n",
    "ob=Solution(\"([{}])\")\n",
    "print(ob.check_balance())"
   ]
  },
  {
   "cell_type": "code",
   "execution_count": 60,
   "id": "318face3-ee80-4614-88d3-21d454ce0388",
   "metadata": {},
   "outputs": [
    {
     "name": "stdin",
     "output_type": "stream",
     "text": [
      " abc\n"
     ]
    },
    {
     "name": "stdout",
     "output_type": "stream",
     "text": [
      "2\n"
     ]
    }
   ],
   "source": [
    "def permute(st,chose=\"\",per=[]):\n",
    "    if len(st)==0:\n",
    "        per.append(chose)\n",
    "    else:\n",
    "        for i in range(len(st)):\n",
    "            ch=st[i]\n",
    "            remain=st[:i]+st[i+1:]\n",
    "            permute(remain,chose+ch)\n",
    "    return per\n",
    "string=input()\n",
    "vow=[\"a\",\"e\",\"o\",\"i\",\"u\"]\n",
    "new_str=\"\".join(i for i in string if i not in vow)\n",
    "p=permute(new_str)\n",
    "print(len(p))   "
   ]
  },
  {
   "cell_type": "code",
   "execution_count": 86,
   "id": "a9c27270-d93b-4dab-855f-47d8e8394e07",
   "metadata": {},
   "outputs": [
    {
     "name": "stdout",
     "output_type": "stream",
     "text": [
      "1 44\n",
      "2 55\n",
      "4 56\n",
      "aabcbabcc\n",
      "a b c\n"
     ]
    }
   ],
   "source": [
    "def Transpose(matrix):\n",
    "    rows=len(matrix)\n",
    "    cols=len(matrix[0])\n",
    "    mat=[]\n",
    "    for i in range(cols):\n",
    "        new_row=[]\n",
    "        for j in range(rows):\n",
    "            new_row.append(matrix[j][i])\n",
    "        mat.append(new_row)\n",
    "    return mat\n",
    "matri=Transpose([[1,2,4],[44,55,56]])\n",
    "for i in matri:\n",
    "    print(\" \".join(map(str,i)))\n",
    "string=\"abc\"\n",
    "print(string.join(string))\n",
    "print(\" \".join(string))"
   ]
  }
 ],
 "metadata": {
  "kernelspec": {
   "display_name": "Python 3 (ipykernel)",
   "language": "python",
   "name": "python3"
  },
  "language_info": {
   "codemirror_mode": {
    "name": "ipython",
    "version": 3
   },
   "file_extension": ".py",
   "mimetype": "text/x-python",
   "name": "python",
   "nbconvert_exporter": "python",
   "pygments_lexer": "ipython3",
   "version": "3.11.7"
  }
 },
 "nbformat": 4,
 "nbformat_minor": 5
}
