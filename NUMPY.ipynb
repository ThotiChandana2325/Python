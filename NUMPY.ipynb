{
 "cells": [
  {
   "cell_type": "code",
   "execution_count": 4,
   "metadata": {},
   "outputs": [
    {
     "name": "stdout",
     "output_type": "stream",
     "text": [
      "matrix is \n",
      "  [[  1 109   3]\n",
      " [  5   6   4]]\n",
      "\u000b",
      "\n",
      "transpose of matrix is: [[  1   5]\n",
      " [109   6]\n",
      " [  3   4]]\n",
      "\u000b",
      "\n",
      "<class 'numpy.ndarray'>\n",
      "6\n",
      "8\n",
      "dimensions are  2\n",
      "[[  1 109   3]\n",
      " [  5  90   4]]\n",
      "[[  1   5]\n",
      " [109  90]\n",
      " [  3   4]]\n"
     ]
    }
   ],
   "source": [
    "import numpy as n\n",
    "ar=n.array([[1,2,3],[5,6,4]])\n",
    "ar[0,1]=109\n",
    "\n",
    "print(\"matrix is \\n \",ar)\n",
    "a=ar.T\n",
    "print(\"\\v\")\n",
    "print(\"transpose of matrix is:\",a)\n",
    "print(\"\\v\")\n",
    "print(type(ar))\n",
    "print(ar.size)\n",
    "print(ar.itemsize)\n",
    "print(\"dimensions are \",ar.ndim)\n",
    "x=ar.view()\n",
    "x[1,1]=90\n",
    "print(x)\n",
    "print(a)"
   ]
  },
  {
   "cell_type": "code",
   "execution_count": 13,
   "metadata": {},
   "outputs": [
    {
     "name": "stdout",
     "output_type": "stream",
     "text": [
      "[[[ 1  2  3]\n",
      "  [ 3  4  5]]\n",
      "\n",
      " [[ 7  8  6]\n",
      "  [ 8 45  3]]]\n",
      "small array [7 8 6]\n",
      "element 45\n",
      "[[[ 7  8  6]\n",
      "  [ 8 45  3]]]\n",
      "[]\n",
      "shape is (2, 2, 3)\n",
      "3\n",
      "[[[ 1  2  3]\n",
      "  [ 3  4  5]]\n",
      "\n",
      " [[ 7  8  6]\n",
      "  [ 8 45  3]]]\n",
      "\u000b",
      "\n",
      "\u000b",
      "\n",
      "[[[ 1  2  3]\n",
      "  [ 3  4  5]]\n",
      "\n",
      " [[ 7  8  6]\n",
      "  [ 8 45 90]]]\n",
      "[[[ 1  2  3]\n",
      "  [ 3  4  5]]\n",
      "\n",
      " [[ 7  8  6]\n",
      "  [ 8 45  3]]]\n",
      "None\n",
      "[[[ 1  2  3]\n",
      "  [ 3  4  5]]\n",
      "\n",
      " [[ 7 78  6]\n",
      "  [ 8 45  3]]]\n",
      "\u000b",
      "\n",
      "[[[ 1  2  3]\n",
      "  [ 3  4  5]]\n",
      "\n",
      " [[ 7 78  6]\n",
      "  [ 8 45  3]]]\n"
     ]
    }
   ],
   "source": [
    "import numpy as n\n",
    "b=n.array([[[1,2,3],[3,4,5]],[[7,8,6],[8,45,3]]])\n",
    "print(b)\n",
    "print(\"small array\",b[1,0])\n",
    "print(\"element\",b[1,-1,1])\n",
    "print(b[1:2])\n",
    "print(b[1:1])\n",
    "print(\"shape is\",b.shape)\n",
    "print(b.ndim)\n",
    "ne=b.copy()\n",
    "print(ne)\n",
    "print(\"\\v\")\n",
    "print(\"\\v\")\n",
    "ne[1,1,2]=90\n",
    "print(ne)\n",
    "print(b)\n",
    "print(ne.base)\n",
    "new=b.view()\n",
    "new[1,0,1]=78\n",
    "print(new)\n",
    "print(\"\\v\")\n",
    "print(new.base)\n",
    "#if base is applies,returns none in copy"
   ]
  },
  {
   "cell_type": "code",
   "execution_count": 16,
   "metadata": {},
   "outputs": [
    {
     "name": "stdout",
     "output_type": "stream",
     "text": [
      "[[[[[['a' 'b' 'c' 'd' 'd']]]]]]\n",
      "(1, 1, 1, 1, 1, 5)\n",
      "6\n",
      "<U1\n"
     ]
    }
   ],
   "source": [
    " c=n.array([\"a\",\"b\",\"c\",\"d\",\"d\"],ndmin=6)\n",
    "print(c)\n",
    "print(c.shape)\n",
    "print(c.ndim)\n",
    "print(c.dtype)"
   ]
  },
  {
   "cell_type": "code",
   "execution_count": 5,
   "metadata": {},
   "outputs": [
    {
     "name": "stdout",
     "output_type": "stream",
     "text": [
      "['2' 'c' '5']\n",
      "<U21\n"
     ]
    }
   ],
   "source": [
    "import numpy as n\n",
    "ar=n.asarray([2,\"c\",5])\n",
    "print(ar)\n",
    "print(ar.dtype)\n"
   ]
  },
  {
   "cell_type": "code",
   "execution_count": 4,
   "metadata": {},
   "outputs": [
    {
     "name": "stdout",
     "output_type": "stream",
     "text": [
      "(5,)\n",
      "[ 2.  4.  5.  1. 10.]\n",
      "[ 2  4  5  1 10]\n",
      "int32\n",
      "[b'2' b'4' b'5' b'1' b'6']\n",
      "[2. 4. 0. 1. 0.]\n",
      "float64\n",
      "[2 4 0 1 0]\n",
      "4\n",
      "[ True  True False  True False]\n",
      "bool\n"
     ]
    }
   ],
   "source": [
    "s=n.array([2,4,5,1,10],dtype=\"f\")\n",
    "print(s.shape)\n",
    "newa=s.astype(\"i\")\n",
    "print(s)\n",
    "print(newa)\n",
    "print(newa.dtype)\n",
    "s=n.array([2,4,5,1,6],dtype=\"S\")\n",
    "print(s)\n",
    "s=n.array([2,4,0,1,0],dtype=\"i4\")\n",
    "ns=s.astype(float) #conversion  of type\n",
    "new=s.astype(bool)\n",
    "print(ns)\n",
    "print(ns.dtype)\n",
    "print(s)\n",
    "print(s.itemsize)\n",
    "print(new)\n",
    "print(new.dtype)"
   ]
  },
  {
   "cell_type": "code",
   "execution_count": 8,
   "metadata": {
    "editable": true,
    "slideshow": {
     "slide_type": ""
    },
    "tags": []
   },
   "outputs": [
    {
     "name": "stdout",
     "output_type": "stream",
     "text": [
      "original [ 1  2  3  4  5  6  7 89]\n",
      "reshape1 [[[ 1  2]\n",
      "  [ 3  4]]\n",
      "\n",
      " [[ 5  6]\n",
      "  [ 7 89]]]\n",
      "reshare to original [ 1  2  3  4  5  6  7 89]\n",
      "reshare [[[ 1  2]\n",
      "  [ 3  4]]\n",
      "\n",
      " [[ 5  6]\n",
      "  [ 7 89]]]\n",
      "[ 1  2  3  4  5  6  7 89]\n"
     ]
    }
   ],
   "source": [
    "import numpy as n\n",
    "s=n.array([1,2,3,4,5,6,7,89])\n",
    "print(\"original\",s)\n",
    "cs=s.reshape(2,2,2)\n",
    "print(\"reshape1\",cs)\n",
    "ss=cs.reshape(-1)\n",
    "print(\"reshare to original\",ss)\n",
    "cs=s.reshape(2,2,-1)\n",
    "print(\"reshare\",cs)\n",
    "print(cs.reshape(2,2,2).base)"
   ]
  },
  {
   "cell_type": "code",
   "execution_count": 19,
   "metadata": {},
   "outputs": [
    {
     "name": "stdout",
     "output_type": "stream",
     "text": [
      "1\n",
      "2\n",
      "3\n",
      "4\n",
      "5\n",
      "6\n"
     ]
    }
   ],
   "source": [
    "arr=n.array([[1,2,3],[4,5,6]])\n",
    "for x in arr:\n",
    "    for y in x:\n",
    "        print(y)\n"
   ]
  },
  {
   "cell_type": "code",
   "execution_count": 22,
   "metadata": {},
   "outputs": [
    {
     "name": "stdout",
     "output_type": "stream",
     "text": [
      "x represents 2d \n",
      " [[1 2 3]\n",
      " [4 5 6]]\n",
      "x represents 2d \n",
      " [[ 7  8  9]\n",
      " [12 13 14]]\n"
     ]
    }
   ],
   "source": [
    "ar=n.array([[[1,2,3],[4,5,6]],[[7,8,9],[12,13,14]]])\n",
    "for x in ar:\n",
    "    print(\"x represents 2d \\n\",x)"
   ]
  },
  {
   "cell_type": "code",
   "execution_count": 28,
   "metadata": {},
   "outputs": [],
   "source": [
    "\n",
    "\n"
   ]
  },
  {
   "cell_type": "code",
   "execution_count": 42,
   "metadata": {},
   "outputs": [
    {
     "name": "stdout",
     "output_type": "stream",
     "text": [
      "   experience   Salary\n",
      "0           2    60000\n",
      "1           4    80000\n",
      "2           6   100000\n",
      "3           8   120000\n",
      "4          10  1400000\n",
      "5          12   160000\n",
      "6          14  1800000\n",
      "7          16   200000\n",
      "8          18   220000\n",
      "9          20   240000\n"
     ]
    }
   ],
   "source": [
    "\n",
    "exp=[2,4,6,8,10,12,14,16,18,20]\n",
    "salary=[60000,80000,100000,120000,1400000,160000,1800000,200000,220000,240000]\n",
    "data=pd.DataFrame({\"experience\":exp,\"Salary\":salary})\n",
    "print(data)\n"
   ]
  },
  {
   "cell_type": "code",
   "execution_count": 43,
   "metadata": {},
   "outputs": [
    {
     "data": {
      "text/plain": [
       "<function matplotlib.pyplot.show(close=None, block=None)>"
      ]
     },
     "execution_count": 43,
     "metadata": {},
     "output_type": "execute_result"
    },
    {
     "data": {
      "image/png": "[encoded data removed]",
      "text/plain": [
       "<Figure size 500x500 with 6 Axes>"
      ]
     },
     "metadata": {},
     "output_type": "display_data"
    }
   ],
   "source": [
    "sns.pairplot(data)#preperation\n",
    "plt.show\n"
   ]
  },
  {
   "cell_type": "code",
   "execution_count": 12,
   "metadata": {},
   "outputs": [
    {
     "name": "stdout",
     "output_type": "stream",
     "text": [
      "[[0. 0. 0.]\n",
      " [0. 0. 0.]]\n",
      "[[1. 0. 0.]\n",
      " [0. 1. 0.]\n",
      " [0. 0. 1.]]\n"
     ]
    }
   ],
   "source": [
    "import numpy as np\n",
    "print(np.zeros((2,3)))#parameters indicate size\n",
    "print(np.eye(3))#identity matrix"
   ]
  },
  {
   "cell_type": "code",
   "execution_count": 45,
   "metadata": {},
   "outputs": [],
   "source": []
  }
 ],
 "metadata": {
  "kernelspec": {
   "display_name": "Python 3 (ipykernel)",
   "language": "python",
   "name": "python3"
  },
  "language_info": {
   "codemirror_mode": {
    "name": "ipython",
    "version": 3
   },
   "file_extension": ".py",
   "mimetype": "text/x-python",
   "name": "python",
   "nbconvert_exporter": "python",
   "pygments_lexer": "ipython3",
   "version": "3.11.7"
  }
 },
 "nbformat": 4,
 "nbformat_minor": 4
}
