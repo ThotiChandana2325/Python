{
 "cells": [
  {
   "cell_type": "code",
   "execution_count": 1,
   "metadata": {},
   "outputs": [
    {
     "name": "stdout",
     "output_type": "stream",
     "text": [
      "['r', 'r', 'r', 'g', 'g', 'm']\n"
     ]
    }
   ],
   "source": [
    "l=[\"r\",\"g\",\"r\",\"m\",\"r\",\"g\"]\n",
    "r=[]\n",
    "g=[]\n",
    "m=[]\n",
    "for i in range(len(l)):\n",
    "    if l[i]==\"r\":\n",
    "        val=l[i]\n",
    "        r.append(val)\n",
    "    elif l[i]==\"g\":\n",
    "        g.append(l[i])\n",
    "    else:\n",
    "        m.append(l[i])\n",
    "l=r+g+m\n",
    "print(l)"
   ]
  },
  {
   "cell_type": "code",
   "execution_count": 8,
   "metadata": {},
   "outputs": [
    {
     "name": "stdout",
     "output_type": "stream",
     "text": [
      "1505,1540,1575,1610,1645,1680,1715,1750,1785,1820,1855,1890,1925,1960,1995,2030,2065,2100,2135,2170,2205,2240,2275,2310,2345,2380,2415,2450,2485,2520,2555,2590,2625,2660,2695,"
     ]
    }
   ],
   "source": [
    "\n",
    "for i in range(1500,2700):\n",
    "    if i%7==0 and i%5==0:\n",
    "        print(i,end=\",\")"
   ]
  },
  {
   "cell_type": "code",
   "execution_count": null,
   "metadata": {},
   "outputs": [],
   "source": []
  },
  {
   "cell_type": "code",
   "execution_count": null,
   "metadata": {},
   "outputs": [],
   "source": [
    "c=int(input(\"enter celsius temp:\"))\n",
    "f=int(input(\"enter fahreinheit temp:\"))\n",
    "if c:\n",
    "    fah=((9*c)/5)+32\n",
    "    print(c,\"°C in fahreinheit is\",fah)\n",
    "if f:\n",
    "    cel=((f-32)/9)*5\n",
    "    print(f,\"°C in fahreinheit is\",cel)"
   ]
  },
  {
   "cell_type": "code",
   "execution_count": 16,
   "metadata": {},
   "outputs": [
    {
     "name": "stdout",
     "output_type": "stream",
     "text": [
      "Guess a number between 1 and 10 until you get it right : 4\n",
      "Guess a number between 1 and 10 until you get it right : 1\n",
      "Guess a number between 1 and 10 until you get it right : 6\n",
      "Guess a number between 1 and 10 until you get it right : 2\n",
      "Guess a number between 1 and 10 until you get it right : 8\n",
      "Well guessed!\n"
     ]
    }
   ],
   "source": [
    "import random\n",
    "target_num= random.randint(1, 10)\n",
    "guess_num=0\n",
    "while target_num != guess_num:\n",
    "    guess_num = int(input('Guess a number between 1 and 10 until you get it right : '))\n",
    "print('Well guessed!')"
   ]
  },
  {
   "cell_type": "code",
   "execution_count": 6,
   "metadata": {},
   "outputs": [
    {
     "name": "stdout",
     "output_type": "stream",
     "text": [
      "[10, 9, 9, 13, 9, 10, 5, 19, 10, 4, 19, 11, 7, 16, 16, 14, 0, 20, 14, 4]\n",
      "even count: 11\n",
      "oodcount: 9\n",
      "list [23, 25, 2, 12, 255, 78, 0, 19, 17, 68, 90]\n",
      "even: 6\n",
      "odd 5\n"
     ]
    }
   ],
   "source": [
    "import random\n",
    "num=[]\n",
    "for y in range(20):\n",
    "    num.append(random.randint(0,20))\n",
    "print(num)\n",
    "ec=0\n",
    "oc=0\n",
    "for i in num:\n",
    "    if i%2==0:\n",
    "        ec=ec+1\n",
    "    else:\n",
    "        oc=oc+1\n",
    "print(\"even count:\",ec)\n",
    "print(\"oodcount:\",oc)\n",
    "def count(lst):\n",
    "    e=0\n",
    "    o=0\n",
    "    for i in lst:\n",
    "        if i%2==0:\n",
    "            e+=1\n",
    "        else:\n",
    "            o+=1\n",
    "    return e,o\n",
    "lst=[23,25,2,12,255,78,0,19,17,68,90]\n",
    "even,odd=count(lst)\n",
    "print(\"list\",lst)\n",
    "print(\"even:\",even)\n",
    "print(\"odd\",odd)\n"
   ]
  },
  {
   "cell_type": "code",
   "execution_count": 12,
   "metadata": {},
   "outputs": [
    {
     "name": "stdout",
     "output_type": "stream",
     "text": [
      "0 1 2 4 5 "
     ]
    }
   ],
   "source": [
    "num=[0,1,2,3,4,5,6]\n",
    "for i in num:\n",
    "    if (i==3 or i==6):\n",
    "        continue\n",
    "    print(i,end=\" \")"
   ]
  },
  {
   "cell_type": "code",
   "execution_count": 79,
   "metadata": {},
   "outputs": [
    {
     "name": "stdout",
     "output_type": "stream",
     "text": [
      "23\n",
      "4\n",
      "61\n",
      "8\n",
      "54\n",
      "65\n",
      "\n",
      "\n",
      "12167\n",
      "64\n",
      "226981\n",
      "512\n",
      "157464\n",
      "274625\n",
      "array('i', [65, 54, 8, 61, 4, 23])\n",
      "\n",
      " [4, 8, 23, 54, 61, 65]\n"
     ]
    }
   ],
   "source": [
    "from array import * #imports methods from array\n",
    "arr=array(\"i\",[23,4,61,8,54,65])\n",
    "for j in arr:\n",
    "    print(j)\n",
    "print(\"\\n\")\n",
    "new=array(arr.typecode,(a*a*a for a in arr))#array manipulation\n",
    "for i in new:\n",
    "    print(i)\n",
    "arr.reverse()#reverse\n",
    "print(arr)\n",
    "print(\"\\n\",sorted(arr))#sort array\n"
   ]
  },
  {
   "cell_type": "code",
   "execution_count": 2,
   "metadata": {},
   "outputs": [
    {
     "name": "stdout",
     "output_type": "stream",
     "text": [
      "dict_keys([1, 2, 3])\n",
      "dict_values(['a', 'b', 'c'])\n",
      "b\n",
      "{'chandu': 21, 'sravan': 26, 'subbu': 50}\n"
     ]
    }
   ],
   "source": [
    "#dictionaries\n",
    "dic=dict({1:\"a\",2:\"b\",3:\"c\"})\n",
    "print(dic.keys())\n",
    "print(dic.values())\n",
    "print(dic.get(2,\"not found\"))\n",
    "dic.get(7,\"not found\")#return value if key not found\n",
    "keys=[\"chandu\",\"sravan\",\"subbu\"]\n",
    "vals=[21,26,50]\n",
    "print(dict(zip(keys,vals)))"
   ]
  },
  {
   "cell_type": "code",
   "execution_count": 48,
   "metadata": {},
   "outputs": [
    {
     "name": "stdout",
     "output_type": "stream",
     "text": [
      "enter a string:sravan\n",
      "navars\n"
     ]
    }
   ],
   "source": [
    "string=input(\"enter a string:\")\n",
    "string2=string[::-1]\n",
    "print(string2)\n",
    "\n",
    "#print(string2)"
   ]
  },
  {
   "cell_type": "code",
   "execution_count": 29,
   "metadata": {},
   "outputs": [
    {
     "name": "stdout",
     "output_type": "stream",
     "text": [
      "0\n",
      "1\n",
      "1\n",
      "2\n",
      "3\n",
      "5\n",
      "8\n",
      "13\n",
      "21\n",
      "34\n",
      "\n",
      "Fibonocci Series...using function..\n",
      "0\n",
      "1\n",
      "1\n",
      "2\n",
      "3\n",
      "5\n"
     ]
    }
   ],
   "source": [
    "x=0;y=1\n",
    "print(x)\n",
    "while y<50:\n",
    "    print(y)\n",
    "    x,y=y,x+y\n",
    "print(\"\\nFibonocci Series...using function..\")\n",
    "def fib(num):\n",
    "    a=0;b=1\n",
    "    print(a);print(b)\n",
    "    for i in range(2,num):\n",
    "        c=a+b\n",
    "        a=b\n",
    "        b=c\n",
    "        print(c)\n",
    "fib(6)"
   ]
  },
  {
   "cell_type": "code",
   "execution_count": 11,
   "metadata": {},
   "outputs": [
    {
     "name": "stdout",
     "output_type": "stream",
     "text": [
      "fizbuzz\n",
      "1\n",
      "2\n",
      "fizz\n",
      "4\n",
      "buzz\n",
      "fizz\n",
      "7\n",
      "8\n",
      "fizz\n",
      "buzz\n",
      "11\n",
      "fizz\n",
      "13\n",
      "14\n",
      "fizbuzz\n",
      "16\n",
      "17\n",
      "fizz\n",
      "19\n",
      "buzz\n",
      "fizz\n",
      "22\n",
      "23\n",
      "fizz\n",
      "buzz\n",
      "26\n",
      "fizz\n",
      "28\n",
      "29\n",
      "fizbuzz\n"
     ]
    }
   ],
   "source": [
    "for i in range(0,31):\n",
    "    if(i%3==0 and i%5==0):\n",
    "        i=\"fizbuzz\"\n",
    "        print(i)\n",
    "    elif i%3==0:\n",
    "        i=\"fizz\"\n",
    "        print(i)\n",
    "    elif i%5==0:\n",
    "        i=\"buzz\"\n",
    "        print(i)    \n",
    "    else:\n",
    "        print(i)"
   ]
  },
  {
   "cell_type": "code",
   "execution_count": null,
   "metadata": {},
   "outputs": [],
   "source": [
    "lines=[]\n",
    "while True:\n",
    "    l=input()\n",
    "    if l:\n",
    "    #l.lower()\n",
    "        lines.append(l.upper())\n",
    "    else:\n",
    "        break;\n",
    "for l in lines:\n",
    "    print(l)"
   ]
  },
  {
   "cell_type": "code",
   "execution_count": 4,
   "metadata": {
    "scrolled": true
   },
   "outputs": [
    {
     "name": "stdout",
     "output_type": "stream",
     "text": [
      "letters: 6\n",
      "digits: 2\n"
     ]
    }
   ],
   "source": [
    "dat=\"Python 3.2\"\n",
    "lc=0\n",
    "dc=0\n",
    "for i in dat:\n",
    "    if i.isalpha():\n",
    "        lc+=1\n",
    "    if i.isdigit():\n",
    "        dc+=1\n",
    "print(\"letters:\",lc)\n",
    "print(\"digits:\",dc)\n"
   ]
  },
  {
   "cell_type": "code",
   "execution_count": 1,
   "metadata": {},
   "outputs": [
    {
     "name": "stdout",
     "output_type": "stream",
     "text": [
      "0001,1001,1010\n",
      "1010\n",
      "bye..bye\n"
     ]
    }
   ],
   "source": [
    "items = []\n",
    "num = [x for x in input().split(',')]\n",
    "for p in num:\n",
    "    x = int(p, 2)\n",
    "    if  x%5==0:\n",
    "        items.append(p)\n",
    "print(','.join(items))\n",
    "\n",
    "print(\"bye..bye\")"
   ]
  },
  {
   "cell_type": "code",
   "execution_count": 18,
   "metadata": {},
   "outputs": [
    {
     "name": "stdout",
     "output_type": "stream",
     "text": [
      "enter password:Chadnankj09\n",
      "valid password\n"
     ]
    }
   ],
   "source": [
    "import re\n",
    "\n",
    "psd=input(\"enter password:\")\n",
    "reg='^[A-Z][A-Z a-z 0-9]{8,}$'\n",
    "if re.search(reg,psd):\n",
    "    print(\"valid password\")\n",
    "else:\n",
    "    print(\"password invalid\")\n"
   ]
  },
  {
   "cell_type": "code",
   "execution_count": 22,
   "metadata": {},
   "outputs": [
    {
     "name": "stdout",
     "output_type": "stream",
     "text": [
      "enter dog age in human years:56\n",
      "dogs age in dog years 237\n"
     ]
    }
   ],
   "source": [
    "dy=int(input(\"enter dog age in human years:\"))\n",
    "if dy<=2:\n",
    "    dy*=10.5\n",
    "elif dy>2:\n",
    "    dy=21+(dy-2)*4\n",
    "print(\"dogs age in dog years\",dy)"
   ]
  },
  {
   "cell_type": "code",
   "execution_count": 26,
   "metadata": {},
   "outputs": [
    {
     "name": "stdout",
     "output_type": "stream",
     "text": [
      "enter first number:12\n",
      "enter second number:3\n",
      "20\n"
     ]
    }
   ],
   "source": [
    "a=int(input(\"enter first number:\"))\n",
    "b=int(input(\"enter second number:\"))\n",
    "sm=a+b\n",
    "if sm in range(15,20):\n",
    "    sm=20\n",
    "else:\n",
    "    sm;\n",
    "print(sm)"
   ]
  },
  {
   "cell_type": "code",
   "execution_count": 53,
   "metadata": {},
   "outputs": [
    {
     "name": "stdout",
     "output_type": "stream",
     "text": [
      "enter input:python\n",
      "string is not integer...\n"
     ]
    }
   ],
   "source": [
    "import re\n",
    "reg=\"^[-+]?[0-9]+$\"\n",
    "inp=input(\"enter input:\")\n",
    "#if inp.isdigit():\n",
    "if re.search(reg,inp):\n",
    "    print(\"string is an integer\")\n",
    "else:\n",
    "    print(\"string is not integer...\")"
   ]
  },
  {
   "cell_type": "code",
   "execution_count": 57,
   "metadata": {
    "scrolled": false
   },
   "outputs": [
    {
     "name": "stdout",
     "output_type": "stream",
     "text": [
      "input lengths:\n",
      "x:7\n",
      "y:8\n",
      "z:7\n",
      "iscoscles triangle\n"
     ]
    }
   ],
   "source": [
    "print(\"input lengths:\")\n",
    "x=int(input(\"x:\"))\n",
    "y=int(input(\"y:\"))\n",
    "z=int(input(\"z:\"))\n",
    "if x==y==z:\n",
    "    print(\"equivalent triangle..\")\n",
    "elif(x==y or x==z or y==z):\n",
    "    print(\"iscoscles triangle\")\n",
    "else:\n",
    "    print('scalen triangle..')"
   ]
  },
  {
   "cell_type": "code",
   "execution_count": null,
   "metadata": {},
   "outputs": [
    {
     "name": "stdout",
     "output_type": "stream",
     "text": [
      "navin\n",
      "{'age': 24, 'branch': 'cse', 'college': 'rgukt'}\n"
     ]
    }
   ],
   "source": [
    "import re\n",
    "#functions\n",
    "#parameterized function\n",
    "def args(name,**data):#multiple arguments use **\n",
    "    print(name)\n",
    "    print(data)\n",
    "args(\"navin\",age=24,branch=\"cse\",college=\"rgukt\")\n",
    "#non parameterized\n",
    "reg=\"^[6789][0-9]{9,}$\"\n",
    "def validate():\n",
    "    while True:\n",
    "        x=input(\"enter mobile number:\")\n",
    "        if not re.search(reg,x):\n",
    "            print(\"invalid number...\\n try again..\")\n",
    "        else:\n",
    "            print(x,\"is valid number..\")\n",
    "            break\n",
    "validate()\n",
    "\n",
    "#lambda function...\n",
    "print(\"lambda function..\")\n",
    "f=lambda a:a**3\n",
    "print(f(10))  "
   ]
  },
  {
   "cell_type": "code",
   "execution_count": 10,
   "metadata": {},
   "outputs": [
    {
     "name": "stdout",
     "output_type": "stream",
     "text": [
      "even list: [2, 4, 6, 8, 24]\n",
      "5 multiples: [5, 10, 15, 20, 25, 30, 35, 40, 45, 105, 120]\n",
      "sum of list: 90\n"
     ]
    }
   ],
   "source": [
    "from functools import reduce\n",
    "#filter,Map,Reduce methods\n",
    "num=[1,2,3,4,5,6,7,8,9,21,24]\n",
    "even=list(filter(lambda a:a%2==0,num))\n",
    "print(\"even list:\",even)\n",
    "mul=list(map(lambda n:n*5,num))\n",
    "print(\"5 multiples:\",mul)\n",
    "red=reduce(lambda a,b:a+b,num)\n",
    "print(\"sum of list:\",red)"
   ]
  },
  {
   "cell_type": "code",
   "execution_count": null,
   "metadata": {},
   "outputs": [],
   "source": [
    "#recursions\n",
    "def fib(n):\n",
    "    if n<=1:\n",
    "        return n\n",
    "    else:\n",
    "        return(fib(n-1)+fib(n-2))\n",
    "        \n",
    "nt=int(input(\"enter terms:\"))\n",
    "for i in range(nt):\n",
    "    if i<=nt:\n",
    "        print(fib(i))"
   ]
  },
  {
   "cell_type": "code",
   "execution_count": 20,
   "metadata": {},
   "outputs": [
    {
     "name": "stdout",
     "output_type": "stream",
     "text": [
      "452\n",
      "None\n"
     ]
    }
   ],
   "source": [
    "\n",
    "def summ(num):\n",
    "    if len(num)==1:\n",
    "        return num[0]\n",
    "    else:\n",
    "        return num[0]+summ(num[1:])\n",
    "print(summ([23,45,32,53,234,65]))\n",
    "def suml(numm):\n",
    "    if type(numm)==type([]):\n",
    "        def sumil(numl):\n",
    "            if len(numl)==1:\n",
    "                return numl[0]\n",
    "            else:\n",
    "                return numl[0]+sumil[numl[1:]]\n",
    "    elif len(numm)==1:\n",
    "        return numm[0]\n",
    "    else:\n",
    "        return numm[0]+sumil[numl[1:]]+suml[numm[1:]]\n",
    "print(suml([2,3,[3,4],[7,8]]))\n"
   ]
  },
  {
   "cell_type": "code",
   "execution_count": 25,
   "metadata": {},
   "outputs": [
    {
     "ename": "TypeError",
     "evalue": "unsupported operand type(s) for +: 'int' and 'list'",
     "output_type": "error",
     "traceback": [
      "\u001b[0;31m---------------------------------------------------------------------------\u001b[0m",
      "\u001b[0;31mTypeError\u001b[0m                                 Traceback (most recent call last)",
      "Cell \u001b[0;32mIn[25], line 6\u001b[0m\n\u001b[1;32m      4\u001b[0m \u001b[38;5;28;01mfor\u001b[39;00m i \u001b[38;5;129;01min\u001b[39;00m ls:\n\u001b[1;32m      5\u001b[0m     \u001b[38;5;28;01mif\u001b[39;00m \u001b[38;5;28mtype\u001b[39m(i)\u001b[38;5;241m==\u001b[39m\u001b[38;5;28mtype\u001b[39m([]):        \n\u001b[0;32m----> 6\u001b[0m         summ\u001b[38;5;241m=\u001b[39m\u001b[43msumm\u001b[49m\u001b[38;5;241;43m+\u001b[39;49m\u001b[43mi\u001b[49m\n\u001b[1;32m      7\u001b[0m \u001b[38;5;28mprint\u001b[39m(summ)\n",
      "\u001b[0;31mTypeError\u001b[0m: unsupported operand type(s) for +: 'int' and 'list'"
     ]
    }
   ],
   "source": [
    "ls=[3,4,[5,6],7,[8,89,90]]\n",
    "summ=0\n",
    "suml=0\n",
    "for i in ls:\n",
    "    if type(i)==type([]):        \n",
    "        summ=summ+i\n",
    "print(summ)\n",
    "    "
   ]
  },
  {
   "cell_type": "code",
   "execution_count": 38,
   "metadata": {},
   "outputs": [
    {
     "name": "stdout",
     "output_type": "stream",
     "text": [
      "120\n",
      "13\n"
     ]
    }
   ],
   "source": [
    "def fact(n):\n",
    "    if n==1:\n",
    "        return n\n",
    "    else:\n",
    "        return n*fact(n-1)\n",
    "print(fact(5))\n",
    "def fib(n):\n",
    "    if n==0 or n==1:\n",
    "        return 1    \n",
    "    else:\n",
    "        return (fib(n-1))+(fib(n-2))        \n",
    "print(fib(6))"
   ]
  },
  {
   "cell_type": "code",
   "execution_count": 5,
   "metadata": {},
   "outputs": [
    {
     "name": "stdout",
     "output_type": "stream",
     "text": [
      "enter digit:789\n",
      "24\n"
     ]
    }
   ],
   "source": [
    "dig=int(input(\"enter digit:\"))\n",
    "def summ(n):\n",
    "    if n==0:\n",
    "        return 0\n",
    "    else:\n",
    "        return n%10+summ(int(n/10))    \n",
    "print(summ(dig))"
   ]
  },
  {
   "cell_type": "code",
   "execution_count": 18,
   "metadata": {},
   "outputs": [
    {
     "name": "stdout",
     "output_type": "stream",
     "text": [
      "{'name': 'Chandana', 'branch': 'CSE', 'age': 21}\n"
     ]
    }
   ],
   "source": [
    "class sample():\n",
    "    s1=sample()\n",
    "    s1.name=\"Chandana\"\n",
    "    s1.branch=\"CSE\"\n",
    "    s1.age=21\n",
    "    print(s1.__dict__)\n"
   ]
  },
  {
   "cell_type": "code",
   "execution_count": 16,
   "metadata": {},
   "outputs": [
    {
     "name": "stdout",
     "output_type": "stream",
     "text": [
      "{'name': 'sravan', 'age': 25, 'idn': 190241, 'district': 'chittoor'}\n"
     ]
    }
   ],
   "source": [
    "class basic():\n",
    "    def __init__(self,name,age,idn,district):\n",
    "        self.name=name\n",
    "        self.age=age\n",
    "        self.idn=idn\n",
    "        self.district=district\n",
    "st1=basic(\"sravan\",25,190241,\"chittoor\")\n",
    "st2=basic(\"chandu\",21,190242,\"chittoor\")\n",
    "print(st1.__dict__)"
   ]
  },
  {
   "cell_type": "code",
   "execution_count": null,
   "metadata": {},
   "outputs": [],
   "source": []
  },
  {
   "cell_type": "code",
   "execution_count": 81,
   "metadata": {},
   "outputs": [
    {
     "name": "stdout",
     "output_type": "stream",
     "text": [
      "4\n",
      "a\n",
      "23\n",
      "b\n",
      "34\n",
      "s\n",
      "12\n",
      "g\n",
      "32\n",
      "a\n"
     ]
    }
   ],
   "source": [
    "def second_lowest(students):\n",
    "        uni_num = set(score for name,score in students)\n",
    "        students_score = min(score for name,score in students if score != min(uni_num))\n",
    "        second_low=[name for name,score in students if score==students_score]\n",
    "        return second_low\n",
    "\n",
    "if __name__ == '__main__':\n",
    "    students=[]\n",
    "    for _ in range(int(input())):\n",
    "        name = input()\n",
    "        score = float(input())\n",
    "        students.append([name,score])\n",
    "    result = second_lowest(students)\n",
    "    for name in result:\n",
    "        print(name)\n",
    "        "
   ]
  },
  {
   "cell_type": "code",
   "execution_count": 13,
   "metadata": {},
   "outputs": [
    {
     "name": "stdout",
     "output_type": "stream",
     "text": [
      "4\n",
      "a\n",
      "12\n",
      "s\n",
      "12\n",
      "d\n",
      "13\n",
      "w\n",
      "11\n",
      "['a', 's']\n"
     ]
    }
   ],
   "source": [
    "def second_lowest(students):    \n",
    "    unique_scores = set(score for name, score in students)\n",
    "    second_lowest_score = min(score for name, score in students if score != min(unique_scores))\n",
    "    students_with_second_lowest = [name for name, score in students if score == second_lowest_score]\n",
    "\n",
    "    return students_with_second_lowest\n",
    "\n",
    "if __name__ == '__main__':\n",
    "    students = []\n",
    "    for _ in range(int(input())):\n",
    "        name = input()\n",
    "        score = float(input())\n",
    "        students.append([name, score])\n",
    "\n",
    "    result = second_lowest(students)\n",
    "    print(result)"
   ]
  },
  {
   "cell_type": "code",
   "execution_count": 5,
   "metadata": {},
   "outputs": [
    {
     "name": "stdout",
     "output_type": "stream",
     "text": [
      "2\n",
      "c 12 13\n",
      "s 12 14 \n",
      "s\n",
      "13.00\n"
     ]
    }
   ],
   "source": [
    "def average(scores):\n",
    "     if query_name in student_marks:\n",
    "        return \"{:.2f}\".format(sum(student_marks[query_name]) / len(student_marks[query_name]))    \n",
    "if __name__ == '__main__':\n",
    "    n = int(input())\n",
    "    student_marks = {}\n",
    "    for _ in range(n):\n",
    "        name, *line = input().split()\n",
    "        scores = list(map(float, line))\n",
    "        student_marks[name] = scores\n",
    "    query_name = input()\n",
    "    result=average(scores)\n",
    "    print(result)"
   ]
  },
  {
   "cell_type": "code",
   "execution_count": 118,
   "metadata": {},
   "outputs": [
    {
     "name": "stdout",
     "output_type": "stream",
     "text": [
      "B22xm`@In/\n"
     ]
    }
   ],
   "source": [
    "import random\n",
    "import string\n",
    "\n",
    "def generate_random_string(length):\n",
    "    # Define the characters to choose from\n",
    "    characters = string.ascii_letters + string.digits + string.punctuation\n",
    "\n",
    "    # Generate a random string of the specified length\n",
    "    random_string = ''.join(random.choice(characters) for _ in range(length))\n",
    "\n",
    "    return random_string\n",
    "\n",
    "# Example: Generate a random string of length 10\n",
    "random_string = generate_random_string(10)\n",
    "print(random_string)\n"
   ]
  },
  {
   "cell_type": "code",
   "execution_count": 23,
   "metadata": {},
   "outputs": [
    {
     "name": "stdout",
     "output_type": "stream",
     "text": [
      "3\n",
      "a\n",
      "d\n",
      "a\n",
      "2\n",
      "d 1\n",
      "a 2\n"
     ]
    }
   ],
   "source": [
    "list1=[]\n",
    "for _ in range(int(input())):\n",
    "    name=input()\n",
    "    list1.append(name)\n",
    "unique_names=set(list1)\n",
    "print(len(unique_names))\n",
    "#print(list)\n",
    "#print(unique_names)\n",
    "for name in unique_names:\n",
    "    names=list1.count(name)\n",
    "    print(names)"
   ]
  },
  {
   "cell_type": "code",
   "execution_count": 25,
   "metadata": {},
   "outputs": [
    {
     "name": "stdout",
     "output_type": "stream",
     "text": [
      "3\n",
      "a\n",
      "d\n",
      "a\n",
      "2\n",
      "12"
     ]
    }
   ],
   "source": [
    "list1=[]\n",
    "for _ in range(int(input())):\n",
    "    name=input()\n",
    "    list1.append(name)\n",
    "unique_names=set(list1)\n",
    "print(len(unique_names))\n",
    "#print(list)\n",
    "#print(unique_names)\n",
    "for name in unique_names:\n",
    "    names=list1.count(name)\n",
    "    print(names,end=\" \")"
   ]
  },
  {
   "cell_type": "code",
   "execution_count": null,
   "metadata": {},
   "outputs": [],
   "source": [
    "from collections import defaultdict\n",
    "\n",
    "list1 = []\n",
    "\n",
    "for _ in range(int(input())):\n",
    "    name = input()\n",
    "    list1.append(name)\n",
    "\n",
    "# Count occurrences using defaultdict\n",
    "name_counts = defaultdict(int)\n",
    "\n",
    "for name in list1:\n",
    "    name_counts[name] += 1\n",
    "\n",
    "unique_names = set(list1)\n",
    "print(\"Number of unique names:\", len(unique_names))\n",
    "\n",
    "# Print the count of each name side by side\n",
    "for name in unique_names:\n",
    "    count = name_counts[name]\n",
    "    print(count, end=\" \")\n"
   ]
  },
  {
   "cell_type": "code",
   "execution_count": 4,
   "metadata": {},
   "outputs": [
    {
     "name": "stdout",
     "output_type": "stream",
     "text": [
      "3\n",
      "insert\n",
      "4\n",
      "insert\n",
      "5\n",
      "['4', 'insert', '5']\n"
     ]
    }
   ],
   "source": [
    "list1=[]\n",
    "n=int(input())\n",
    "\n",
    "value=input()\n",
    "for x in range(n):\n",
    "    list1.append(input())\n",
    "    if list1[0]==\"insert\":\n",
    "        list1.insert(0,value)\n",
    "print(list1)"
   ]
  },
  {
   "cell_type": "code",
   "execution_count": 3,
   "metadata": {},
   "outputs": [
    {
     "name": "stdout",
     "output_type": "stream",
     "text": [
      "3\n",
      "insert\n",
      "3\n",
      "['3', 'insert']\n"
     ]
    }
   ],
   "source": [
    "list1 = []\n",
    "n = int(input())\n",
    "\n",
    "# Assuming the first input is the command (e.g., \"insert\")\n",
    "command = input()\n",
    "list1.append(command)\n",
    "\n",
    "value = input()\n",
    "\n",
    "for _ in range(n):\n",
    "    if list1[0] == \"insert\":\n",
    "        list1.insert(0, value)\n",
    "\n",
    "print(list1)\n"
   ]
  },
  {
   "cell_type": "code",
   "execution_count": 66,
   "metadata": {},
   "outputs": [
    {
     "name": "stdout",
     "output_type": "stream",
     "text": [
      "6\n",
      "append 8\n",
      "append 4\n",
      "insert 0 3\n",
      "append 1\n",
      "reverse\n",
      "print\n",
      "[1, 4, 8, 3]\n"
     ]
    }
   ],
   "source": [
    "if __name__ == '__main__':\n",
    "    N = int(input())\n",
    "    my_list = []  # Use a different variable name\n",
    "\n",
    "    for i in range(N):\n",
    "        command = input().split()\n",
    "\n",
    "        if command[0] == \"insert\":\n",
    "            my_list.insert(int(command[1]), int(command[2]))\n",
    "        elif command[0] == \"append\":\n",
    "            my_list.append(int(command[1]))\n",
    "        elif command[0] == \"pop\":\n",
    "            my_list.pop()\n",
    "        elif command[0] == \"print\":\n",
    "            print(my_list)\n",
    "        elif command[0] == \"remove\":\n",
    "            my_list.remove(int(command[1]))\n",
    "        elif command[0] == \"sort\":\n",
    "            my_list.sort()\n",
    "        else:\n",
    "            my_list.reverse()\n",
    "\n",
    "   \n"
   ]
  },
  {
   "cell_type": "code",
   "execution_count": 3,
   "metadata": {},
   "outputs": [
    {
     "name": "stdout",
     "output_type": "stream",
     "text": [
      "2\n",
      "2,3\n",
      "-5521441466347884403\n"
     ]
    }
   ],
   "source": [
    "if __name__ == '__main__':\n",
    "    n = int(input())\n",
    "    integer_list = map(int, input().split())\n",
    "    print(hash((3,10)))"
   ]
  },
  {
   "cell_type": "code",
   "execution_count": 5,
   "metadata": {},
   "outputs": [
    {
     "name": "stdout",
     "output_type": "stream",
     "text": [
      "chandu\n",
      "sree\n",
      "Hello chandu sree! You just delved into python.\n"
     ]
    }
   ],
   "source": [
    "def print_full_name(first, last):\n",
    "    print(f\"Hello {first} {last}! You just delved into python.\")\n",
    "\n",
    "if __name__ == '__main__':\n",
    "    first_name = input()\n",
    "    last_name = input()\n",
    "    print_full_name(first_name, last_name)"
   ]
  },
  {
   "cell_type": "code",
   "execution_count": 12,
   "metadata": {},
   "outputs": [
    {
     "name": "stdout",
     "output_type": "stream",
     "text": [
      "abcdef\n",
      "2 k\n",
      "abkdef\n"
     ]
    }
   ],
   "source": [
    "def mutate_string(string, position, character):\n",
    "    list1=list(string)\n",
    "    list1[position]=character\n",
    "    string=\"\".join(list1)\n",
    "    return string\n",
    "\n",
    "if __name__ == '__main__':\n",
    "    s = input()\n",
    "    i, c = input().split()\n",
    "    s_new = mutate_string(s, int(i), c)\n",
    "    print(s_new)"
   ]
  },
  {
   "cell_type": "code",
   "execution_count": 2,
   "metadata": {},
   "outputs": [
    {
     "name": "stdout",
     "output_type": "stream",
     "text": [
      "chandana\n",
      "an\n",
      "2\n"
     ]
    }
   ],
   "source": [
    "string=input()\n",
    "sub_string=input()\n",
    "count=string.count(sub_string)\n",
    "print(count)"
   ]
  },
  {
   "cell_type": "code",
   "execution_count": 3,
   "metadata": {},
   "outputs": [
    {
     "name": "stdout",
     "output_type": "stream",
     "text": [
      "1\n"
     ]
    }
   ],
   "source": [
    "def count_substring_occurrences(main_string, substring):\n",
    "    count = main_string.count(substring)\n",
    "    return count\n",
    "\n",
    "# Example usage:\n",
    "main_string = \"ABCDCDC\"\n",
    "substring = \"CDC\"\n",
    "\n",
    "result = count_substring_occurrences(main_string, substring)\n",
    "print(result)\n"
   ]
  },
  {
   "cell_type": "code",
   "execution_count": 5,
   "metadata": {},
   "outputs": [
    {
     "name": "stdout",
     "output_type": "stream",
     "text": [
      "2\n"
     ]
    }
   ],
   "source": [
    "def count_substring_occurrences(main_string, substring):\n",
    "    count = 0\n",
    "    for i in range(len(main_string) - len(substring) + 1):\n",
    "        if main_string[i:i + len(substring)] == substring:\n",
    "            count += 1\n",
    "    return count\n",
    "\n",
    "# Example usage:\n",
    "main_string = \"ABCDCDCD\"\n",
    "substring = \"CDCD\"\n",
    "\n",
    "result = count_substring_occurrences(main_string, substring)\n",
    "print(result)\n"
   ]
  },
  {
   "cell_type": "code",
   "execution_count": 13,
   "metadata": {},
   "outputs": [
    {
     "name": "stdout",
     "output_type": "stream",
     "text": [
      "as2\n",
      "true\n"
     ]
    }
   ],
   "source": [
    "if __name__ == '__main__':\n",
    "    s = input()\n",
    "    if any(char.isdigit() for char in s):\n",
    "        print(\"true\")\n",
    "    else:\n",
    "        print(\"false\")"
   ]
  },
  {
   "cell_type": "code",
   "execution_count": 16,
   "metadata": {},
   "outputs": [
    {
     "name": "stdout",
     "output_type": "stream",
     "text": [
      "123\n",
      "True\n",
      "True\n",
      "False\n"
     ]
    }
   ],
   "source": [
    "if __name__ == '__main__':\n",
    "    s = input()\n",
    "    if any(x.isalnum() for x in s):\n",
    "        print(\"True\")\n",
    "    if any(x.isalpha() for x in s):\n",
    "        print(\"True\")\n",
    "    if any(x.isdigit() for x in s):\n",
    "        print(\"True\")\n",
    "    if any(x.islower() for x in s):\n",
    "        print(\"True\")\n",
    "    if any(x.isupper() for x in s):\n",
    "        print(\"True\")          \n",
    "    else:\n",
    "        print(\"False\")\n",
    "        "
   ]
  },
  {
   "cell_type": "code",
   "execution_count": 21,
   "metadata": {
    "scrolled": true
   },
   "outputs": [
    {
     "name": "stdout",
     "output_type": "stream",
     "text": [
      "Enter the thickness: 5\n",
      "        \n",
      "   HH   \n",
      "  HHHH  \n",
      " HHHHHH \n",
      "HHHHHHHH\n",
      "  HHHHH               HHHHH             \n",
      "  HHHHH               HHHHH             \n",
      "  HHHHH               HHHHH             \n",
      "  HHHHH               HHHHH             \n",
      "  HHHHH               HHHHH             \n",
      "  HHHHH               HHHHH             \n",
      "  HHHHHHHHHHHHHHHHHHHHHHHHH   \n",
      "  HHHHHHHHHHHHHHHHHHHHHHHHH   \n",
      "  HHHHHHHHHHHHHHHHHHHHHHHHH   \n",
      "  HHHHH               HHHHH             \n",
      "  HHHHH               HHHHH             \n",
      "  HHHHH               HHHHH             \n",
      "  HHHHH               HHHHH             \n",
      "  HHHHH               HHHHH             \n",
      "  HHHHH               HHHHH             \n",
      "                    HHHHHHHHH \n",
      "                     HHHHHHH  \n",
      "                      HHHHH   \n",
      "                       HHH    \n",
      "                        H     \n"
     ]
    }
   ],
   "source": [
    "def print_hackerrank_logo(t):\n",
    "    c = 'H'    \n",
    "    for i in range(t):\n",
    "        print((c * i).rjust(t - 1) +  (c * i).ljust(t - 1))\n",
    "        \n",
    "    for i in range(t + 1):\n",
    "        print((c * t).center(t *2 ) + (c * t).center(t * 6))\n",
    "    \n",
    "    for i in range((t + 1) // 2):\n",
    "        print((c * t * 5).center(t * 6))\n",
    "\n",
    "    for i in range(t + 1):\n",
    "        print((c * t).center(t * 2) + (c * t).center(t * 6))\n",
    "\n",
    "    for i in range(t):\n",
    "        print(((c * (t - i - 1)).rjust(t) + c +\n",
    "               (c * (t - i - 1)).ljust(t)).rjust(t * 6))\n",
    "\n",
    "if __name__ == '__main__':\n",
    "    t = int(input(\"Enter the t: \"))\n",
    "    print_hackerrank_logo(t)\n",
    "\n",
    "    "
   ]
  },
  {
   "cell_type": "code",
   "execution_count": 14,
   "metadata": {
    "scrolled": true
   },
   "outputs": [
    {
     "name": "stdout",
     "output_type": "stream",
     "text": [
      "5\n",
      "21\n",
      "*********.||.********\n",
      "*****.||..||..||.****\n",
      "*******WELCOME*******\n",
      "*****.||..||..||.****\n",
      "*********.||.********\n"
     ]
    }
   ],
   "source": [
    "def doormat(rows,columns):\n",
    "    pattern=[(\".||.\" * (2*i+1)).center(columns,\"*\") for i in range(rows//2)]\n",
    "    wel_line=\"WELCOME\".center(columns,\"*\")\n",
    "    design=\"\\n\".join(pattern+[wel_line]+pattern[::-1])\n",
    "    return design\n",
    "n=int(input())\n",
    "m=int(input())\n",
    "result=doormat(n,m)\n",
    "print(result)\n"
   ]
  },
  {
   "cell_type": "code",
   "execution_count": 37,
   "metadata": {},
   "outputs": [
    {
     "name": "stdout",
     "output_type": "stream",
     "text": [
      "4\n",
      "   * \n",
      "  * * \n",
      " * * * \n",
      "* * * * \n"
     ]
    }
   ],
   "source": [
    "n=int(input())\n",
    "for i in range(1,n+1):\n",
    "    print(\" \"*(n-i)+\"* \"*(i))\n"
   ]
  },
  {
   "cell_type": "code",
   "execution_count": 79,
   "metadata": {},
   "outputs": [
    {
     "name": "stdout",
     "output_type": "stream",
     "text": [
      "4\n",
      " *  *  *  *  *  *  *\n",
      "  *\n",
      "   *\n",
      "    *\n",
      "   * \n",
      "  * \n",
      " * \n",
      "*  *  *  *  *  *  *  "
     ]
    }
   ],
   "source": [
    "n=int(input())\n",
    "e=2*n\n",
    "for i in range(n):\n",
    "    print(\" * \"*i,end=\"\")\n",
    "for i in range(n):\n",
    "    print(\" \"*(i+1)+\"*\")\n",
    "for i in range(n,e-1):\n",
    "        print(\" \"*(e-i-1)+\"* \")\n",
    "for i in range(n):\n",
    "    print(\"* \"+\" * \"*(i-1),end=\" \")"
   ]
  },
  {
   "cell_type": "code",
   "execution_count": 23,
   "metadata": {},
   "outputs": [
    {
     "name": "stdout",
     "output_type": "stream",
     "text": [
      "17\n",
      " 1  1  1  1\n",
      " 2  2  2 10\n",
      " 3  3  3 11\n",
      " 4  4  4 100\n",
      " 5  5  5 101\n",
      " 6  6  6 110\n",
      " 7  7  7 111\n",
      " 8 10  8 1000\n",
      " 9 11  9 1001\n",
      "10 12  A 1010\n",
      "11 13  B 1011\n",
      "12 14  C 1100\n",
      "13 15  D 1101\n",
      "14 16  E 1110\n",
      "15 17  F 1111\n",
      "16 20 10 10000\n",
      "17 21 11 10001\n"
     ]
    }
   ],
   "source": [
    "def print_formatted(number):\n",
    "    width = len(bin(number)[2:]) \n",
    "    format_string = \"{:>{width}} {:>{width}} {:>{width}} {:>{width}}\"\n",
    "\n",
    "    for i in range(1, number+1):\n",
    "        print(format_string.format(i, oct(i)[2:], hex(i)[2:].upper(), bin(i)[2:],width=2))\n",
    "\n",
    "\n",
    "\n",
    "if __name__ == '__main__':\n",
    "    n = int(input())\n",
    "    print_formatted(n)\n"
   ]
  },
  {
   "cell_type": "code",
   "execution_count": 20,
   "metadata": {},
   "outputs": [
    {
     "name": "stdout",
     "output_type": "stream",
     "text": [
      "0x2f\n"
     ]
    }
   ],
   "source": [
    "decimal_number = 47\n",
    "octal_number = hex(decimal_number)\n",
    "print(octal_number)\n"
   ]
  },
  {
   "cell_type": "code",
   "execution_count": 2,
   "metadata": {},
   "outputs": [
    {
     "name": "stdout",
     "output_type": "stream",
     "text": [
      "    January 2024\n",
      "Su Mo Tu We Th Fr Sa\n",
      "    1  2  3  4  5  6\n",
      " 7  8  9 10 11 12 13\n",
      "14 15 16 17 18 19 20\n",
      "21 22 23 24 25 26 27\n",
      "28 29 30 31\n",
      "   February 2025\n",
      "Su Mo Tu We Th Fr Sa\n",
      "                   1\n",
      " 2  3  4  5  6  7  8\n",
      " 9 10 11 12 13 14 15\n",
      "16 17 18 19 20 21 22\n",
      "23 24 25 26 27 28\n",
      "                                  2024\n",
      "\n",
      "      January                   February                   March\n",
      "Mo Tu We Th Fr Sa Su      Mo Tu We Th Fr Sa Su      Mo Tu We Th Fr Sa Su\n",
      " 1  2  3  4  5  6  7                1  2  3  4                   1  2  3\n",
      " 8  9 10 11 12 13 14       5  6  7  8  9 10 11       4  5  6  7  8  9 10\n",
      "15 16 17 18 19 20 21      12 13 14 15 16 17 18      11 12 13 14 15 16 17\n",
      "22 23 24 25 26 27 28      19 20 21 22 23 24 25      18 19 20 21 22 23 24\n",
      "29 30 31                  26 27 28 29               25 26 27 28 29 30 31\n",
      "\n",
      "       April                      May                       June\n",
      "Mo Tu We Th Fr Sa Su      Mo Tu We Th Fr Sa Su      Mo Tu We Th Fr Sa Su\n",
      " 1  2  3  4  5  6  7             1  2  3  4  5                      1  2\n",
      " 8  9 10 11 12 13 14       6  7  8  9 10 11 12       3  4  5  6  7  8  9\n",
      "15 16 17 18 19 20 21      13 14 15 16 17 18 19      10 11 12 13 14 15 16\n",
      "22 23 24 25 26 27 28      20 21 22 23 24 25 26      17 18 19 20 21 22 23\n",
      "29 30                     27 28 29 30 31            24 25 26 27 28 29 30\n",
      "\n",
      "        July                     August                  September\n",
      "Mo Tu We Th Fr Sa Su      Mo Tu We Th Fr Sa Su      Mo Tu We Th Fr Sa Su\n",
      " 1  2  3  4  5  6  7                1  2  3  4                         1\n",
      " 8  9 10 11 12 13 14       5  6  7  8  9 10 11       2  3  4  5  6  7  8\n",
      "15 16 17 18 19 20 21      12 13 14 15 16 17 18       9 10 11 12 13 14 15\n",
      "22 23 24 25 26 27 28      19 20 21 22 23 24 25      16 17 18 19 20 21 22\n",
      "29 30 31                  26 27 28 29 30 31         23 24 25 26 27 28 29\n",
      "                                                    30\n",
      "\n",
      "      October                   November                  December\n",
      "Mo Tu We Th Fr Sa Su      Mo Tu We Th Fr Sa Su      Mo Tu We Th Fr Sa Su\n",
      "    1  2  3  4  5  6                   1  2  3                         1\n",
      " 7  8  9 10 11 12 13       4  5  6  7  8  9 10       2  3  4  5  6  7  8\n",
      "14 15 16 17 18 19 20      11 12 13 14 15 16 17       9 10 11 12 13 14 15\n",
      "21 22 23 24 25 26 27      18 19 20 21 22 23 24      16 17 18 19 20 21 22\n",
      "28 29 30 31               25 26 27 28 29 30         23 24 25 26 27 28 29\n",
      "                                                    30 31\n",
      "\n",
      "5\n",
      "                                  2025\n",
      "\n",
      "      January                   February                   March\n",
      "We Th Fr Sa Su Mo Tu      We Th Fr Sa Su Mo Tu      We Th Fr Sa Su Mo Tu\n",
      " 1  2  3  4  5  6  7                1  2  3  4                1  2  3  4\n",
      " 8  9 10 11 12 13 14       5  6  7  8  9 10 11       5  6  7  8  9 10 11\n",
      "15 16 17 18 19 20 21      12 13 14 15 16 17 18      12 13 14 15 16 17 18\n",
      "22 23 24 25 26 27 28      19 20 21 22 23 24 25      19 20 21 22 23 24 25\n",
      "29 30 31                  26 27 28                  26 27 28 29 30 31\n",
      "\n",
      "       April                      May                       June\n",
      "We Th Fr Sa Su Mo Tu      We Th Fr Sa Su Mo Tu      We Th Fr Sa Su Mo Tu\n",
      "                   1          1  2  3  4  5  6                   1  2  3\n",
      " 2  3  4  5  6  7  8       7  8  9 10 11 12 13       4  5  6  7  8  9 10\n",
      " 9 10 11 12 13 14 15      14 15 16 17 18 19 20      11 12 13 14 15 16 17\n",
      "16 17 18 19 20 21 22      21 22 23 24 25 26 27      18 19 20 21 22 23 24\n",
      "23 24 25 26 27 28 29      28 29 30 31               25 26 27 28 29 30\n",
      "30\n",
      "\n",
      "        July                     August                  September\n",
      "We Th Fr Sa Su Mo Tu      We Th Fr Sa Su Mo Tu      We Th Fr Sa Su Mo Tu\n",
      "                   1             1  2  3  4  5                      1  2\n",
      " 2  3  4  5  6  7  8       6  7  8  9 10 11 12       3  4  5  6  7  8  9\n",
      " 9 10 11 12 13 14 15      13 14 15 16 17 18 19      10 11 12 13 14 15 16\n",
      "16 17 18 19 20 21 22      20 21 22 23 24 25 26      17 18 19 20 21 22 23\n",
      "23 24 25 26 27 28 29      27 28 29 30 31            24 25 26 27 28 29 30\n",
      "30 31\n",
      "\n",
      "      October                   November                  December\n",
      "We Th Fr Sa Su Mo Tu      We Th Fr Sa Su Mo Tu      We Th Fr Sa Su Mo Tu\n",
      " 1  2  3  4  5  6  7                1  2  3  4                      1  2\n",
      " 8  9 10 11 12 13 14       5  6  7  8  9 10 11       3  4  5  6  7  8  9\n",
      "15 16 17 18 19 20 21      12 13 14 15 16 17 18      10 11 12 13 14 15 16\n",
      "22 23 24 25 26 27 28      19 20 21 22 23 24 25      17 18 19 20 21 22 23\n",
      "29 30 31                  26 27 28 29 30            24 25 26 27 28 29 30\n",
      "                                                    31\n",
      "\n",
      "                                  2030\n",
      "\n",
      "      January                   February                   March\n",
      "Mo Tu We Th Fr Sa Su      Mo Tu We Th Fr Sa Su      Mo Tu We Th Fr Sa Su\n",
      "    1  2  3  4  5  6                   1  2  3                   1  2  3\n",
      " 7  8  9 10 11 12 13       4  5  6  7  8  9 10       4  5  6  7  8  9 10\n",
      "14 15 16 17 18 19 20      11 12 13 14 15 16 17      11 12 13 14 15 16 17\n",
      "21 22 23 24 25 26 27      18 19 20 21 22 23 24      18 19 20 21 22 23 24\n",
      "28 29 30 31               25 26 27 28               25 26 27 28 29 30 31\n",
      "\n",
      "       April                      May                       June\n",
      "Mo Tu We Th Fr Sa Su      Mo Tu We Th Fr Sa Su      Mo Tu We Th Fr Sa Su\n",
      " 1  2  3  4  5  6  7             1  2  3  4  5                      1  2\n",
      " 8  9 10 11 12 13 14       6  7  8  9 10 11 12       3  4  5  6  7  8  9\n",
      "15 16 17 18 19 20 21      13 14 15 16 17 18 19      10 11 12 13 14 15 16\n",
      "22 23 24 25 26 27 28      20 21 22 23 24 25 26      17 18 19 20 21 22 23\n",
      "29 30                     27 28 29 30 31            24 25 26 27 28 29 30\n",
      "\n",
      "        July                     August                  September\n",
      "Mo Tu We Th Fr Sa Su      Mo Tu We Th Fr Sa Su      Mo Tu We Th Fr Sa Su\n",
      " 1  2  3  4  5  6  7                1  2  3  4                         1\n",
      " 8  9 10 11 12 13 14       5  6  7  8  9 10 11       2  3  4  5  6  7  8\n",
      "15 16 17 18 19 20 21      12 13 14 15 16 17 18       9 10 11 12 13 14 15\n",
      "22 23 24 25 26 27 28      19 20 21 22 23 24 25      16 17 18 19 20 21 22\n",
      "29 30 31                  26 27 28 29 30 31         23 24 25 26 27 28 29\n",
      "                                                    30\n",
      "\n",
      "      October                   November                  December\n",
      "Mo Tu We Th Fr Sa Su      Mo Tu We Th Fr Sa Su      Mo Tu We Th Fr Sa Su\n",
      "    1  2  3  4  5  6                   1  2  3                         1\n",
      " 7  8  9 10 11 12 13       4  5  6  7  8  9 10       2  3  4  5  6  7  8\n",
      "14 15 16 17 18 19 20      11 12 13 14 15 16 17       9 10 11 12 13 14 15\n",
      "21 22 23 24 25 26 27      18 19 20 21 22 23 24      16 17 18 19 20 21 22\n",
      "28 29 30 31               25 26 27 28 29 30         23 24 25 26 27 28 29\n",
      "                                                    30 31\n",
      "None\n",
      "                                             2040\n",
      "\n",
      "          January                          February                          March\n",
      "Wed Thu Fri Sat Sun Mon Tue      Wed Thu Fri Sat Sun Mon Tue      Wed Thu Fri Sat Sun Mon Tue\n",
      "                  1   2   3        1   2   3   4   5   6   7            1   2   3   4   5   6\n",
      "  4   5   6   7   8   9  10        8   9  10  11  12  13  14        7   8   9  10  11  12  13\n",
      " 11  12  13  14  15  16  17       15  16  17  18  19  20  21       14  15  16  17  18  19  20\n",
      " 18  19  20  21  22  23  24       22  23  24  25  26  27  28       21  22  23  24  25  26  27\n",
      " 25  26  27  28  29  30  31       29                               28  29  30  31\n",
      "\n",
      "           April                             May                              June\n",
      "Wed Thu Fri Sat Sun Mon Tue      Wed Thu Fri Sat Sun Mon Tue      Wed Thu Fri Sat Sun Mon Tue\n",
      "                  1   2   3                                1                1   2   3   4   5\n",
      "  4   5   6   7   8   9  10        2   3   4   5   6   7   8        6   7   8   9  10  11  12\n",
      " 11  12  13  14  15  16  17        9  10  11  12  13  14  15       13  14  15  16  17  18  19\n",
      " 18  19  20  21  22  23  24       16  17  18  19  20  21  22       20  21  22  23  24  25  26\n",
      " 25  26  27  28  29  30           23  24  25  26  27  28  29       27  28  29  30\n",
      "                                  30  31\n",
      "\n",
      "            July                            August                         September\n",
      "Wed Thu Fri Sat Sun Mon Tue      Wed Thu Fri Sat Sun Mon Tue      Wed Thu Fri Sat Sun Mon Tue\n",
      "                  1   2   3        1   2   3   4   5   6   7                    1   2   3   4\n",
      "  4   5   6   7   8   9  10        8   9  10  11  12  13  14        5   6   7   8   9  10  11\n",
      " 11  12  13  14  15  16  17       15  16  17  18  19  20  21       12  13  14  15  16  17  18\n",
      " 18  19  20  21  22  23  24       22  23  24  25  26  27  28       19  20  21  22  23  24  25\n",
      " 25  26  27  28  29  30  31       29  30  31                       26  27  28  29  30\n",
      "\n",
      "          October                          November                         December\n",
      "Wed Thu Fri Sat Sun Mon Tue      Wed Thu Fri Sat Sun Mon Tue      Wed Thu Fri Sat Sun Mon Tue\n",
      "                      1   2            1   2   3   4   5   6                    1   2   3   4\n",
      "  3   4   5   6   7   8   9        7   8   9  10  11  12  13        5   6   7   8   9  10  11\n",
      " 10  11  12  13  14  15  16       14  15  16  17  18  19  20       12  13  14  15  16  17  18\n",
      " 17  18  19  20  21  22  23       21  22  23  24  25  26  27       19  20  21  22  23  24  25\n",
      " 24  25  26  27  28  29  30       28  29  30                       26  27  28  29  30  31\n",
      " 31\n",
      "None\n"
     ]
    },
    {
     "data": {
      "text/plain": [
       "'                                  2020\\n\\n      January                   February                   March\\nMo Tu We Th Fr Sa Su      Mo Tu We Th Fr Sa Su      Mo Tu We Th Fr Sa Su\\n       1  2  3  4  5                      1  2                         1\\n 6  7  8  9 10 11 12       3  4  5  6  7  8  9       2  3  4  5  6  7  8\\n13 14 15 16 17 18 19      10 11 12 13 14 15 16       9 10 11 12 13 14 15\\n20 21 22 23 24 25 26      17 18 19 20 21 22 23      16 17 18 19 20 21 22\\n27 28 29 30 31            24 25 26 27 28 29         23 24 25 26 27 28 29\\n                                                    30 31\\n\\n       April                      May                       June\\nMo Tu We Th Fr Sa Su      Mo Tu We Th Fr Sa Su      Mo Tu We Th Fr Sa Su\\n       1  2  3  4  5                   1  2  3       1  2  3  4  5  6  7\\n 6  7  8  9 10 11 12       4  5  6  7  8  9 10       8  9 10 11 12 13 14\\n13 14 15 16 17 18 19      11 12 13 14 15 16 17      15 16 17 18 19 20 21\\n20 21 22 23 24 25 26      18 19 20 21 22 23 24      22 23 24 25 26 27 28\\n27 28 29 30               25 26 27 28 29 30 31      29 30\\n\\n        July                     August                  September\\nMo Tu We Th Fr Sa Su      Mo Tu We Th Fr Sa Su      Mo Tu We Th Fr Sa Su\\n       1  2  3  4  5                      1  2          1  2  3  4  5  6\\n 6  7  8  9 10 11 12       3  4  5  6  7  8  9       7  8  9 10 11 12 13\\n13 14 15 16 17 18 19      10 11 12 13 14 15 16      14 15 16 17 18 19 20\\n20 21 22 23 24 25 26      17 18 19 20 21 22 23      21 22 23 24 25 26 27\\n27 28 29 30 31            24 25 26 27 28 29 30      28 29 30\\n                          31\\n\\n      October                   November                  December\\nMo Tu We Th Fr Sa Su      Mo Tu We Th Fr Sa Su      Mo Tu We Th Fr Sa Su\\n          1  2  3  4                         1          1  2  3  4  5  6\\n 5  6  7  8  9 10 11       2  3  4  5  6  7  8       7  8  9 10 11 12 13\\n12 13 14 15 16 17 18       9 10 11 12 13 14 15      14 15 16 17 18 19 20\\n19 20 21 22 23 24 25      16 17 18 19 20 21 22      21 22 23 24 25 26 27\\n26 27 28 29 30 31         23 24 25 26 27 28 29      28 29 30 31\\n                          30\\n'"
      ]
     },
     "execution_count": 2,
     "metadata": {},
     "output_type": "execute_result"
    }
   ],
   "source": [
    "#CALENDAR MODULE\n",
    "import calendar\n",
    "dec=calendar.TextCalendar(calendar.SUNDAY)#monday refers to from which day calendar starts\n",
    "dec.prmonth(2024,1)\n",
    "dec.prmonth(2025,2)\n",
    "cal=calendar.TextCalendar(firstweekday=0).formatyear(2024)\n",
    "print(cal)\n",
    "\n",
    "\n",
    "print(calendar.leapdays(2000,2020))\n",
    "cal2 = calendar.TextCalendar(calendar.WEDNESDAY)\n",
    "print(cal2.formatyear(2025))\n",
    "print(calendar.prcal(2030))\n",
    "w=3\n",
    "print(cal2.pryear(2040,w))\n",
    "calendar.calendar(2020)\n",
    "\n"
   ]
  },
  {
   "cell_type": "code",
   "execution_count": 72,
   "metadata": {},
   "outputs": [
    {
     "name": "stdout",
     "output_type": "stream",
     "text": [
      "1 2 3 4 5 6 7 \n",
      "8 9 10 11 12 13 14 \n",
      "15 16 17 18 19 20 21 \n",
      "22 23 24 25 26 27 28 \n",
      "29 30 31 0 0 0 0 \n"
     ]
    }
   ],
   "source": [
    "import calendar\n",
    "\n",
    "cal = calendar.TextCalendar(firstweekday=0)  # Set first day of the week to Monday (0)\n",
    "\n",
    "# Get the monthdayscalendar for a specific year and month\n",
    "month_calendar = cal.monthdayscalendar(year=2024, month=1)\n",
    "\n",
    "# Iterate over the weekdays\n",
    "for week in month_calendar:\n",
    "    for day in week:\n",
    "        print(day, end=' ')\n",
    "    print()  # Move to the next line for a new week\n"
   ]
  },
  {
   "cell_type": "code",
   "execution_count": 83,
   "metadata": {},
   "outputs": [
    {
     "name": "stdout",
     "output_type": "stream",
     "text": [
      "10 20 2000\n",
      "4\n"
     ]
    }
   ],
   "source": [
    "import calendar\n",
    "\n",
    "# Input date in the format \"MM DD YYYY\"\n",
    "input_date = input().strip()\n",
    "month, day, year = map(int, input_date.split())\n",
    "\n",
    "# Get the day of the week using the calendar module\n",
    "day_of_week_index = calendar.weekday(year, month, day)\n",
    "\n",
    "# Get the day name in capital letters\n",
    "day_name = calendar.day_name[day_of_week_index].upper()\n",
    "\n",
    "# Output the result\n",
    "print(day_name)\n",
    "\n"
   ]
  },
  {
   "cell_type": "code",
   "execution_count": 86,
   "metadata": {},
   "outputs": [
    {
     "name": "stdout",
     "output_type": "stream",
     "text": [
      "10 20 2020\n",
      "TUESDAY\n"
     ]
    }
   ],
   "source": [
    "import calendar\n",
    "m,d,y=map(int,input().split())\n",
    "week_index=calendar.weekday(y,m,d)\n",
    "day_name=calendar.day_name[week_index].upper()\n",
    "print(day_name)"
   ]
  },
  {
   "cell_type": "code",
   "execution_count": 5,
   "metadata": {},
   "outputs": [
    {
     "name": "stdout",
     "output_type": "stream",
     "text": [
      "Current Date and Time: 2024-02-16 13:43:56.479808\n",
      "New Date after 7 days: 2024-02-23 13:43:56.479808\n"
     ]
    }
   ],
   "source": [
    "from datetime import datetime, timedelta\n",
    "\n",
    "# Current date and time\n",
    "current_datetime = datetime.now()\n",
    "\n",
    "# Create a timedelta representing 7 days\n",
    "seven_days = timedelta(days=7)\n",
    "\n",
    "# Calculate a new date by adding 7 days to the current date\n",
    "new_date = current_datetime + seven_days\n",
    "\n",
    "# Output the results\n",
    "print(\"Current Date and Time:\", current_datetime)\n",
    "print(\"New Date after 7 days:\", new_date)\n"
   ]
  },
  {
   "cell_type": "code",
   "execution_count": 7,
   "metadata": {},
   "outputs": [
    {
     "name": "stdout",
     "output_type": "stream",
     "text": [
      "36\n"
     ]
    }
   ],
   "source": [
    "def recursive_sum(data_list):\n",
    "    total=0\n",
    "    for i in data_list:\n",
    "        if type(i)==type([]):\n",
    "            total=total+recursive_sum(i)\n",
    "        else:\n",
    "            total=total+i\n",
    "    return total\n",
    "\n",
    "print(recursive_sum([1,2,[3,4],[5,6,[7,8]]]))"
   ]
  },
  {
   "cell_type": "code",
   "execution_count": 10,
   "metadata": {},
   "outputs": [
    {
     "name": "stdout",
     "output_type": "stream",
     "text": [
      "5\n",
      "120\n"
     ]
    }
   ],
   "source": [
    "def factorial(n):\n",
    "    if n<=1:\n",
    "        return 1\n",
    "    else:\n",
    "        return n*factorial(n-1)\n",
    "n=int(input())\n",
    "res=factorial(n)\n",
    "print(res)"
   ]
  },
  {
   "cell_type": "code",
   "execution_count": 18,
   "metadata": {},
   "outputs": [
    {
     "name": "stdout",
     "output_type": "stream",
     "text": [
      "[1, 2, 24, 120, 720]\n"
     ]
    }
   ],
   "source": [
    "list2=[]\n",
    "def fact_list(list1):\n",
    "    for i in list1:\n",
    "        if len(list1)<=1:\n",
    "            return list1.append(1)\n",
    "        else:\n",
    "            fact=1\n",
    "            for j in range(1,i+1):\n",
    "                fact*=j\n",
    "            list2.append(fact)\n",
    "    return list2\n",
    "print(fact_list([1,2,4,5,6]))\n",
    "    \n",
    "    \n",
    "        \n",
    "        "
   ]
  },
  {
   "cell_type": "code",
   "execution_count": 12,
   "metadata": {},
   "outputs": [
    {
     "name": "stdout",
     "output_type": "stream",
     "text": [
      "1,2,3,4,5\n",
      "2\n",
      "4\n",
      "[1, 2, 5, 4, 3]\n"
     ]
    }
   ],
   "source": [
    "def reverse_specific(list1,start,end):\n",
    "    \n",
    "    while start<end:\n",
    "        list1[start],list1[end]=list1[end],list1[start]\n",
    "        start+=1\n",
    "        end-=1\n",
    "    return list1\n",
    "nums=input().split(\",\")\n",
    "list1=[int(char) for char in nums]\n",
    "start=int(input())\n",
    "end=int(input())\n",
    "print(reverse_specific(list1,start,end))\n",
    "        "
   ]
  },
  {
   "cell_type": "code",
   "execution_count": 5,
   "metadata": {},
   "outputs": [
    {
     "name": "stdout",
     "output_type": "stream",
     "text": [
      "4\n",
      "1\n",
      "2\n",
      "3\n",
      "4\n",
      "[1, 2, 3, 4]\n"
     ]
    }
   ],
   "source": [
    "list1=[]\n",
    "for x in range(int(input())):\n",
    "    num=int(input())\n",
    "    list1.append(num)\n",
    "print(list1)"
   ]
  },
  {
   "cell_type": "code",
   "execution_count": 8,
   "metadata": {},
   "outputs": [
    {
     "name": "stdout",
     "output_type": "stream",
     "text": [
      "12,2,12,34\n",
      "[12, 2, 12, 34]\n"
     ]
    }
   ],
   "source": [
    "string=input().split(\",\")\n",
    "list1=[int(char) for char in string]\n",
    "print(list1)"
   ]
  },
  {
   "cell_type": "code",
   "execution_count": null,
   "metadata": {},
   "outputs": [],
   "source": [
    "def long_subsequence(num):\n",
    "    n=len(num)\n",
    "    lis=[1]*n\n",
    "    for i in range(1,n):\n",
    "        for j in range(0,i):\n",
    "            if num[i]>num[j] and lis[i]<lis[j]+1:\n",
    "                lis[i]=lis[j]+1\n",
    "    return max(lis)\n",
    "nums=input()\n",
    "num=[int(x) for x in nums.split()]\n",
    "print(long_subsequence(num))"
   ]
  },
  {
   "cell_type": "code",
   "execution_count": 18,
   "metadata": {},
   "outputs": [
    {
     "name": "stdout",
     "output_type": "stream",
     "text": [
      "chandaaba\n",
      "{'c': 1, 'h': 1, 'a': 4, 'n': 1, 'd': 1, 'b': 1}\n"
     ]
    }
   ],
   "source": [
    "def char_count(string):\n",
    "    list1={}\n",
    "    for char in string:\n",
    "        if char in list1:\n",
    "            list1[char]+=1\n",
    "        else:\n",
    "            list1[char]=1\n",
    "    return list1\n",
    "string=input()\n",
    "print(char_count(string))"
   ]
  },
  {
   "cell_type": "code",
   "execution_count": 42,
   "metadata": {},
   "outputs": [
    {
     "name": "stdout",
     "output_type": "stream",
     "text": [
      "1 2 3\n",
      "2 3 4\n",
      "[1, 2, 3, 4]\n"
     ]
    },
    {
     "ename": "TypeError",
     "evalue": "'bool' object is not iterable",
     "output_type": "error",
     "traceback": [
      "\u001b[0;31m---------------------------------------------------------------------------\u001b[0m",
      "\u001b[0;31mTypeError\u001b[0m                                 Traceback (most recent call last)",
      "Cell \u001b[0;32mIn[42], line 19\u001b[0m\n\u001b[1;32m     17\u001b[0m lis2\u001b[38;5;241m=\u001b[39m[\u001b[38;5;28mint\u001b[39m(char) \u001b[38;5;28;01mfor\u001b[39;00m char \u001b[38;5;129;01min\u001b[39;00m in_num2\u001b[38;5;241m.\u001b[39msplit()]\n\u001b[1;32m     18\u001b[0m \u001b[38;5;28mprint\u001b[39m(union(lis1,lis2))\n\u001b[0;32m---> 19\u001b[0m \u001b[38;5;28mprint\u001b[39m(\u001b[43mintersection\u001b[49m\u001b[43m(\u001b[49m\u001b[43mlis1\u001b[49m\u001b[43m,\u001b[49m\u001b[43mlis2\u001b[49m\u001b[43m)\u001b[49m)\n",
      "Cell \u001b[0;32mIn[42], line 10\u001b[0m, in \u001b[0;36mintersection\u001b[0;34m(lis1, lis2)\u001b[0m\n\u001b[1;32m      8\u001b[0m lis3\u001b[38;5;241m=\u001b[39m[]\n\u001b[1;32m      9\u001b[0m \u001b[38;5;28;01mfor\u001b[39;00m x \u001b[38;5;129;01min\u001b[39;00m lis1:\n\u001b[0;32m---> 10\u001b[0m     \u001b[38;5;28;01mfor\u001b[39;00m y \u001b[38;5;129;01min\u001b[39;00m lis2 \u001b[38;5;129;01mand\u001b[39;00m x \u001b[38;5;129;01mnot\u001b[39;00m \u001b[38;5;129;01min\u001b[39;00m lis3 :\n\u001b[1;32m     11\u001b[0m         \u001b[38;5;28;01mif\u001b[39;00m x\u001b[38;5;241m==\u001b[39my:\n\u001b[1;32m     12\u001b[0m             lis3\u001b[38;5;241m.\u001b[39mappend(x)\n",
      "\u001b[0;31mTypeError\u001b[0m: 'bool' object is not iterable"
     ]
    }
   ],
   "source": [
    "def union(lis1,lis2):\n",
    "    for char in lis1:\n",
    "        if char not in lis2:\n",
    "            lis2.append(char)\n",
    "    return sorted(lis2)\n",
    "\n",
    "def intersection(lis1,lis2):\n",
    "    lis3=[]\n",
    "    for x in lis1:\n",
    "        for y in lis2 and x not in lis3 :\n",
    "            if x==y:\n",
    "                lis3.append(x)\n",
    "    return lis3\n",
    "in_num=input()\n",
    "lis1=[int(char) for char in in_num.split()]\n",
    "in_num2=input()\n",
    "lis2=[int(char) for char in in_num2.split()]\n",
    "print(union(lis1,lis2))\n",
    "print(intersection(lis1,lis2))\n"
   ]
  },
  {
   "cell_type": "code",
   "execution_count": 36,
   "metadata": {},
   "outputs": [
    {
     "name": "stdout",
     "output_type": "stream",
     "text": [
      "Intersection of the two lists: [1, 2, 3, 4, 5, 6, 7]\n",
      "Intersection of the two lists: [1, 2, 3, 4, 5, 6, 7]\n"
     ]
    }
   ],
   "source": [
    "def find_intersection(list1, list2):\n",
    "    set1 = set(list1)\n",
    "    set2 = set(list2)\n",
    "\n",
    "    intersection = set1.union(set2)\n",
    "    return list(intersection)\n",
    "\n",
    "\n",
    "list1 = [1, 2, 3, 4, 5]\n",
    "list2 = [3, 4, 5, 6, 7]\n",
    "\n",
    "result = find_intersection(list1, list2)\n",
    "print(\"Intersection of the two lists:\", result)"
   ]
  },
  {
   "cell_type": "code",
   "execution_count": 39,
   "metadata": {},
   "outputs": [
    {
     "name": "stdout",
     "output_type": "stream",
     "text": [
      "Intersection of the two lists: [3, 4, 5]\n"
     ]
    }
   ],
   "source": [
    "def find_intersection(list1, list2):\n",
    "    intersection = []\n",
    "\n",
    "    for item1 in list1:\n",
    "        for item2 in list2:\n",
    "            if item1 == item2: #and item1 not in intersection:\n",
    "                intersection.append(item1)\n",
    "\n",
    "    return intersection\n",
    "\n",
    "# Example usage:\n",
    "list1 = [1, 2, 3, 4, 5]\n",
    "list2 = [3, 4, 5, 6, 7]\n",
    "\n",
    "result = find_intersection(list1, list2)\n",
    "print(\"Intersection of the two lists:\", result)\n"
   ]
  },
  {
   "cell_type": "code",
   "execution_count": 7,
   "metadata": {},
   "outputs": [
    {
     "name": "stdout",
     "output_type": "stream",
     "text": [
      "2\n",
      "1\n",
      "12 2 3\n",
      "[[1], [12, 2, 3]]\n"
     ]
    }
   ],
   "source": [
    "n = int(input().strip())\n",
    "\n",
    "arr = []\n",
    "\n",
    "for _ in range(n):\n",
    "    row = list(map(int, input().rstrip().split()))\n",
    "    arr.append(row)\n",
    "print(arr)\n",
    "\n"
   ]
  },
  {
   "cell_type": "code",
   "execution_count": 9,
   "metadata": {},
   "outputs": [
    {
     "name": "stdout",
     "output_type": "stream",
     "text": [
      "3\n",
      "11 2 4\n",
      "4 5 6\n",
      "10 8 -12\n",
      "4\n"
     ]
    }
   ],
   "source": [
    "def diagonalDifference(arr):\n",
    "    s = 0\n",
    "    n = len(arr)\n",
    "    for i in range(n):\n",
    "        s += arr[i][i]\n",
    "    return s\n",
    "\n",
    "if __name__ == '__main__':\n",
    "    n = int(input().strip())\n",
    "\n",
    "    arr = []\n",
    "\n",
    "    for _ in range(n):\n",
    "        arr.append(list(map(int, input().rstrip().split())))\n",
    "\n",
    "    result = diagonalDifference(arr)\n",
    "\n",
    "    print(result)\n"
   ]
  },
  {
   "cell_type": "code",
   "execution_count": 79,
   "metadata": {},
   "outputs": [
    {
     "name": "stdout",
     "output_type": "stream",
     "text": [
      "1 2 3 4 5 6\n",
      "5\n",
      "OrderedDict([('a', 1), ('b', 2), ('c', 3)])\n",
      "Default dictionary {'a': 1, 'b': 2, 'c': 3}\n"
     ]
    }
   ],
   "source": [
    "from collections import defaultdict\n",
    "from collections import Counter\n",
    "from collections import namedtuple\n",
    "from collections import deque\n",
    "from collections import OrderedDict\n",
    "import collections\n",
    "lis=defaultdict(int)\n",
    "lis.update(enumerate(map(int,input().split())))\n",
    "l=list(lis)\n",
    "print(l[5])\n",
    "\n",
    "order = OrderedDict()  \n",
    "order['a'] = 1  \n",
    "order['b'] = 2  \n",
    "order['c'] = 3  \n",
    "print(order)  \n",
    "\n",
    "#unordered dictionary\n",
    "unordered=dict()\n",
    "unordered['a'] = 1  \n",
    "unordered['b'] = 2  \n",
    "unordered['c'] = 3 \n",
    "print(\"Default dictionary\", unordered)\n"
   ]
  },
  {
   "cell_type": "code",
   "execution_count": 88,
   "metadata": {},
   "outputs": [
    {
     "name": "stdout",
     "output_type": "stream",
     "text": [
      "{1: 'f', 2: 'd', 3: 'c', 4: 'a'}\n",
      "dict_values(['f', 'd', 'c', 'a'])\n",
      "dict_keys([1, 2, 3, 4])\n",
      "{1: 'f', 2: 'd', 4: 'a'}\n"
     ]
    },
    {
     "ename": "AttributeError",
     "evalue": "'dict' object has no attribute 'insert'",
     "output_type": "error",
     "traceback": [
      "\u001b[0;31m---------------------------------------------------------------------------\u001b[0m",
      "\u001b[0;31mAttributeError\u001b[0m                            Traceback (most recent call last)",
      "Cell \u001b[0;32mIn[88], line 8\u001b[0m\n\u001b[1;32m      6\u001b[0m \u001b[38;5;28;01mdel\u001b[39;00m data[\u001b[38;5;241m3\u001b[39m]\n\u001b[1;32m      7\u001b[0m \u001b[38;5;28mprint\u001b[39m(data)\n\u001b[0;32m----> 8\u001b[0m \u001b[43mdata\u001b[49m\u001b[38;5;241;43m.\u001b[39;49m\u001b[43minsert\u001b[49m(\u001b[38;5;241m1\u001b[39m,\u001b[38;5;124m\"\u001b[39m\u001b[38;5;124m5\u001b[39m\u001b[38;5;124m\"\u001b[39m)\n\u001b[1;32m      9\u001b[0m \u001b[38;5;28mprint\u001b[39m(data)\n",
      "\u001b[0;31mAttributeError\u001b[0m: 'dict' object has no attribute 'insert'"
     ]
    }
   ],
   "source": [
    "#DICTIONARY\n",
    "\n",
    "data=dict({1:\"f\",2:\"d\",3:\"c\",4:\"a\"})\n",
    "val=data.values()\n",
    "print(data)\n",
    "print(val)\n",
    "print(data.keys())\n",
    "del data[3]\n",
    "print(data)\n",
    "\n",
    "print(data)"
   ]
  },
  {
   "cell_type": "code",
   "execution_count": 4,
   "metadata": {},
   "outputs": [
    {
     "name": "stdout",
     "output_type": "stream",
     "text": [
      "-3550055125485641917\n",
      "10.1\n"
     ]
    }
   ],
   "source": [
    "t=(1,2)\n",
    "print(hash(t))\n",
    "print(1.1+9)"
   ]
  },
  {
   "cell_type": "code",
   "execution_count": 10,
   "metadata": {},
   "outputs": [
    {
     "name": "stdout",
     "output_type": "stream",
     "text": [
      "Zero divisio error\n",
      "<class 'ZeroDivisionError'>\n",
      "completed\n"
     ]
    }
   ],
   "source": [
    "a=10\n",
    "b=0\n",
    "try:\n",
    "    print(a/b)\n",
    "    print(a+z)\n",
    "except ZeroDivisionError:\n",
    "    print(\"Zero divisio error\")\n",
    "    print(ZeroDivisionError)\n",
    "except NameError:\n",
    "    print(\"Name not defined\")\n",
    "    print(NameError)\n",
    "print(\"completed\")\n"
   ]
  },
  {
   "cell_type": "code",
   "execution_count": 14,
   "metadata": {},
   "outputs": [
    {
     "name": "stdout",
     "output_type": "stream",
     "text": [
      "Zero divisio error name 'z' is not defined\n"
     ]
    }
   ],
   "source": [
    "a=10\n",
    "b=0\n",
    "try:\n",
    "    print(a/z)\n",
    "    print(a+z)\n",
    "except Exception as a:\n",
    "    print(\"Zero divisio error\",a)\n",
    "    "
   ]
  },
  {
   "cell_type": "code",
   "execution_count": 34,
   "metadata": {},
   "outputs": [
    {
     "name": "stdout",
     "output_type": "stream",
     "text": [
      "[1, 2]\n",
      "[4, 2, 5, 9]\n"
     ]
    }
   ],
   "source": [
    "from random import shuffle\n",
    "lis=[1,2]\n",
    "lis2=[]\n",
    "lis2=lis.copy()\n",
    "print(lis2)\n",
    "l=[1,2,3,4,5,6,9]\n",
    "del l[0]\n",
    "del l[4]\n",
    "del l[1]\n",
    "\n",
    "shuffle(l)\n",
    "print(l)\n"
   ]
  },
  {
   "cell_type": "code",
   "execution_count": 39,
   "metadata": {},
   "outputs": [
    {
     "name": "stdout",
     "output_type": "stream",
     "text": [
      "[1, 4, 9, 16, 25, 36, 49, 64, 81, 100, 121, 144, 169, 196, 225, 256, 289, 324, 361, 400, 441, 484, 529, 576, 625, 676, 729, 784, 841, 900]\n"
     ]
    }
   ],
   "source": [
    "lis=list(map(lambda i:i*i,range(1,31)))\n",
    "print(lis)"
   ]
  },
  {
   "cell_type": "code",
   "execution_count": 47,
   "metadata": {},
   "outputs": [
    {
     "name": "stdout",
     "output_type": "stream",
     "text": [
      "1 2 3 4 5 6\n",
      "[2, 4, 6]\n"
     ]
    }
   ],
   "source": [
    "from random import shuffle\n",
    "lis=list(map(int,input().split()))\n",
    "lis1=list(filter(lambda x:x%2==0,lis))\n",
    "print(lis1)"
   ]
  },
  {
   "cell_type": "code",
   "execution_count": null,
   "metadata": {},
   "outputs": [],
   "source": [
    "## n = int(input(\"Enter the number of elements: \"))\n",
    "\n",
    "while True:\n",
    "    user_input = input(f\"Enter {n} elements separated by space: \")\n",
    "    input_elements = list(map(int, user_input.split()))\n",
    "\n",
    "    if len(input_elements) == n:\n",
    "        # Print the result\n",
    "        print(input_elements)\n",
    "        break\n",
    "    else:\n",
    "        print(f\"Please enter exactly {n} elements.\")\n",
    "\n",
    "    "
   ]
  },
  {
   "cell_type": "code",
   "execution_count": 6,
   "metadata": {},
   "outputs": [
    {
     "name": "stdout",
     "output_type": "stream",
     "text": [
      "2 3 5\n",
      "True\n"
     ]
    }
   ],
   "source": [
    "def test_all(lis):\n",
    "    return all(is_prime(lis) for i in lis)\n",
    "def is_prime(lis):\n",
    "    for i in lis:\n",
    "        c = 0\n",
    "        for j in range(1, i + 1):\n",
    "            if i % j == 0:\n",
    "                c +=1\n",
    "        if c==2:\n",
    "            return True\n",
    "        else:\n",
    "            return False    \n",
    "lis=list(map(int,input().split())) \n",
    "print(test_all(lis))\n",
    "        \n"
   ]
  },
  {
   "cell_type": "code",
   "execution_count": 24,
   "metadata": {},
   "outputs": [
    {
     "name": "stdout",
     "output_type": "stream",
     "text": [
      "permutations: [(1, 3), (1, 4), (1, 5), (1, 6), (3, 1), (3, 4), (3, 5), (3, 6), (4, 1), (4, 3), (4, 5), (4, 6), (5, 1), (5, 3), (5, 4), (5, 6), (6, 1), (6, 3), (6, 4), (6, 5)]\n",
      "combinations [(1, 3), (1, 4), (1, 5), (1, 6), (3, 4), (3, 5), (3, 6), (4, 5), (4, 6), (5, 6)]\n"
     ]
    }
   ],
   "source": [
    "from itertools import permutations,combinations\n",
    "li=[1,3,4,5,6]\n",
    "lis=list(permutations(li,2))\n",
    "print(\"permutations:\",lis)\n",
    "lis2=list(combinations(li,2))\n",
    "print(\"combinations\",lis2)"
   ]
  },
  {
   "cell_type": "code",
   "execution_count": null,
   "metadata": {},
   "outputs": [],
   "source": [
    "# lis=[1,2,3,4] SET OPERATIONS\n",
    "lis1=[1,5,6,8,3,6,2,7]\n",
    "#arithmetic\n",
    "dif=abs(len(lis)-len(lis2))\n",
    "print(dif)\n",
    "#sets A-B\n",
    "dif2_l1=list(set(lis)-set(lis1))\n",
    "dif_l2=list(set(lis1)-set(lis))\n",
    "total=dif2_l1+dif_l2\n",
    "print(total)\n",
    "un=set(lis1).union(set(lis))\n",
    "print(list(un))\n",
    "inter=set(lis1).intersection(set(lis))\n",
    "print(list(inter))"
   ]
  },
  {
   "cell_type": "code",
   "execution_count": 38,
   "metadata": {},
   "outputs": [
    {
     "name": "stdout",
     "output_type": "stream",
     "text": [
      "abcde\n",
      "abcde\n",
      "3\n"
     ]
    }
   ],
   "source": [
    "lis=[\"a\",\"b\",\"c\",\"d\",\"e\"]\n",
    "string=\"\"\n",
    "for i in lis:\n",
    "    string +=i\n",
    "print(string)\n",
    "str2=\"\".join(x for x in lis)\n",
    "print(str2)\n",
    "print(lis.index(\"d\"))"
   ]
  },
  {
   "cell_type": "code",
   "execution_count": 51,
   "metadata": {},
   "outputs": [
    {
     "name": "stdout",
     "output_type": "stream",
     "text": [
      "813\n",
      "813\n",
      "813\n",
      "813\n",
      "813\n",
      "0.6394267984578837\n",
      "0.025010755222666936\n",
      "0.27502931836911926\n",
      "0.22321073814882275\n",
      "0.7364712141640124\n"
     ]
    }
   ],
   "source": [
    "# random module is imported\n",
    "import random \n",
    "for i in range(5):\n",
    "\n",
    "\t# Any number can be used in place of '0'.\n",
    "\trandom.seed(6)\n",
    "\n",
    "\t# Generated random number will be between 1 to 1000.\n",
    "\tprint(random.randint(1, 1000)) \n",
    "\t\n",
    "import random\n",
    "\n",
    "# Set the seed to a specific value (e.g., 42)\n",
    "random.seed(42)\n",
    "\n",
    "# Generate a sequence of random numbers\n",
    "for _ in range(5):\n",
    "    print(random.random())"
   ]
  },
  {
   "cell_type": "markdown",
   "metadata": {},
   "source": [
    "# RANDOM MODULE\n"
   ]
  },
  {
   "cell_type": "code",
   "execution_count": 99,
   "metadata": {},
   "outputs": [
    {
     "name": "stdout",
     "output_type": "stream",
     "text": [
      "0.15813102324410433\n",
      "0.8056407236638159\n",
      "0.9954199027172144\n",
      "0.6182441607270468\n",
      "0.3826597026475529\n",
      "5\n",
      "1\n",
      "4\n",
      "10\n",
      "6\n",
      "[4, 1, 3, 6, 7, 8]\n",
      "35971\n",
      "86\n",
      "0\n",
      "11\n",
      "1\n",
      "11\n",
      "5\n",
      "1.8\n",
      "Random Float: 3.326700393539468\n"
     ]
    }
   ],
   "source": [
    "import random\n",
    "random.seed()\n",
    "for _ in range(5):\n",
    "    print(random.random())\n",
    "for i in range(5):\n",
    "    print(random.randint(1,10))\n",
    "s=random.getstate()\n",
    "print(random.sample(range(10),k=6))\n",
    "print(random.getrandbits(16))\n",
    "for i in range(3):\n",
    "    print(random.randrange(1,100,5))\n",
    "    print(random.choice(range(10)))\n",
    "\n",
    "b=[1.5,1.7,1.8]\n",
    "print(random.choice(b))\n",
    "random_float = random.uniform(1, 10)\n",
    "print(\"Random Float:\", random_float)\n"
   ]
  },
  {
   "cell_type": "code",
   "execution_count": 110,
   "metadata": {},
   "outputs": [
    {
     "name": "stdout",
     "output_type": "stream",
     "text": [
      "[[1], [2], [3], [2], [4], [1], [5], [2], [6], [7], [3], [8], [9], [4], [2]]\n"
     ]
    }
   ],
   "source": [
    "lis=[1,2,3,2,4,1,5,2,6,7,3,8,9,4,2]\n",
    "lis1=[]\n",
    "sim_l=[]\n",
    "for i in lis:\n",
    "    if not sim_l or i==sim_l[-1]:\n",
    "        sim_l.append(i)\n",
    "    else:        \n",
    "        lis1.append(sim_l)\n",
    "        sim_l=[i]\n",
    "lis1.append(sim_l)\n",
    "print(lis1)\n",
    "\n",
    "    \n",
    "    "
   ]
  },
  {
   "cell_type": "code",
   "execution_count": null,
   "metadata": {},
   "outputs": [],
   "source": []
  },
  {
   "cell_type": "code",
   "execution_count": 100,
   "metadata": {},
   "outputs": [
    {
     "name": "stdout",
     "output_type": "stream",
     "text": [
      "Counter for the list: Counter({1: 4, 2: 3, 3: 2, 4: 2, 5: 1})\n",
      "Counter for the string: Counter({'l': 3, 'o': 2, 'h': 1, 'e': 1, ' ': 1, 'w': 1, 'r': 1, 'd': 1})\n"
     ]
    }
   ],
   "source": [
    "from collections import Counter\n",
    "\n",
    "# Example with a list\n",
    "my_list = [1, 2, 3, 1, 2, 1, 4, 5, 4, 3, 2, 1]\n",
    "counter_list = Counter(my_list)\n",
    "\n",
    "print(\"Counter for the list:\", counter_list)\n",
    "\n",
    "# Example with a string\n",
    "my_string = \"hello world\"\n",
    "counter_string = Counter(my_string)\n",
    "\n",
    "print(\"Counter for the string:\", counter_string)\n"
   ]
  },
  {
   "cell_type": "code",
   "execution_count": 1,
   "metadata": {},
   "outputs": [
    {
     "name": "stdout",
     "output_type": "stream",
     "text": [
      "Original list:\n",
      "[0, 0, 1, 2, 3, 4, 4, 5, 6, 6, 6, 7, 8, 9, 4, 4]\n",
      "After packing consecutive duplicates into sublists:\n",
      "[[0, 0], [1], [2], [3], [4, 4, 4, 4], [5], [6, 6, 6], [7], [8], [9]]\n"
     ]
    }
   ],
   "source": [
    "def pack_consecutive_duplicates(lst):\n",
    "    packed_list = []\n",
    "    current_group = []\n",
    "\n",
    "    for item in sorted(lst):\n",
    "        if not current_group or item == current_group[-1]:\n",
    "            current_group.append(item)\n",
    "        else:\n",
    "            packed_list.append(current_group)\n",
    "            current_group = [item]\n",
    "\n",
    "    if current_group:\n",
    "        packed_list.append(current_group)\n",
    "\n",
    "    return packed_list\n",
    "\n",
    "# Original list\n",
    "original_list = [0, 0, 1, 2, 3, 4, 4, 5, 6, 6, 6, 7, 8, 9, 4, 4]\n",
    "\n",
    "# Packing consecutive duplicates\n",
    "packed_list = pack_consecutive_duplicates(original_list)\n",
    "\n",
    "# Displaying the results\n",
    "print(\"Original list:\")\n",
    "print(original_list)\n",
    "print(\"After packing consecutive duplicates into sublists:\")\n",
    "print(packed_list)\n"
   ]
  },
  {
   "cell_type": "code",
   "execution_count": 127,
   "metadata": {},
   "outputs": [
    {
     "name": "stdout",
     "output_type": "stream",
     "text": [
      "Original list:\n",
      "[0, 0, 1, 2, 3, 4, 4, 5, 6, 6, 6, 7, 8, 9, 4, 4]\n",
      "After packing consecutive duplicates into sublists:\n",
      "[[0, 0], [1], [2], [3], [4, 4, 4, 4], [5], [6, 6, 6], [7], [8], [9]]\n"
     ]
    }
   ],
   "source": [
    "from itertools import groupby\n",
    "\n",
    "def pack_consecutive_duplicates(lst):\n",
    "    result = [list(group) for key, group in groupby(sorted(lst))]\n",
    "    return result\n",
    "\n",
    "# Original list\n",
    "original_list = [0, 0, 1, 2, 3, 4, 4, 5, 6, 6, 6, 7, 8, 9, 4, 4]\n",
    "\n",
    "# Packing consecutive duplicates\n",
    "packed_list = pack_consecutive_duplicates(original_list)\n",
    "\n",
    "# Displaying the results\n",
    "print(\"Original list:\")\n",
    "print(original_list)\n",
    "print(\"After packing consecutive duplicates into sublists:\")\n",
    "print(packed_list)\n"
   ]
  },
  {
   "cell_type": "code",
   "execution_count": 2,
   "metadata": {},
   "outputs": [
    {
     "name": "stdout",
     "output_type": "stream",
     "text": [
      "[[0], [1, 1, 1], [2], [3, 3], [4, 4], [5, 5], [7, 7], [8, 8], [9]]\n",
      "10\n",
      "11\n",
      "12\n",
      "13\n",
      "14\n",
      "15\n",
      "16\n",
      "17\n",
      "18\n",
      "19\n",
      "0 a\n",
      "1 c\n",
      "2 b\n",
      "3 a\n",
      "4 c\n",
      "5 b\n",
      "6 a\n",
      "7 c\n",
      "8 b\n",
      "9 a\n",
      "10 c\n"
     ]
    }
   ],
   "source": [
    "#ITERTOOLS\n",
    "from itertools import groupby\n",
    "import itertools \n",
    "lis=[1,1,3,5,7,8,0,2,3,4,1,5,7,8,4,9]\n",
    "res=[list(g) for k,g in groupby(lis)]\n",
    "print(res)\n",
    "c=itertools.count(10)\n",
    "for i in range(10):\n",
    "    print(next(c))\n",
    "l=[\"a\",\"c\",\"b\"]\n",
    "cyc=itertools.cycle(l)\n",
    "for i,l in enumerate(cyc):\n",
    "    print(i,l)\n",
    "    if i==10:\n",
    "        break\n",
    "\n"
   ]
  },
  {
   "cell_type": "code",
   "execution_count": null,
   "metadata": {},
   "outputs": [],
   "source": []
  },
  {
   "cell_type": "code",
   "execution_count": 15,
   "metadata": {},
   "outputs": [
    {
     "ename": "TypeError",
     "evalue": "'int' object is not iterable",
     "output_type": "error",
     "traceback": [
      "\u001b[0;31m---------------------------------------------------------------------------\u001b[0m",
      "\u001b[0;31mTypeError\u001b[0m                                 Traceback (most recent call last)",
      "Cell \u001b[0;32mIn[15], line 8\u001b[0m\n\u001b[1;32m      5\u001b[0m flattened_list \u001b[38;5;241m=\u001b[39m \u001b[38;5;28mlist\u001b[39m(chain(\u001b[38;5;241m*\u001b[39mnested_list))\n\u001b[1;32m      7\u001b[0m \u001b[38;5;28;01mwhile\u001b[39;00m \u001b[38;5;28many\u001b[39m(\u001b[38;5;28misinstance\u001b[39m(i, \u001b[38;5;28mlist\u001b[39m) \u001b[38;5;28;01mfor\u001b[39;00m i \u001b[38;5;129;01min\u001b[39;00m flattened_list):\n\u001b[0;32m----> 8\u001b[0m     flattened_list \u001b[38;5;241m=\u001b[39m \u001b[38;5;28;43mlist\u001b[39;49m\u001b[43m(\u001b[49m\u001b[43mchain\u001b[49m\u001b[38;5;241;43m.\u001b[39;49m\u001b[43mfrom_iterable\u001b[49m\u001b[43m(\u001b[49m\u001b[43mflattened_list\u001b[49m\u001b[43m)\u001b[49m\u001b[43m)\u001b[49m\n\u001b[1;32m     10\u001b[0m final_list \u001b[38;5;241m=\u001b[39m flattened_list\n\u001b[1;32m     11\u001b[0m \u001b[38;5;28mprint\u001b[39m(final_list)\n",
      "\u001b[0;31mTypeError\u001b[0m: 'int' object is not iterable"
     ]
    }
   ],
   "source": [
    "from itertools import chain\n",
    "\n",
    "nested_list = [[1, [2, 1, 5], 3], [4, 5, 6], [7, 8, 9]]\n",
    "\n",
    "flattened_list = list(chain(*nested_list))\n",
    "\n",
    "while any(isinstance(i, list) for i in flattened_list):\n",
    "    flattened_list = list(chain.from_iterable(flattened_list))\n",
    "\n",
    "final_list = flattened_list\n",
    "print(final_list)\n"
   ]
  },
  {
   "cell_type": "code",
   "execution_count": 16,
   "metadata": {},
   "outputs": [
    {
     "ename": "TypeError",
     "evalue": "'int' object is not iterable",
     "output_type": "error",
     "traceback": [
      "\u001b[0;31m---------------------------------------------------------------------------\u001b[0m",
      "\u001b[0;31mTypeError\u001b[0m                                 Traceback (most recent call last)",
      "Cell \u001b[0;32mIn[16], line 8\u001b[0m\n\u001b[1;32m      5\u001b[0m flattened_list \u001b[38;5;241m=\u001b[39m \u001b[38;5;28mlist\u001b[39m(chain(\u001b[38;5;241m*\u001b[39mnested_list))\n\u001b[1;32m      7\u001b[0m \u001b[38;5;28;01mwhile\u001b[39;00m \u001b[38;5;28many\u001b[39m(\u001b[38;5;28misinstance\u001b[39m(i, \u001b[38;5;28mlist\u001b[39m) \u001b[38;5;28;01mfor\u001b[39;00m i \u001b[38;5;129;01min\u001b[39;00m flattened_list):\n\u001b[0;32m----> 8\u001b[0m     flattened_list \u001b[38;5;241m=\u001b[39m \u001b[38;5;28;43mlist\u001b[39;49m\u001b[43m(\u001b[49m\u001b[43mchain\u001b[49m\u001b[38;5;241;43m.\u001b[39;49m\u001b[43mfrom_iterable\u001b[49m\u001b[43m(\u001b[49m\u001b[43mflattened_list\u001b[49m\u001b[43m)\u001b[49m\u001b[43m)\u001b[49m\n\u001b[1;32m      9\u001b[0m     \u001b[38;5;66;03m# Break the loop if there are no more nested lists\u001b[39;00m\n\u001b[1;32m     10\u001b[0m     \u001b[38;5;28;01mif\u001b[39;00m \u001b[38;5;129;01mnot\u001b[39;00m \u001b[38;5;28many\u001b[39m(\u001b[38;5;28misinstance\u001b[39m(i, \u001b[38;5;28mlist\u001b[39m) \u001b[38;5;28;01mfor\u001b[39;00m i \u001b[38;5;129;01min\u001b[39;00m flattened_list):\n",
      "\u001b[0;31mTypeError\u001b[0m: 'int' object is not iterable"
     ]
    }
   ],
   "source": [
    "from itertools import chain\n",
    "\n",
    "nested_list = [[1, [2, 1, 5], 3], [4, 5, 6], [7, 8, 9]]\n",
    "\n",
    "flattened_list = list(chain(*nested_list))\n",
    "\n",
    "while any(isinstance(i, list) for i in flattened_list):\n",
    "    flattened_list = list(chain.from_iterable(flattened_list))\n",
    "    # Break the loop if there are no more nested lists\n",
    "    if not any(isinstance(i, list) for i in flattened_list):\n",
    "        break\n",
    "\n",
    "final_list = flattened_list\n",
    "print(final_list)\n"
   ]
  },
  {
   "cell_type": "code",
   "execution_count": 15,
   "metadata": {},
   "outputs": [
    {
     "name": "stdout",
     "output_type": "stream",
     "text": [
      "from iterable [1, [2, 1, 5], 3, 4, 5, 6, 7, 8, 9]\n",
      "[1, 2, 1, 5, 3, 4, 5, 6, 7, 8, 9]\n"
     ]
    }
   ],
   "source": [
    "from itertools import chain\n",
    "\n",
    "nested_list = [[1, [2, 1, 5], 3], [4, 5, 6], [7, 8, 9]]\n",
    "\n",
    "flattened_list = list(chain(*nested_list))\n",
    "\n",
    "while any(isinstance(i, list) for i in flattened_list):\n",
    "    flattened_list = [item if not isinstance(item, list) else item for sublist in flattened_list for item in (sublist if isinstance(sublist, list) else [sublist])]\n",
    "f=list(chain.from_iterable(nested_list))\n",
    "print(\"from iterable\",f)\n",
    "final_list = flattened_list\n",
    "print(final_list)\n"
   ]
  },
  {
   "cell_type": "code",
   "execution_count": 20,
   "metadata": {},
   "outputs": [
    {
     "name": "stdout",
     "output_type": "stream",
     "text": [
      "key not present\n"
     ]
    }
   ],
   "source": [
    "d={1:\"a\",2:\"b\",3:\"c\"}\n",
    "def iskey(k):\n",
    "    if k in d:\n",
    "        print(\"key already present\")\n",
    "    else:\n",
    "        print(\"key not present\")\n",
    "iskey(5)\n",
    "    \n",
    "    \n",
    "        "
   ]
  },
  {
   "cell_type": "code",
   "execution_count": 38,
   "metadata": {},
   "outputs": [
    {
     "name": "stdout",
     "output_type": "stream",
     "text": [
      "1:3\n",
      "2:d\n",
      "3:b\n",
      "{1: '3', 2: 'd', 3: 'b'}\n"
     ]
    }
   ],
   "source": [
    "d={}\n",
    "for i in range(3):\n",
    "    k,val=input().split(\":\")\n",
    "    d.update({int(k):val})\n",
    "print(d)\n",
    "    "
   ]
  },
  {
   "cell_type": "code",
   "execution_count": 12,
   "metadata": {},
   "outputs": [
    {
     "name": "stdout",
     "output_type": "stream",
     "text": [
      "{1: 10, 2: 20, 3: 30, 4: 40}\n",
      "1=>10\n",
      "2=>20\n"
     ]
    }
   ],
   "source": [
    "a={1:10,2:20}\n",
    "b={3:30,4:40}\n",
    "d={**a,**b}\n",
    "print(d)\n",
    "for k,v in a.items():\n",
    "    print(k,v,sep=\"=>\")"
   ]
  },
  {
   "cell_type": "code",
   "execution_count": 27,
   "metadata": {},
   "outputs": [
    {
     "name": "stdout",
     "output_type": "stream",
     "text": [
      "5\n",
      "{1: 1, 2: 4, 3: 9, 4: 16, 5: 25}\n"
     ]
    }
   ],
   "source": [
    "# n=int(input())\n",
    "d={}\n",
    "n=int(input())\n",
    "for i in range(1,n+1):\n",
    "       d[i]=i*i\n",
    "print(d)"
   ]
  },
  {
   "cell_type": "code",
   "execution_count": 161,
   "metadata": {},
   "outputs": [
    {
     "name": "stdout",
     "output_type": "stream",
     "text": [
      "1:2\n",
      "2:3\n",
      "[[1, 4], [2, 9]]\n",
      "((1, 4), (2, 9))\n",
      "{1: 4, 2: 9}\n"
     ]
    }
   ],
   "source": [
    "d={}\n",
    "for i in range(2):\n",
    "    k,val=input().split(\":\")\n",
    "    d[int(k)]=int(val)\n",
    "v=list([k,val**2] for k ,val in d.items())\n",
    "v2=tuple((k,val**2) for k ,val in d.items())\n",
    "v3=dict((k,val**2) for k ,val in d.items())\n",
    "print(v)\n",
    "print(v2)\n",
    "print(v3)"
   ]
  },
  {
   "cell_type": "code",
   "execution_count": 55,
   "metadata": {},
   "outputs": [
    {
     "name": "stdout",
     "output_type": "stream",
     "text": [
      "{1: 1, 2: 4, 3: 9, 4: 16, 5: 25, 6: 36, 7: 49, 8: 64, 9: 81, 10: 100, 11: 121, 12: 144, 13: 169, 14: 196, 15: 225}\n"
     ]
    }
   ],
   "source": [
    "d={}\n",
    "for i in range(1,16):\n",
    "    d[i]=i*i\n",
    "print(d)"
   ]
  },
  {
   "cell_type": "code",
   "execution_count": 20,
   "metadata": {},
   "outputs": [
    {
     "name": "stdout",
     "output_type": "stream",
     "text": [
      "11\n",
      "11\n"
     ]
    }
   ],
   "source": [
    "\n",
    "d={1:2,2:3,3:4,1:4}\n",
    "s=0\n",
    "for val in d.values():\n",
    "    s+=val\n",
    "print(s)\n",
    "r=sum(d.values())\n",
    "print(r)\n"
   ]
  },
  {
   "cell_type": "code",
   "execution_count": 25,
   "metadata": {},
   "outputs": [
    {
     "name": "stdout",
     "output_type": "stream",
     "text": [
      "Counter({3: 600, 2: 400, 1: 300})\n"
     ]
    }
   ],
   "source": [
    "from collections import Counter\n",
    "lis=[{\"k\":1,\"v\":200},{\"k\":2,\"v\":400},{\"k\":1,\"v\":100},{\"k\":3,\"v\":600}]\n",
    "res=Counter()\n",
    "for d in lis:\n",
    "    res[d[\"k\"]]+=d[\"v\"]\n",
    "print(res)\n"
   ]
  },
  {
   "cell_type": "code",
   "execution_count": 29,
   "metadata": {},
   "outputs": [
    {
     "name": "stdout",
     "output_type": "stream",
     "text": [
      "defaultdict(<class 'int'>, {1: 1, 2: 1, 3: 1, 6: 1})\n"
     ]
    }
   ],
   "source": [
    "#if we want to count occurences of key value pairs\n",
    "from collections import defaultdict\n",
    "d={1:2,2:3,3:5,1:4,6:7}\n",
    "res=defaultdict(int)\n",
    "for k in d.keys():\n",
    "    res[k]+=1\n",
    "print(res)"
   ]
  },
  {
   "cell_type": "code",
   "execution_count": 19,
   "metadata": {},
   "outputs": [
    {
     "name": "stdout",
     "output_type": "stream",
     "text": [
      "defaultdict(<class 'int'>, {1: 1, 2: 1, 3: 1, 6: 1})\n"
     ]
    }
   ],
   "source": [
    "from collections import defaultdict\n",
    "\n",
    "d = {1: 2, 2: 3, 3: 5, 1: 4, 6: 7}\n",
    "res = defaultdict(int)\n",
    "\n",
    "for k in d:\n",
    "    res[k] += 1\n",
    "\n",
    "print(res)\n",
    "\n"
   ]
  },
  {
   "cell_type": "code",
   "execution_count": 47,
   "metadata": {},
   "outputs": [
    {
     "name": "stdout",
     "output_type": "stream",
     "text": [
      "w3resourses\n",
      "{'w': 1, '3': 1, 'r': 2, 'e': 2, 's': 3, 'o': 1, 'u': 1}\n"
     ]
    }
   ],
   "source": [
    "from collections import Counter\n",
    "st=input()\n",
    "res=Counter(st)\n",
    "print(dict(res))\n"
   ]
  },
  {
   "cell_type": "code",
   "execution_count": 48,
   "metadata": {},
   "outputs": [
    {
     "name": "stdout",
     "output_type": "stream",
     "text": [
      "chandana\n",
      "{'c': 1, 'h': 1, 'a': 3, 'n': 2, 'd': 1}\n"
     ]
    }
   ],
   "source": [
    "st=input()\n",
    "count={}\n",
    "for c in st:\n",
    "    count[c]=count.get(c,0)+1\n",
    "print(count)"
   ]
  },
  {
   "cell_type": "code",
   "execution_count": 96,
   "metadata": {},
   "outputs": [
    {
     "name": "stdout",
     "output_type": "stream",
     "text": [
      "{'a': 1, 'z': 2, 'f': 8, 'c': 10}\n",
      "{'a': 1, 'c': 10, 'f': 8, 'z': 2}\n",
      "[(1, 'a'), (2, 'y'), (3, 'k'), (5, 'z'), (9, 'd')]\n",
      "[(1, 'a'), (9, 'd'), (3, 'k'), (2, 'y'), (5, 'z')]\n"
     ]
    }
   ],
   "source": [
    "d={\"a\":1,\"f\":8,\"c\":10,\"z\":2}\n",
    "d2={1:\"a\",2:\"y\",9:\"d\",3:\"k\",5:\"z\"}\n",
    "s=dict(sorted(d.items(),key=lambda i:i[1]))\n",
    "s2=dict(sorted(d.items()))\n",
    "sor=sorted(d2.items())\n",
    "sor2=sorted(d2.items(),key=lambda x:x[1])\n",
    "print(s)\n",
    "print(s2)\n",
    "print(sor)\n",
    "print(sor2)"
   ]
  },
  {
   "cell_type": "code",
   "execution_count": 56,
   "metadata": {},
   "outputs": [
    {
     "name": "stdout",
     "output_type": "stream",
     "text": [
      "c1 c2 c3\n",
      "1 4 1\n",
      "2 5 5\n",
      "3 6 6\n"
     ]
    }
   ],
   "source": [
    "#table format\n",
    "dic={\"c1\":[1,2,3],\"c2\":[4,5,6],\"c3\":[1,5,6]}\n",
    "for i in zip(*([key]+(val) for key,val in dic.items())):\n",
    "    print(*i)"
   ]
  },
  {
   "cell_type": "code",
   "execution_count": 73,
   "metadata": {},
   "outputs": [
    {
     "name": "stdout",
     "output_type": "stream",
     "text": [
      "1\n",
      "2\n",
      "3\n",
      "4\n",
      "5\n",
      "('1', '2', '3', '4', '5')\n",
      "(1, 'chandu', 'sravan', 1.6, 0.999878)\n"
     ]
    }
   ],
   "source": [
    "l=[]\n",
    "for i in range(1,5+1):\n",
    "    inp=input()\n",
    "    l.append(inp)\n",
    "print(tuple(l))\n",
    "t=(1,\"chandu\",\"sravan\",1.6,0.999878)\n",
    "print(t)\n"
   ]
  },
  {
   "cell_type": "code",
   "execution_count": 23,
   "metadata": {},
   "outputs": [
    {
     "name": "stdout",
     "output_type": "stream",
     "text": [
      "(5,)\n",
      "(9, 5, 6, 7)\n",
      "27\n",
      "(3, 5, 'sravan', 'chandu', False, True, 9, 5, 6, 7)\n",
      "9 \n",
      "\n",
      "ITERATING\n",
      "3\n",
      "5\n",
      "sravan\n",
      "chandu\n",
      "False\n",
      "True\n",
      "9\n",
      "5\n",
      "6\n",
      "7\n",
      "sravan 2 pos\n",
      "3 1\n",
      "5 2\n",
      "sravan 1\n",
      "chandu 1\n",
      "False 1\n",
      "True 1\n",
      "9 1\n",
      "5 2\n",
      "6 1\n",
      "7 1\n"
     ]
    }
   ],
   "source": [
    "t=5,\n",
    "print(t)\n",
    "t1=9,5,6,7,\n",
    "print(t1)\n",
    "x,y,z,e=t1#unpack tuple to variables\n",
    "print(x+y+z+e)\n",
    "t3=(3,5,'sravan',\"chandu\",False,True)\n",
    "t3+=t1\n",
    "print(t3)\n",
    "print(t3[-4],\"\\n\")\n",
    "print(\"ITERATING\")\n",
    "for i in range(len(t3)):\n",
    "    print(t3[i])\n",
    "print(\"sravan\",t3.index(\"sravan\"),\"pos\")\n",
    "for i in range(len(t3)):\n",
    "    c=t3.count(t3[i]) \n",
    "    print(t3[i],c)\n"
   ]
  },
  {
   "cell_type": "code",
   "execution_count": 118,
   "metadata": {},
   "outputs": [
    {
     "name": "stdout",
     "output_type": "stream",
     "text": [
      "original (1, 3, 'True', False, -5, 'subbu', 'sravan', 'chandu')\n",
      "copies (1, 3, 2.3, False, -5, 'subbu', 'sravan', 'chandu')\n",
      "deep copied (1, 3, 2.3, False, -5, 'subbu', 'sravan', 'chandu')\n"
     ]
    }
   ],
   "source": [
    "import copy\n",
    "t=(1,3,2.3,False,-5,\"subbu\",\"sravan\",\"chandu\")\n",
    "cop=copy.copy(t)\n",
    "deepc=copy.deepcopy(t)\n",
    "l2=list(t)\n",
    "l2[2]=\"True\"\n",
    "t=tuple(l2)\n",
    "print(\"original\",t)\n",
    "print(\"copies\",cop)\n",
    "print(\"deep copied\",deepc)"
   ]
  },
  {
   "cell_type": "code",
   "execution_count": 119,
   "metadata": {},
   "outputs": [
    {
     "name": "stdout",
     "output_type": "stream",
     "text": [
      "Original Tuple: (1, [99, 3], {'a': 4})\n",
      "Shallow Copied Tuple: (1, [99, 3], {'a': 4})\n",
      "Deep Copied Tuple: (1, [2, 3], {'a': 4})\n"
     ]
    }
   ],
   "source": [
    "import copy\n",
    "\n",
    "original_tuple = (1, [2, 3], {'a': 4})\n",
    "\n",
    "# Shallow copy (default behavior for tuples)\n",
    "shallow_copied_tuple = copy.copy(original_tuple)\n",
    "\n",
    "# Deep copy (not necessary for tuples, but shown for illustration)\n",
    "deep_copied_tuple = copy.deepcopy(original_tuple)\n",
    "\n",
    "# Modify the original tuple to demonstrate immutability\n",
    "# Note: This will only affect the list inside the tuple, not the tuple itself\n",
    "original_tuple[1][0] = 99\n",
    "\n",
    "# Display the original and copied tuples\n",
    "print(\"Original Tuple:\", original_tuple)\n",
    "print(\"Shallow Copied Tuple:\", shallow_copied_tuple)\n",
    "print(\"Deep Copied Tuple:\", deep_copied_tuple)\n"
   ]
  },
  {
   "cell_type": "code",
   "execution_count": 23,
   "metadata": {},
   "outputs": [
    {
     "name": "stdout",
     "output_type": "stream",
     "text": [
      "(1, 'a')\n",
      "(1, 2, 4, 1, 5, 1, 'v', 'a')\n",
      "{0: 1, 1: 2, 2: 4, 3: 1, 4: 5, 5: 1, 6: 'v', 7: 'a'}\n",
      "[(0, 1), (1, 2), (2, 4), (3, 1), (4, 5), (5, 1), (6, 'v'), (7, 'a')]\n",
      "('a', 'v', 1, 5, 1, 4, 2, 1)\n"
     ]
    }
   ],
   "source": [
    "t=(1,2,4,1,5,7,1,\"a\",\"v\",\"a\")\n",
    "l=[]\n",
    "for i in t:\n",
    "    if t.count(i)>1:\n",
    "        l.append(i)\n",
    "print(tuple(set(l)))\n",
    "l2=list(t)\n",
    "l2.remove(7)\n",
    "del l2[6]\n",
    "t=tuple(l2)\n",
    "print(t)\n",
    "d=dict((i,x) for i,x in enumerate(t))\n",
    "d2=list((i,x) for i,x in enumerate(t))\n",
    "print(d)\n",
    "print(d2)\n",
    "rev=t[::-1]\n",
    "print(rev)"
   ]
  },
  {
   "cell_type": "code",
   "execution_count": 12,
   "metadata": {},
   "outputs": [
    {
     "name": "stdout",
     "output_type": "stream",
     "text": [
      "chandana\n",
      "0\n"
     ]
    }
   ],
   "source": [
    "s=input()\n",
    "for i in range(len(s)):\n",
    "    if s.count(s[i])==1:\n",
    "        print(i)\n",
    "        break"
   ]
  },
  {
   "cell_type": "code",
   "execution_count": 96,
   "metadata": {},
   "outputs": [
    {
     "name": "stdout",
     "output_type": "stream",
     "text": [
      "[3, 5, 7]\n",
      "12 3\n",
      "2 5 7\n",
      "13 6 8\n",
      "[(12, 3), (2, 5, 7), (13, 6, 8)]\n",
      "[15, 14, 27]\n"
     ]
    }
   ],
   "source": [
    "l=[(1, 2), (2, 3), (3, 4)]\n",
    "s=[]\n",
    "for x in range(len(l)):\n",
    "    if isinstance(l[x],tuple):\n",
    "        s.append(l[x][0]+l[x][1])\n",
    "print(s)\n",
    "#another method optimised\\\n",
    "\n",
    "lis=[]\n",
    "for _ in range(3):\n",
    "    t=tuple(map(int,input().split()))\n",
    "    lis.append(t)\n",
    "print(lis)\n",
    "res=list(map(sum,lis))\n",
    "print(res)"
   ]
  },
  {
   "cell_type": "code",
   "execution_count": 98,
   "metadata": {},
   "outputs": [
    {
     "name": "stdout",
     "output_type": "stream",
     "text": [
      "[1, 3, 'chandu', 'sravan']\n"
     ]
    },
    {
     "ename": "ValueError",
     "evalue": "list.remove(x): x not in list",
     "output_type": "error",
     "traceback": [
      "\u001b[0;31m---------------------------------------------------------------------------\u001b[0m",
      "\u001b[0;31mValueError\u001b[0m                                Traceback (most recent call last)",
      "Cell \u001b[0;32mIn[98], line 6\u001b[0m\n\u001b[1;32m      4\u001b[0m \u001b[38;5;28;01mfor\u001b[39;00m i \u001b[38;5;129;01min\u001b[39;00m l:\n\u001b[1;32m      5\u001b[0m     \u001b[38;5;28;01mif\u001b[39;00m i:\n\u001b[0;32m----> 6\u001b[0m         \u001b[43ml\u001b[49m\u001b[38;5;241;43m.\u001b[39;49m\u001b[43mremove\u001b[49m\u001b[43m(\u001b[49m\u001b[38;5;241;43m3\u001b[39;49m\u001b[43m)\u001b[49m\n\u001b[1;32m      7\u001b[0m s\u001b[38;5;241m=\u001b[39m\u001b[38;5;28mset\u001b[39m(l)\n\u001b[1;32m      8\u001b[0m \u001b[38;5;28mprint\u001b[39m(s)\n",
      "\u001b[0;31mValueError\u001b[0m: list.remove(x): x not in list"
     ]
    }
   ],
   "source": [
    "s={1,3,\"chandu\",\"sravan\"}\n",
    "l=list(s)\n",
    "print(l)\n",
    "for i in l:\n",
    "    if i:\n",
    "        l.remove(3)\n",
    "s=set(l)\n",
    "print(s)\n",
    "        \n"
   ]
  },
  {
   "cell_type": "code",
   "execution_count": 24,
   "metadata": {},
   "outputs": [
    {
     "name": "stdout",
     "output_type": "stream",
     "text": [
      "[[1, 'a'], [2, 'b'], [3, 'c'], [4, 'd']]\n",
      "[(1, 'a'), (2, 'b'), (3, 'c'), (4, 'd')]\n"
     ]
    }
   ],
   "source": [
    "list1 = [1, 2, 3, 4]\n",
    "list2 = ['a', 'b', 'c', 'd']\n",
    "\n",
    "result = list(zip(list1, list2))\n",
    "li=[list(pair) for pair in result]\n",
    "\n",
    "print(li)\n",
    "print(result)"
   ]
  },
  {
   "cell_type": "code",
   "execution_count": 18,
   "metadata": {},
   "outputs": [
    {
     "name": "stdout",
     "output_type": "stream",
     "text": [
      "('p', 'p', 'p', 'p', 'b', 'b')\n"
     ]
    }
   ],
   "source": [
    "import collections\n",
    "c=collections.Counter(p=4,b=2)\n",
    "print(tuple(c.elements()))\n"
   ]
  },
  {
   "cell_type": "code",
   "execution_count": 25,
   "metadata": {},
   "outputs": [
    {
     "name": "stdout",
     "output_type": "stream",
     "text": [
      "list of dictionaries:  [{'s': 4}, {'e': 3}, {'f': 3}]\n",
      "list of tuples:  [('s', 4), ('e', 3), ('f', 3)]\n",
      "USING BUILTIN [('s', 4), ('e', 3), ('f', 3)]\n",
      "[(' ', 70), ('n', 41), ('e', 39), ('o', 37), ('t', 36), ('r', 31), ('a', 30), ('h', 21), ('i', 17), ('d', 16), ('s', 15), ('c', 14), ('l', 14), ('p', 13), ('u', 11), ('y', 10), ('g', 10), ('P', 8), ('f', 7), ('\\n', 7), ('m', 7), ('w', 5), ('.', 4), ('(', 3), (')', 3), ('S', 2), ('F', 2), ('1', 2), ('b', 2), ('W', 2)]\n",
      "[('the', 6), ('Python', 5), ('and', 5), ('We', 2), ('with', 2), ('The', 1), ('Software', 1), ('Foundation', 1), ('(PSF)', 1), ('is', 1)]\n"
     ]
    }
   ],
   "source": [
    "import collections\n",
    "st=\"lkseropewdssafsdfafkpwe\"\n",
    "res=collections.Counter(st)\n",
    "l=[]\n",
    "l2=[]\n",
    "for i,v in res.items():\n",
    "    if v>=3:\n",
    "        l.append({i:v})\n",
    "        l2.append((i,v))\n",
    "print(\"list of dictionaries: \",l)\n",
    "print(\"list of tuples: \",l2)\n",
    "#another method using built in most_common\n",
    "res2=collections.Counter(st).most_common(3)\n",
    "print(\"USING BUILTIN\", res2)\n",
    "\n",
    "text=\"\"\"The Python Software Foundation (PSF) is a 501(c)(3) non-profit \n",
    "corporation that holds the intellectual property rights behind\n",
    "the Python programming language. We manage the open source licensing \n",
    "for Python version 2.1 and later and own and protect the trademarks \n",
    "associated with Python. We also run the North American PyCon conference \n",
    "annually, support other Python conferences around the world, and \n",
    "fund Python related development with our grants program and by funding \n",
    "special projects.\"\"\"\n",
    "t=text.split( )\n",
    "r=collections.Counter(t).most_common(10)\n",
    "re=collections.Counter(text).most_common(30)\n",
    "print(re)\n",
    "print(r)\n"
   ]
  },
  {
   "cell_type": "code",
   "execution_count": 26,
   "metadata": {},
   "outputs": [],
   "source": [
    "from collections import deque\n"
   ]
  },
  {
   "cell_type": "code",
   "execution_count": 39,
   "metadata": {},
   "outputs": [
    {
     "name": "stdout",
     "output_type": "stream",
     "text": [
      "A B C D E F G H I J K L M N O P Q R S T U V W X Y Z "
     ]
    }
   ],
   "source": [
    "start=\"A\"\n",
    "end=\"Z\"\n",
    "for i in range(ord(start),ord(end)+1):\n",
    "    print(chr(i),end=\" \")"
   ]
  },
  {
   "cell_type": "code",
   "execution_count": 56,
   "metadata": {},
   "outputs": [
    {
     "name": "stdout",
     "output_type": "stream",
     "text": [
      "5\n",
      "red\n",
      "blue\n",
      "red\n",
      "green\n",
      "orange\n",
      "4\n",
      "2 1 1 1 "
     ]
    }
   ],
   "source": [
    "import collections\n",
    "n=int(input())\n",
    "l=[]\n",
    "for i in range(n):\n",
    "    word=input()\n",
    "    l.append(word)\n",
    "r=collections.Counter(l)\n",
    "dist=len(set(l))\n",
    "print(dist)\n",
    "for i in r:\n",
    "    print(r[i],end=\" \")"
   ]
  },
  {
   "cell_type": "code",
   "execution_count": 67,
   "metadata": {},
   "outputs": [
    {
     "name": "stdout",
     "output_type": "stream",
     "text": [
      "enter no of subs:2\n",
      "enter sub and marks:eng 23\n",
      "enter sub and marks:math 34\n",
      "eng 23\n",
      "math 34\n"
     ]
    }
   ],
   "source": [
    "n=int(input(\"enter no of subs:\"))\n",
    "d={}\n",
    "for i in range(n):\n",
    "    sub,mar=input(\"enter sub and marks:\").split( )\n",
    "    d.update({sub:int(mar)})\n",
    "for i,v in d.items():\n",
    "    print(i,v)"
   ]
  },
  {
   "cell_type": "markdown",
   "metadata": {},
   "source": [
    "# DEQUE"
   ]
  },
  {
   "cell_type": "code",
   "execution_count": 27,
   "metadata": {},
   "outputs": [
    {
     "name": "stdout",
     "output_type": "stream",
     "text": [
      "a\n",
      "e\n",
      "i\n",
      "o\n",
      "u\n",
      " deque(['Red', 'Green', 'White'])\n",
      "adding left\n",
      " deque(['Pink', 'Red', 'Green', 'White'])\n",
      "adding right\n",
      " deque(['Pink', 'Red', 'Green', 'White', 'Orange'])\n",
      "removing left\n",
      " deque(['Red', 'Green', 'White', 'Orange'])\n",
      "removing right\n",
      " deque(['Red', 'Green', 'White'])\n",
      "reverse  deque(['White', 'Green', 'Red'])\n",
      "rotate deque(['Green', 'Red', 'White'])\n",
      "deque([2, 4, 6, 8, 10])\n",
      "7\n",
      "deque([2, 4, 6, 8, 10, 2, 4, 6])\n",
      "8\n",
      "deque([])\n",
      "0\n",
      "de id 139922046345824 \n",
      "de2 id 139921739614336\n",
      "deque(['Green', 'Red', 'White'])\n",
      "shallow copy\n",
      "id1 139922072027568 \n",
      " id2 139922072027568\n",
      "no of 1 3\n",
      "no of 3 2\n"
     ]
    }
   ],
   "source": [
    "from collections import deque\n",
    "d=deque(\"aeiou\")\n",
    "for i in d:\n",
    "    print(i)\n",
    "de=deque(['Red', 'Green', 'White'])\n",
    "print(\"\",de)\n",
    "de.appendleft(\"Pink\")\n",
    "print(\"adding left\\n\",de)\n",
    "de.append(\"Orange\")\n",
    "print(\"adding right\\n\",de)\n",
    "de.popleft()\n",
    "print(\"removing left\\n\",de)\n",
    "de.pop()\n",
    "print(\"removing right\\n\",de)\n",
    "de.reverse()\n",
    "print(\"reverse \",de)\n",
    "de.rotate(2)#shift from current towards right n positions\n",
    "print(\"rotate\",de)\n",
    "evend=deque([i for i in range(1,10+1) if i%2==0 ])\n",
    "print(evend)\n",
    "n=int(input())\n",
    "evend.extend(i for i in range(1,n+1) if i%2==0)\n",
    "print(evend)\n",
    "print(len(evend))\n",
    "evend.clear()\n",
    "print(evend)\n",
    "print(len(evend))\n",
    "de2=de.copy()\n",
    "print(\"de id\",id(de),\"\\nde2 id\",id(de2))\n",
    "print(de2)\n",
    "print(\"shallow copy\")\n",
    "print(\"id1\",id(de[0]),\"\\n id2\",id(de2[0]))\n",
    "lis=[1,2,4,1,6,2,7,9,3,9,2,3,1,4]\n",
    "de=deque(lis)\n",
    "print(\"no of 1\",de.count(1))\n",
    "print(\"no of 3\",de.count(3))\n"
   ]
  },
  {
   "cell_type": "code",
   "execution_count": 28,
   "metadata": {},
   "outputs": [
    {
     "ename": "KeyboardInterrupt",
     "evalue": "Interrupted by user",
     "output_type": "error",
     "traceback": [
      "\u001b[0;31m---------------------------------------------------------------------------\u001b[0m",
      "\u001b[0;31mKeyboardInterrupt\u001b[0m                         Traceback (most recent call last)",
      "Cell \u001b[0;32mIn[28], line 1\u001b[0m\n\u001b[0;32m----> 1\u001b[0m n\u001b[38;5;241m=\u001b[39m\u001b[38;5;28mint\u001b[39m(\u001b[38;5;28;43minput\u001b[39;49m\u001b[43m(\u001b[49m\u001b[38;5;124;43m\"\u001b[39;49m\u001b[38;5;124;43mInput number of students:\u001b[39;49m\u001b[38;5;124;43m\"\u001b[39;49m\u001b[43m)\u001b[49m)\n\u001b[1;32m      2\u001b[0m l\u001b[38;5;241m=\u001b[39m[]\n\u001b[1;32m      3\u001b[0m \u001b[38;5;28;01mfor\u001b[39;00m i \u001b[38;5;129;01min\u001b[39;00m \u001b[38;5;28mrange\u001b[39m(n):\n",
      "File \u001b[0;32m~/anaconda3/lib/python3.10/site-packages/ipykernel/kernelbase.py:1175\u001b[0m, in \u001b[0;36mKernel.raw_input\u001b[0;34m(self, prompt)\u001b[0m\n\u001b[1;32m   1171\u001b[0m \u001b[38;5;28;01mif\u001b[39;00m \u001b[38;5;129;01mnot\u001b[39;00m \u001b[38;5;28mself\u001b[39m\u001b[38;5;241m.\u001b[39m_allow_stdin:\n\u001b[1;32m   1172\u001b[0m     \u001b[38;5;28;01mraise\u001b[39;00m StdinNotImplementedError(\n\u001b[1;32m   1173\u001b[0m         \u001b[38;5;124m\"\u001b[39m\u001b[38;5;124mraw_input was called, but this frontend does not support input requests.\u001b[39m\u001b[38;5;124m\"\u001b[39m\n\u001b[1;32m   1174\u001b[0m     )\n\u001b[0;32m-> 1175\u001b[0m \u001b[38;5;28;01mreturn\u001b[39;00m \u001b[38;5;28;43mself\u001b[39;49m\u001b[38;5;241;43m.\u001b[39;49m\u001b[43m_input_request\u001b[49m\u001b[43m(\u001b[49m\n\u001b[1;32m   1176\u001b[0m \u001b[43m    \u001b[49m\u001b[38;5;28;43mstr\u001b[39;49m\u001b[43m(\u001b[49m\u001b[43mprompt\u001b[49m\u001b[43m)\u001b[49m\u001b[43m,\u001b[49m\n\u001b[1;32m   1177\u001b[0m \u001b[43m    \u001b[49m\u001b[38;5;28;43mself\u001b[39;49m\u001b[38;5;241;43m.\u001b[39;49m\u001b[43m_parent_ident\u001b[49m\u001b[43m[\u001b[49m\u001b[38;5;124;43m\"\u001b[39;49m\u001b[38;5;124;43mshell\u001b[39;49m\u001b[38;5;124;43m\"\u001b[39;49m\u001b[43m]\u001b[49m\u001b[43m,\u001b[49m\n\u001b[1;32m   1178\u001b[0m \u001b[43m    \u001b[49m\u001b[38;5;28;43mself\u001b[39;49m\u001b[38;5;241;43m.\u001b[39;49m\u001b[43mget_parent\u001b[49m\u001b[43m(\u001b[49m\u001b[38;5;124;43m\"\u001b[39;49m\u001b[38;5;124;43mshell\u001b[39;49m\u001b[38;5;124;43m\"\u001b[39;49m\u001b[43m)\u001b[49m\u001b[43m,\u001b[49m\n\u001b[1;32m   1179\u001b[0m \u001b[43m    \u001b[49m\u001b[43mpassword\u001b[49m\u001b[38;5;241;43m=\u001b[39;49m\u001b[38;5;28;43;01mFalse\u001b[39;49;00m\u001b[43m,\u001b[49m\n\u001b[1;32m   1180\u001b[0m \u001b[43m\u001b[49m\u001b[43m)\u001b[49m\n",
      "File \u001b[0;32m~/anaconda3/lib/python3.10/site-packages/ipykernel/kernelbase.py:1217\u001b[0m, in \u001b[0;36mKernel._input_request\u001b[0;34m(self, prompt, ident, parent, password)\u001b[0m\n\u001b[1;32m   1214\u001b[0m             \u001b[38;5;28;01mbreak\u001b[39;00m\n\u001b[1;32m   1215\u001b[0m \u001b[38;5;28;01mexcept\u001b[39;00m \u001b[38;5;167;01mKeyboardInterrupt\u001b[39;00m:\n\u001b[1;32m   1216\u001b[0m     \u001b[38;5;66;03m# re-raise KeyboardInterrupt, to truncate traceback\u001b[39;00m\n\u001b[0;32m-> 1217\u001b[0m     \u001b[38;5;28;01mraise\u001b[39;00m \u001b[38;5;167;01mKeyboardInterrupt\u001b[39;00m(\u001b[38;5;124m\"\u001b[39m\u001b[38;5;124mInterrupted by user\u001b[39m\u001b[38;5;124m\"\u001b[39m) \u001b[38;5;28;01mfrom\u001b[39;00m \u001b[38;5;28mNone\u001b[39m\n\u001b[1;32m   1218\u001b[0m \u001b[38;5;28;01mexcept\u001b[39;00m \u001b[38;5;167;01mException\u001b[39;00m:\n\u001b[1;32m   1219\u001b[0m     \u001b[38;5;28mself\u001b[39m\u001b[38;5;241m.\u001b[39mlog\u001b[38;5;241m.\u001b[39mwarning(\u001b[38;5;124m\"\u001b[39m\u001b[38;5;124mInvalid Message:\u001b[39m\u001b[38;5;124m\"\u001b[39m, exc_info\u001b[38;5;241m=\u001b[39m\u001b[38;5;28;01mTrue\u001b[39;00m)\n",
      "\u001b[0;31mKeyboardInterrupt\u001b[0m: Interrupted by user"
     ]
    }
   ],
   "source": [
    "n=int(input(\"Input number of students:\"))\n",
    "l=[]\n",
    "for i in range(n):\n",
    "    name=input(\"name:\")\n",
    "    marks=int(input(\"marks\"))\n",
    "    l.append([name,marks])\n",
    "l.sort(key=lambda x:x[1])\n",
    "print(l[1][1],l[1][0])"
   ]
  },
  {
   "cell_type": "code",
   "execution_count": null,
   "metadata": {},
   "outputs": [],
   "source": []
  },
  {
   "cell_type": "code",
   "execution_count": 134,
   "metadata": {},
   "outputs": [
    {
     "name": "stdout",
     "output_type": "stream",
     "text": [
      "{'R': 'Red', 'B': 'Black', 'P': 'Pink', 'O': 'Orange', 'W': 'White'}\n",
      "{'R': 'Red', 'B': 'Black', 'P': 'Pink', 'O': 'Orange', 'W': 'White'}\n",
      "{'O': 'Orange', 'W': 'White', 'B': 'Black', 'R': 'Red', 'P': 'Pink'}\n"
     ]
    }
   ],
   "source": [
    "#merge dictionaries\n",
    "#method 1\n",
    "import collections as ct\n",
    "d={'R': 'Red', 'B': 'Black', 'P': 'Pink'}\n",
    "d1={'O': 'Orange', 'W': 'White', 'B': 'Black'}\n",
    "d.update(d1)\n",
    "print(d)\n",
    "#method 2\n",
    "d={'R': 'Red', 'B': 'Black', 'P': 'Pink'}\n",
    "d1={'O': 'Orange', 'W': 'White', 'B': 'Black'}\n",
    "d3={**d,**d1}\n",
    "print(d3)\n",
    "merged_dict = dict(ct.ChainMap({}, d,d1))\n",
    "print(merged_dict)"
   ]
  },
  {
   "cell_type": "code",
   "execution_count": 176,
   "metadata": {},
   "outputs": [
    {
     "name": "stdout",
     "output_type": "stream",
     "text": [
      "[1, 2, 1.3, 'chandu', 3, 6, 'sravan']\n",
      "[(2, 5), (6, 3), (1, 3), (3, 2), (8, 2), (4, 2), (9, 2), (7, 1), (5, 1)]\n",
      "most common 2\n",
      "least common 5\n"
     ]
    }
   ],
   "source": [
    "#chainmap\n",
    "import collections as c\n",
    "l1=[1,2,True,1.3,\"chandu\"]\n",
    "l2=[3,6,\"sravan\"]\n",
    "res=list(c.ChainMap([],l2,l1))\n",
    "print(res)\n",
    "l=[2, 3, 8, 4, 7, 9, 8, 2, 6, 5, 1, 6, 1, 2, 3, 2, 4, 6, 9, 1, 2]\n",
    "n=len(set(l))\n",
    "res=c.Counter(l).most_common(n)\n",
    "print(res)\n",
    "print(\"most common\",res[0][0])\n",
    "print(\"least common\",res[-1][0])"
   ]
  },
  {
   "cell_type": "code",
   "execution_count": 169,
   "metadata": {},
   "outputs": [
    {
     "name": "stdout",
     "output_type": "stream",
     "text": [
      "OrderedDict([('color1', 'Red'), ('color2', 'Green'), ('color3', 'Blue')])\n",
      "OrderedDict([('color4', 'Black'), ('color1', 'Red'), ('color2', 'Green'), ('color3', 'Blue')])\n"
     ]
    }
   ],
   "source": [
    "import collections as c\n",
    "dic=c.OrderedDict([('color1', 'Red'), ('color2', 'Green'), ('color3', 'Blue')])\n",
    "print(dic)\n",
    "dic.update({'color4': 'Black'})\n",
    "dic.move_to_end(\"color4\",last=False)\n",
    "print(dic)"
   ]
  },
  {
   "cell_type": "code",
   "execution_count": 32,
   "metadata": {},
   "outputs": [
    {
     "name": "stdout",
     "output_type": "stream",
     "text": [
      "Original list of tuples:\n",
      "[(['1', '4'], ['4', '1'], ['3', '4'], ['2', '7'], ['6', '8'], ['5', '8'], ['6', '8'], ['5', '7'], ['2', '7'])]\n",
      "Counter({('1', '4'): 2, ('2', '7'): 2, ('6', '8'): 2, ('3', '4'): 1, ('5', '8'): 1, ('5', '7'): 1})\n"
     ]
    }
   ],
   "source": [
    "from collections import Counter\n",
    "\n",
    "# Create a list of tuples 'nums' with inner lists of pairs\n",
    "nums = [(['1', '4'], ['4', '1'], ['3', '4'], ['2', '7'], ['6', '8'], ['5', '8'], ['6', '8'], ['5', '7'], ['2', '7'])]\n",
    "\n",
    "# Print a message to indicate the display of the original list of tuples\n",
    "print(\"Original list of tuples:\")\n",
    "\n",
    "# Print the content of 'nums'\n",
    "print(nums)\n",
    "\n",
    "# Use Counter to count the frequency of tuples after sorting them\n",
    "result = Counter(tuple(sorted(i)) for i in nums[0])\n",
    "print(result)\n"
   ]
  },
  {
   "cell_type": "code",
   "execution_count": 33,
   "metadata": {},
   "outputs": [
    {
     "name": "stdout",
     "output_type": "stream",
     "text": [
      "Original list:\n",
      "[('Juan Whelan', 90), ('Sabah Colley', 88), ('Peter Nichols', 7), ('Juan Whelan', 122), ('Sabah Colley', 84)]\n",
      "\n",
      "Maximum aggregate value of the said list of tuple pair:\n",
      "('Juan Whelan', 122)\n"
     ]
    }
   ],
   "source": [
    "# Import the defaultdict class from the collections module\n",
    "from collections import defaultdict\n",
    "\n",
    "# Define a function 'max_aggregate' that finds the maximum aggregate value in a list of tuple pairs\n",
    "def max_aggregate(st_data):\n",
    "    # Create a defaultdict 'temp' to store and aggregate marks for each student\n",
    "    temp = defaultdict(int)\n",
    "    \n",
    "    # Loop through the list of tuples 'st_data' containing student names and marks\n",
    "    for name, marks in st_data:\n",
    "        # Update the 'temp' dictionary to aggregate the marks for each student\n",
    "        temp[name] = marks\n",
    "    \n",
    "    # Find the student with the maximum aggregate using 'max' and a key function\n",
    "    return max(temp.items(), key=lambda x: x[1])\n",
    "\n",
    "# Create a list of tuple pairs 'students' with student names and marks\n",
    "students = [('Juan Whelan', 90), ('Sabah Colley', 88), ('Peter Nichols', 7), ('Juan Whelan', 122), ('Sabah Colley', 84)]\n",
    "\n",
    "# Print a message to indicate the display of the original list\n",
    "print(\"Original list:\")\n",
    "\n",
    "# Print the content of 'students'\n",
    "print(students)\n",
    "m\n",
    "# Print a message to indicate the display of the maximum aggregate value\n",
    "print(\"\\nMaximum aggregate value of the said list of tuple pair:\")\n",
    "\n",
    "# Call the 'max_aggregate' function with 'students' and print the result\n",
    "print(max_aggregate(students)) \n"
   ]
  },
  {
   "cell_type": "code",
   "execution_count": null,
   "metadata": {},
   "outputs": [],
   "source": []
  },
  {
   "cell_type": "code",
   "execution_count": 3,
   "metadata": {},
   "outputs": [
    {
     "name": "stdout",
     "output_type": "stream",
     "text": [
      "['abcd', 'iabhef', 'dsalsdf', 'sdfsas', 'jlkdfgd']\n",
      "Counter({'abcd': 1, 'iabhef': 1, 'dsalsdf': 1, 'sdfsas': 1, 'jlkdfgd': 1})\n",
      "[]\n",
      "['abcd', 'iabhef', 'dsalsdf', 'sdfsas', 'jlkdfgd']\n"
     ]
    }
   ],
   "source": [
    "import collections as c\n",
    "import itertools as il\n",
    "l=['abcd', 'iabhef', 'dsalsdf', 'sdfsas', 'jlkdfgd']\n",
    "r=list(il.chain.(l))\n",
    "print(list(r))\n",
    "count=c.Counter(r)\n",
    "lent_3=[x for x,y in count.items() if y>3]\n",
    "less_3=[x for x,y in count.items() if y<3]\n",
    "print(count)\n",
    "print(lent_3)\n",
    "print(less_3)\n",
    "\n"
   ]
  },
  {
   "cell_type": "code",
   "execution_count": 33,
   "metadata": {},
   "outputs": [
    {
     "name": "stdout",
     "output_type": "stream",
     "text": [
      "Original list:\n",
      "['abcd', 'iabhef', 'dsalsdf', 'sdfsas', 'jlkdfgd']\n",
      "\n",
      "Characters of the said list of strings which occur more than: 3\n",
      "['a', 'd', 'f', 's']\n",
      "\n",
      "Characters of the said list of strings which occur less than: 3\n",
      "['b', 'c', 'i', 'h', 'e', 'l', 'j', 'k', 'g']\n"
     ]
    }
   ],
   "source": [
    "from collections import Counter\n",
    "from itertools import chain\n",
    "\n",
    "def max_aggregate(list_str, N):\n",
    "    # Combine all strings into one and count occurrences of each character\n",
    "    counts = Counter(chain.from_iterable(list_str))\n",
    "    \n",
    "    # Create a list 'gt_N' containing characters occurring more than 'N' times\n",
    "    gt_N = [char for char, count in counts.items() if count > N]\n",
    "    \n",
    "    # Create a list 'lt_N' containing characters occurring less than 'N' times\n",
    "    lt_N = [char for char, count in counts.items() if count < N]\n",
    "    \n",
    "    return gt_N, lt_N\n",
    "\n",
    "list_str = ['abcd', 'iabhef', 'dsalsdf', 'sdfsas', 'jlkdfgd']\n",
    "N = 3\n",
    "\n",
    "result = max_aggregate(list_str, N)\n",
    "\n",
    "print(\"Original list:\")\n",
    "print(list_str)\n",
    "\n",
    "print(\"\\nCharacters of the said list of strings which occur more than:\", N)\n",
    "print(result[0])\n",
    "\n",
    "print(\"\\nCharacters of the said list of strings which occur less than:\", N)\n",
    "print(result[1])\n"
   ]
  },
  {
   "cell_type": "code",
   "execution_count": 34,
   "metadata": {},
   "outputs": [
    {
     "name": "stdout",
     "output_type": "stream",
     "text": [
      "Original list:\n",
      "['abcd', 'iabhef', 'dsalsdf', 'sdfsas', 'jlkdfgd']\n",
      "\n",
      "Characters of the said list of strings which occur more than: 3\n",
      "['a', 'd', 'f']\n",
      "\n",
      "Characters of the said list of strings which occur less than: 3\n",
      "['b', 'c', 'h', 'e', 'i', 'l', 's', 'g', 'j', 'k']\n"
     ]
    }
   ],
   "source": [
    "# Import the Counter class from the collections module\n",
    "from collections import Counter \n",
    "\n",
    "# Import the chain function from the itertools module\n",
    "from itertools import chain \n",
    "\n",
    "# Define a function 'max_aggregate' that finds characters occurring more or less than 'N' times in a list of strings\n",
    "def max_aggregate(list_str, N):\n",
    "    # Create a generator 'temp' that converts each string into a set of unique characters\n",
    "    temp = (set(sub) for sub in list_str) \n",
    "    \n",
    "    # Count the occurrences of characters across all sets using Counter and chain them together\n",
    "    counts = Counter(chain.from_iterable(temp)) \n",
    "    \n",
    "    # Create a list 'gt_N' containing characters occurring more than 'N' times\n",
    "    gt_N = [chr for chr, count in counts.items() if count > N]\n",
    "    \n",
    "    # Create a list 'lt_N' containing characters occurring less than 'N' times\n",
    "    lt_N = [chr for chr, count in counts.items() if count < N]\n",
    "    \n",
    "    # Return the characters occurring more and less than 'N' times\n",
    "    return gt_N, lt_N\n",
    "\n",
    "# Create a list of strings 'list_str'\n",
    "list_str = ['abcd', 'iabhef', 'dsalsdf', 'sdfsas', 'jlkdfgd'] \n",
    "\n",
    "# Print a message to indicate the display of the original list\n",
    "print(\"Original list:\")\n",
    "\n",
    "# Print the content of 'list_str'\n",
    "print(list_str)\n",
    "\n",
    "# Define an integer 'N'\n",
    "N = 3\n",
    "\n",
    "# Call the 'max_aggregate' function with 'list_str' and 'N' and store the result in 'result'\n",
    "result = max_aggregate(list_str, N)\n",
    "\n",
    "# Print a message to indicate the display of characters occurring more than 'N' times\n",
    "print(\"\\nCharacters of the said list of strings which occur more than:\", N)\n",
    "\n",
    "# Print the characters from 'result[0]'\n",
    "print(result[0])\n",
    "\n",
    "# Print a message to indicate the display of characters occurring less than 'N' times\n",
    "print(\"\\nCharacters of the said list of strings which occur less than:\", N)\n",
    "\n",
    "# Print the characters from 'result[1]'\n",
    "print(result[1]) \n"
   ]
  },
  {
   "cell_type": "code",
   "execution_count": 42,
   "metadata": {},
   "outputs": [
    {
     "name": "stdout",
     "output_type": "stream",
     "text": [
      "[3, 3, 4, 7]\n",
      "[1, 1, 2, 3, 3, 4, 4, 5, 6, 7]\n",
      "[1, 2, 3, 4, 5, 6, 7]\n"
     ]
    }
   ],
   "source": [
    "l1 = [1, 1, 2, 3, 3, 4, 4, 5, 6, 7]\n",
    "l2 = [1, 1, 2, 4, 5, 6]\n",
    "c1=c.Counter(l1)\n",
    "c2=c.Counter(l2)\n",
    "d=c1-c2\n",
    "print(list(d.elements()))\n",
    "print(list(c1.elements()))\n",
    "print(list(c1))"
   ]
  },
  {
   "cell_type": "code",
   "execution_count": 51,
   "metadata": {},
   "outputs": [
    {
     "name": "stdout",
     "output_type": "stream",
     "text": [
      "Python Exercises Practice Solution "
     ]
    }
   ],
   "source": [
    "s=\"Python Exercises Practice Solution Exercises Python Practice\"\n",
    "st=s.split()\n",
    "words=list(c.Counter(st))\n",
    "for i in words:\n",
    "    print(i,end=\" \")"
   ]
  },
  {
   "cell_type": "code",
   "execution_count": 3,
   "metadata": {},
   "outputs": [
    {
     "name": "stdout",
     "output_type": "stream",
     "text": [
      "[('yellow', [1, 3]), ('blue', [2, 4]), ('red', [1])]\n"
     ]
    }
   ],
   "source": [
    "import collections as c\n",
    "l=[('yellow', 1), ('blue', 2), ('yellow', 3), ('blue', 4), ('red', 1)]\n",
    "init=c.defaultdict(list)\n",
    "for k,v in l:\n",
    "    init[k].append(v)\n",
    "res=[(k,v) for k,v in init.items()]\n",
    "print(res)\n",
    "l2=[('v', 1), ('vi', 2), ('v', 3), ('vi', 4), ('vii', 1)]\n",
    "default=c.defaultdict(list)\n",
    "for k,v in l2:\n",
    "    default[k].append(v)\n"
   ]
  },
  {
   "cell_type": "code",
   "execution_count": 70,
   "metadata": {},
   "outputs": [
    {
     "name": "stdout",
     "output_type": "stream",
     "text": [
      "Counter({2: 3, 1: 2, 5: 2, 3: 1, 4: 1, 6: 1, 7: 1, 9: 1})\n"
     ]
    }
   ],
   "source": [
    "l=[[1, 2, 3, 2], [4, 5, 6, 2], [7, 1, 9, 5]]\n",
    "ind=list(il.chain.from_iterable(l))\n",
    "c=c.Counter(ind)\n",
    "print(c)\n"
   ]
  },
  {
   "cell_type": "code",
   "execution_count": 87,
   "metadata": {},
   "outputs": [
    {
     "name": "stdout",
     "output_type": "stream",
     "text": [
      "Afghanistan 93\n",
      "Albania 355\n",
      "Algeria 213\n",
      "Andorra 376\n",
      "Angola 244\n",
      "\n",
      "\n",
      "Angola 244\n",
      "Andorra 376\n",
      "Algeria 213\n",
      "Albania 355\n",
      "Afghanistan 93\n"
     ]
    }
   ],
   "source": [
    "d={'Afghanistan': 93, 'Albania': 355, 'Algeria': 213, 'Andorra': 376, 'Angola': 244}\n",
    "s=dict(sorted(d.items()))\n",
    "for k,v in s.items():\n",
    "    print(k,v)\n",
    "r=dict(sorted(d.items(),reverse=True))\n",
    "print(\"\\n\")\n",
    "for k,v in r.items():\n",
    "    print(k,v)"
   ]
  },
  {
   "cell_type": "code",
   "execution_count": 91,
   "metadata": {},
   "outputs": [
    {
     "name": "stdout",
     "output_type": "stream",
     "text": [
      "hack 2\n",
      "hack 2\n"
     ]
    }
   ],
   "source": [
    "string,size=input().split()\n",
    "size=int(size)\n",
    "print(string,size)"
   ]
  },
  {
   "cell_type": "code",
   "execution_count": 92,
   "metadata": {},
   "outputs": [
    {
     "name": "stdout",
     "output_type": "stream",
     "text": [
      "hack 2\n",
      "ac\n",
      "ah\n",
      "ak\n",
      "ch\n",
      "ck\n",
      "hk\n"
     ]
    }
   ],
   "source": [
    "from itertools import combinations\n",
    "\n",
    "# Take input for string and size\n",
    "string, size = input().split()\n",
    "size = int(size)\n",
    "\n",
    "# Sort the string\n",
    "sorted_string = \"\".join(sorted(string))\n",
    "\n",
    "# Generate combinations\n",
    "res = combinations(sorted_string, size)\n",
    "\n",
    "# Print each combination as a string\n",
    "for i in res:\n",
    "    print(\"\".join(i))\n"
   ]
  },
  {
   "cell_type": "code",
   "execution_count": 2,
   "metadata": {},
   "outputs": [
    {
     "name": "stdout",
     "output_type": "stream",
     "text": [
      "HACK 2\n",
      "ACHK\n",
      "A\n",
      "C\n",
      "H\n",
      "K\n",
      "AC\n",
      "AH\n",
      "AK\n",
      "CH\n",
      "CK\n",
      "HK\n"
     ]
    }
   ],
   "source": [
    "from itertools import combinations\n",
    "string, size = input().split()\n",
    "size = int(size)\n",
    "\n",
    "s = \"\".join(sorted(string))\n",
    "print(s)\n",
    "res = list(combinations(s, 1))\n",
    "for i in range(1,size):\n",
    "    res += list(combinations(s, i + 1))\n",
    "for i in res:\n",
    "    print(\"\".join(i))\n",
    "    \n",
    "\n"
   ]
  },
  {
   "cell_type": "code",
   "execution_count": 16,
   "metadata": {},
   "outputs": [
    {
     "name": "stdout",
     "output_type": "stream",
     "text": [
      "hack 2\n",
      "AA\n",
      "AC\n",
      "AH\n",
      "AK\n",
      "CC\n",
      "CH\n",
      "CK\n",
      "HH\n",
      "HK\n",
      "KK\n"
     ]
    }
   ],
   "source": [
    "from itertools import combinations_with_replacement\n",
    "s,n=input().split()\n",
    "ss=\"\".join(sorted(s))\n",
    "#ss.upper()\n",
    "string=ss.upper()\n",
    "res=combinations_with_replacement(string,int(n))\n",
    "for i in res:\n",
    "    print(\"\".join(i))\n",
    "   "
   ]
  },
  {
   "cell_type": "code",
   "execution_count": null,
   "metadata": {},
   "outputs": [],
   "source": []
  },
  {
   "cell_type": "code",
   "execution_count": 58,
   "metadata": {},
   "outputs": [
    {
     "name": "stdout",
     "output_type": "stream",
     "text": [
      "This is written textThis is appended text\n",
      "20\n",
      "21\n"
     ]
    }
   ],
   "source": [
    "file=open(\"sample.txt\",\"r\")\n",
    "print(file.read())\n",
    "file2=open(\"sample.txt\",\"w\")\n",
    "print(file2.write(\"This is written text\"))\n",
    "file3=open(\"sample.txt\",\"a\")\n",
    "print(file3.write(\"This is appended text\"))\n",
    "\n"
   ]
  },
  {
   "cell_type": "markdown",
   "metadata": {},
   "source": [
    "# comprehensions\n",
    "\n",
    "[k* k for k in range(1, n+1)] => list  comprehension\n",
    "{ k*k for k in range(1, n+1) } => set comprehension\n",
    "( k *k for k in range(1, n+1) ) =>  generator comprehension\n",
    "{ k : k k for k in range(1, n+1) } => dictionary comprehension\n"
   ]
  },
  {
   "cell_type": "code",
   "execution_count": 20,
   "metadata": {},
   "outputs": [
    {
     "name": "stdout",
     "output_type": "stream",
     "text": [
      "(0, 3)\n"
     ]
    }
   ],
   "source": [
    "print(divmod(3,4))"
   ]
  },
  {
   "cell_type": "code",
   "execution_count": 23,
   "metadata": {
    "scrolled": true
   },
   "outputs": [
    {
     "name": "stdout",
     "output_type": "stream",
     "text": [
      "('name', 'subbu')\n",
      "('age', 21)\n",
      "dict_items([('name', 'subbu'), ('age', 21)])\n",
      "the values of obj are: sravan 26\n",
      "subbu 21 Andhra\n",
      "are not same\n"
     ]
    }
   ],
   "source": [
    "class Sample:\n",
    "    state=\"AP\" #class variable\n",
    "    def __init__(self,name,age):\n",
    "        #instance variable\n",
    "        self.name=name\n",
    "        self.age=age\n",
    "    def display(self):\n",
    "        print(\"the values of obj are:\",self.name,self.age)\n",
    "ob1=Sample(\"chandana\",21)\n",
    "ob2=Sample(\"sravan\",26)\n",
    "ob1.name=\"subbu\"\n",
    "Sample.state=\"Andhra\" #modified using class name\n",
    "\n",
    "for val in ob1.__dict__.items():\n",
    "    print(val)\n",
    "print(ob1.__dict__.items()) #store data in key value (var and value)\n",
    "ob2.display()\n",
    "print(ob1.name,ob1.age,ob1.state)\n",
    "if ob1.name==ob2.name:\n",
    "    print(\"are same\")\n",
    "else:\n",
    "    print(\"are not same\")"
   ]
  },
  {
   "cell_type": "code",
   "execution_count": 6,
   "metadata": {},
   "outputs": [
    {
     "name": "stdout",
     "output_type": "stream",
     "text": [
      "(2, 4, 6, 8, 10, 12, 14)\n",
      "56\n",
      "Time to sum an iterator: 0.000291\n"
     ]
    },
    {
     "data": {
      "text/plain": [
       "[1, 1, 2, 3, 5, 8]"
      ]
     },
     "execution_count": 6,
     "metadata": {},
     "output_type": "execute_result"
    }
   ],
   "source": [
    "import time\n",
    "def oddGen(n, m):\n",
    "    while n < m:\n",
    "        yield n #generator creates an iterator of given function\n",
    "        n += 2\n",
    "print(tuple(oddGen(2,16)))\n",
    "t1=time.time()\n",
    "print(sum(oddGen(2,16)))\n",
    "print(\"Time to sum an iterator: %f\" % (time.time() - t1))\n",
    "def fibonacci(n ):\n",
    "    a, b = 0, 1\n",
    "    while b<n:\n",
    "        yield b\n",
    "        a, b = b, a+b\n",
    "list(fibonacci(10) )      "
   ]
  },
  {
   "cell_type": "code",
   "execution_count": 27,
   "metadata": {},
   "outputs": [
    {
     "name": "stdout",
     "output_type": "stream",
     "text": [
      "-1\n",
      "-4, -3, -2, -1, 0, 1, 2, 3, 4, 5, 6\n",
      "(-4, 3)\n",
      "(-3, 2)\n",
      "(-2, 1)\n",
      "(-1, 0)\n"
     ]
    }
   ],
   "source": [
    "k=int(input())\n",
    "nums=tuple(map(int,input().split(\",\")))\n",
    "unique_pairs=set()\n",
    "for i in range(len(nums)):\n",
    "    for j in range(len(nums)):\n",
    "        s=nums[i]+nums[j]\n",
    "        if s==k:\n",
    "            unique_pairs.add(tuple(sorted((nums[i],nums[j]))))\n",
    "for i in sorted(unique_pairs):\n",
    "    print(i)"
   ]
  },
  {
   "cell_type": "code",
   "execution_count": 37,
   "metadata": {},
   "outputs": [
    {
     "name": "stdout",
     "output_type": "stream",
     "text": [
      "-4,-3,-2,-1,0,1,2,3,4,5,6\n",
      "-1\n",
      "(-4, 3)\n",
      "(-3, 2)\n",
      "(-2, 1)\n",
      "(-1, 0)\n"
     ]
    }
   ],
   "source": [
    "nums=tuple(map(int,input().split(\",\")))\n",
    "k = int(input())\n",
    "pairs = set()\n",
    "\n",
    "for i, num1 in enumerate(nums):\n",
    "    for num2 in nums[i + 1:]:\n",
    "        if num1 + num2 == k:\n",
    "            pairs.add(tuple(sorted((num1, num2))))\n",
    "\n",
    "for pair in sorted(pairs):\n",
    "    print(pair)\n"
   ]
  },
  {
   "cell_type": "code",
   "execution_count": 51,
   "metadata": {},
   "outputs": [
    {
     "name": "stdout",
     "output_type": "stream",
     "text": [
      "2\n",
      "0\n",
      "3\n",
      "5\n",
      "6\n",
      "9\n",
      "10\n",
      "12\n",
      "15\n",
      "18\n",
      "20\n",
      "21\n",
      "24\n",
      "25\n",
      "27\n",
      "30\n",
      "33\n",
      "35\n",
      "36\n",
      "39\n",
      "40\n",
      "42\n",
      "45\n",
      "48\n",
      "50\n",
      "51\n",
      "54\n",
      "55\n",
      "57\n",
      "60\n",
      "63\n",
      "65\n",
      "66\n",
      "69\n",
      "70\n",
      "72\n",
      "75\n",
      "78\n",
      "80\n",
      "81\n",
      "84\n",
      "85\n",
      "87\n",
      "90\n",
      "93\n",
      "95\n",
      "96\n",
      "99\n",
      "2318\n",
      "0\n",
      "3\n",
      "5\n",
      "6\n",
      "9\n",
      "10\n",
      "12\n",
      "15\n",
      "18\n",
      "20\n",
      "21\n",
      "24\n",
      "25\n",
      "27\n",
      "30\n",
      "33\n",
      "35\n",
      "36\n",
      "39\n",
      "40\n",
      "42\n",
      "45\n",
      "48\n",
      "50\n",
      "51\n",
      "54\n",
      "55\n",
      "57\n",
      "60\n",
      "63\n",
      "65\n",
      "66\n",
      "69\n",
      "70\n",
      "72\n",
      "75\n",
      "78\n",
      "80\n",
      "81\n",
      "84\n",
      "85\n",
      "87\n",
      "90\n",
      "93\n",
      "95\n",
      "96\n",
      "99\n",
      "4636\n"
     ]
    }
   ],
   "source": [
    "t = int(input().strip())\n",
    "s=0\n",
    "for a0 in range(t):\n",
    "    #n = int(input().strip())\n",
    "    for i in range(100):\n",
    "        if i%3==0 or i%5==0:\n",
    "            s=s+i\n",
    "            print(i)\n",
    "    print(s)\n",
    "            \n",
    "             \n",
    "            "
   ]
  },
  {
   "cell_type": "code",
   "execution_count": 44,
   "metadata": {},
   "outputs": [
    {
     "data": {
      "text/plain": [
       "23"
      ]
     },
     "execution_count": 44,
     "metadata": {},
     "output_type": "execute_result"
    }
   ],
   "source": [
    "2341-2318\n"
   ]
  },
  {
   "cell_type": "code",
   "execution_count": 53,
   "metadata": {},
   "outputs": [
    {
     "name": "stdout",
     "output_type": "stream",
     "text": [
      "2\n",
      "10\n",
      "23\n",
      "100\n",
      "2318\n"
     ]
    }
   ],
   "source": [
    "t = int(input().strip())\n",
    "\n",
    "for a0 in range(t):\n",
    "    n = int(input().strip())\n",
    "    s=0\n",
    "    l=[x for x in range(n) if x%3==0 or x%5==0]\n",
    "    s=sum(l)\n",
    "    print(s)"
   ]
  },
  {
   "cell_type": "code",
   "execution_count": 59,
   "metadata": {},
   "outputs": [
    {
     "name": "stdout",
     "output_type": "stream",
     "text": [
      "3\n",
      "3\n",
      "file opened\n"
     ]
    }
   ],
   "source": [
    "try:\n",
    "    v=int(input())\n",
    "    print(v)\n",
    "except ValueError:\n",
    "    print(\"The input is not valid integer\")\n",
    "\n",
    "try:\n",
    "    f=open(\"sample.txt\",\"r\")\n",
    "    print(\"file opened\")\n",
    "except FileNotFoundError:\n",
    "    print(\"file not found\")\n",
    "        \n",
    "    \n",
    "        "
   ]
  },
  {
   "cell_type": "code",
   "execution_count": 68,
   "metadata": {},
   "outputs": [
    {
     "name": "stdout",
     "output_type": "stream",
     "text": [
      "sample.txt,r\n",
      "read\n",
      "\n"
     ]
    }
   ],
   "source": [
    "file,mode=input().split(\",\")\n",
    "ope=input()\n",
    "f=open(file,mode)\n",
    "if ope==\"read\":\n",
    "    r=f.read()\n",
    "    print(r)\n",
    "elif ope==\"write\":\n",
    "    w=f.write(\"this is another modulentext\")\n",
    "    print(w)\n",
    "#try:\n",
    "    #f=open(file,mode)\n",
    "    "
   ]
  },
  {
   "cell_type": "code",
   "execution_count": 73,
   "metadata": {},
   "outputs": [
    {
     "name": "stdout",
     "output_type": "stream",
     "text": [
      "Enter file and mode separated by a comma: sample.txt,r+\n",
      "Enter encoding (utf-8, utf-16, etc.): మీరు ఎలా ఉన్నారు\n",
      "An unexpected error occurred: unknown encoding: మీరు ఎలా ఉన్నారు\n"
     ]
    }
   ],
   "source": [
    "file, mode = input(\"Enter file and mode separated by a comma: \").split(\",\")\n",
    "encoding = input(\"Enter encoding (utf-8, utf-16, etc.): \")\n",
    "\n",
    "try:\n",
    "    with open(file, mode, encoding=encoding) as f:\n",
    "        data = f.read()\n",
    "        print(data)\n",
    "except UnicodeDecodeError:\n",
    "    print(\"Error: Encoding issue occurred while reading the file\")\n",
    "except FileNotFoundError:\n",
    "    print(f\"Error: File '{file}' not found.\")\n",
    "except Exception as e:\n",
    "    print(f\"An unexpected error occurred: {e}\")\n"
   ]
  },
  {
   "cell_type": "code",
   "execution_count": 83,
   "metadata": {},
   "outputs": [
    {
     "name": "stdout",
     "output_type": "stream",
     "text": [
      "6\n",
      "the list doesnot have attribute length\n"
     ]
    }
   ],
   "source": [
    "n=[1,2,4,5,7,2]\n",
    "try:\n",
    "    l=len(n)\n",
    "    print(l)\n",
    "    le=n.length\n",
    "    c=len(n)\n",
    "except AttributeError:\n",
    "    print(\"the list doesnot have attribute length\")\n",
    "except Exception as e:\n",
    "    print(\"an exception occcured {e}\")"
   ]
  },
  {
   "cell_type": "code",
   "execution_count": 80,
   "metadata": {},
   "outputs": [
    {
     "name": "stdout",
     "output_type": "stream",
     "text": [
      "Error: The list does not  attribute.\n"
     ]
    }
   ],
   "source": [
    "# Define a function named 'test_list_operation' that takes 'nums' as a parameter.\n",
    "def test_list_operation(nums):\n",
    "    try:\n",
    "        # Attempt to access an undefined attribute 'lengtha' of the 'nums' list and assign it to 'r1'.\n",
    "        r1 = nums.lengtha  # Trying to access the 'length' attribute\n",
    "        # Print the result, which will not execute due to the exception.\n",
    "        print(\"Length of the list:\", r1)\n",
    "    except AttributeError:\n",
    "        # Handle the exception if an AttributeError occurs when attempting to access the 'lengtha' attribute.\n",
    "        print(\"Error: The list does not  attribute.\")\n",
    "\n",
    "# Create a list 'nums' containing integer values.\n",
    "nums = [1, 2, 3, 4, 5]\n",
    "# Call the 'test_list_operation' function with the 'nums' list as a parameter to check for the 'lengtha' attribute.\n",
    "test_list_operation(nums)\n"
   ]
  },
  {
   "cell_type": "code",
   "execution_count": 87,
   "metadata": {},
   "outputs": [
    {
     "name": "stdout",
     "output_type": "stream",
     "text": [
      "Length of the list: 6\n",
      "AttributeError: 'list' object has no attribute 'length'\n"
     ]
    }
   ],
   "source": [
    "n = [1, 2, 4, 5, 7, 2]\n",
    "\n",
    "try:\n",
    "    l = len(n)\n",
    "    print(f\"Length of the list: {l}\")\n",
    "\n",
    "    le = n.length  # This line will cause an AttributeError\n",
    "    c = count(num)  # Assuming you want to get the count of elements in the list\n",
    "\n",
    "except AttributeError as ae:\n",
    "    print(\"AttributeError:\", ae)\n",
    "\n",
    "except Exception as e:\n",
    "    print(f\"An exception occurred: {e}\")\n"
   ]
  },
  {
   "cell_type": "code",
   "execution_count": 93,
   "metadata": {},
   "outputs": [
    {
     "name": "stdout",
     "output_type": "stream",
     "text": [
      "time.struct_time(tm_year=2024, tm_mon=2, tm_mday=12, tm_hour=15, tm_min=43, tm_sec=31, tm_wday=0, tm_yday=43, tm_isdst=0)\n",
      "Mon Feb 12 15:43:31 2024\n",
      "0\n",
      "1\n",
      "2\n",
      "3\n",
      "4\n"
     ]
    }
   ],
   "source": [
    "import time\n",
    "print(time.localtime(time.time()))\n",
    "print(time.asctime(time.localtime(time.time())))\n",
    "for i in range(5):\n",
    "    print(i)\n",
    "    time.sleep(2)"
   ]
  },
  {
   "cell_type": "code",
   "execution_count": 162,
   "metadata": {},
   "outputs": [
    {
     "name": "stdout",
     "output_type": "stream",
     "text": [
      "2024-02-12 16:21:25.696815\n",
      "personal time\n",
      "16-21-25 PM\n",
      "2024-02-12\n",
      "Monday\n"
     ]
    }
   ],
   "source": [
    "from datetime import datetime as dt\n",
    "print(dt.now())\n",
    "cur_hour=int(dt.now().strftime(\"%H\"))\n",
    "if 8<cur_hour<16:\n",
    "    print(\"working hours\")\n",
    "else:\n",
    "    print(\"personal time\")\n",
    "cur_time=dt.now().strftime(\"%H-%M-%S %p\")\n",
    "cur_date=dt.now().strftime(\"%Y-%m-%d\")\n",
    "cur_day=dt.now().strftime(\"%A\")\n",
    "print(cur_time)\n",
    "print(cur_date)\n",
    "print(cur_day)"
   ]
  },
  {
   "cell_type": "code",
   "execution_count": 161,
   "metadata": {},
   "outputs": [
    {
     "name": "stdout",
     "output_type": "stream",
     "text": [
      "16:21:19 PM"
     ]
    },
    {
     "ename": "KeyboardInterrupt",
     "evalue": "",
     "output_type": "error",
     "traceback": [
      "\u001b[0;31m---------------------------------------------------------------------------\u001b[0m",
      "\u001b[0;31mKeyboardInterrupt\u001b[0m                         Traceback (most recent call last)",
      "Cell \u001b[0;32mIn[161], line 8\u001b[0m\n\u001b[1;32m      6\u001b[0m sys\u001b[38;5;241m.\u001b[39mstdout\u001b[38;5;241m.\u001b[39mwrite(\u001b[38;5;124mf\u001b[39m\u001b[38;5;124m\"\u001b[39m\u001b[38;5;130;01m\\r\u001b[39;00m\u001b[38;5;132;01m{\u001b[39;00mcurrent_time\u001b[38;5;132;01m}\u001b[39;00m\u001b[38;5;124m\"\u001b[39m)\n\u001b[1;32m      7\u001b[0m sys\u001b[38;5;241m.\u001b[39mstdout\u001b[38;5;241m.\u001b[39mflush()\n\u001b[0;32m----> 8\u001b[0m \u001b[43mtime\u001b[49m\u001b[38;5;241;43m.\u001b[39;49m\u001b[43msleep\u001b[49m\u001b[43m(\u001b[49m\u001b[38;5;241;43m1\u001b[39;49m\u001b[43m)\u001b[49m\n",
      "\u001b[0;31mKeyboardInterrupt\u001b[0m: "
     ]
    }
   ],
   "source": [
    "import time\n",
    "import sys\n",
    "\n",
    "while True:\n",
    "    current_time = time.strftime(\"%H:%M:%S %p\")\n",
    "    sys.stdout.write(f\"\\r{current_time}\")\n",
    "    sys.stdout.flush()\n",
    "    time.sleep(1)\n"
   ]
  },
  {
   "cell_type": "code",
   "execution_count": 165,
   "metadata": {},
   "outputs": [
    {
     "name": "stdout",
     "output_type": "stream",
     "text": [
      "1 2 3 4 5\n"
     ]
    },
    {
     "ename": "TypeError",
     "evalue": "'list' object is not callable",
     "output_type": "error",
     "traceback": [
      "\u001b[0;31m---------------------------------------------------------------------------\u001b[0m",
      "\u001b[0;31mTypeError\u001b[0m                                 Traceback (most recent call last)",
      "Cell \u001b[0;32mIn[165], line 12\u001b[0m\n\u001b[1;32m      9\u001b[0m     \u001b[38;5;28mprint\u001b[39m(mini,maxi)\n\u001b[1;32m     10\u001b[0m \u001b[38;5;28;01mif\u001b[39;00m \u001b[38;5;18m__name__\u001b[39m \u001b[38;5;241m==\u001b[39m \u001b[38;5;124m'\u001b[39m\u001b[38;5;124m__main__\u001b[39m\u001b[38;5;124m'\u001b[39m:\n\u001b[0;32m---> 12\u001b[0m     arr \u001b[38;5;241m=\u001b[39m \u001b[38;5;28;43mlist\u001b[39;49m\u001b[43m(\u001b[49m\u001b[38;5;28;43mmap\u001b[39;49m\u001b[43m(\u001b[49m\u001b[38;5;28;43mint\u001b[39;49m\u001b[43m,\u001b[49m\u001b[43m \u001b[49m\u001b[38;5;28;43minput\u001b[39;49m\u001b[43m(\u001b[49m\u001b[43m)\u001b[49m\u001b[38;5;241;43m.\u001b[39;49m\u001b[43mrstrip\u001b[49m\u001b[43m(\u001b[49m\u001b[43m)\u001b[49m\u001b[38;5;241;43m.\u001b[39;49m\u001b[43msplit\u001b[49m\u001b[43m(\u001b[49m\u001b[43m)\u001b[49m\u001b[43m)\u001b[49m\u001b[43m)\u001b[49m\n\u001b[1;32m     14\u001b[0m     miniMaxSum(arr)\n",
      "\u001b[0;31mTypeError\u001b[0m: 'list' object is not callable"
     ]
    }
   ],
   "source": [
    "s=[]\n",
    "def miniMaxSum(arr):\n",
    "    for i in arr:\n",
    "        temp=arr.copy()\n",
    "        temp.remove(i)\n",
    "        s.append(sum(temp))\n",
    "    mini=min(s)\n",
    "    maxi=max(s)\n",
    "    print(mini,maxi)\n",
    "if __name__ == '__main__':\n",
    "\n",
    "    arr = list(map(int, input().rstrip().split()))\n",
    "\n",
    "    miniMaxSum(arr)\n"
   ]
  },
  {
   "cell_type": "code",
   "execution_count": 170,
   "metadata": {},
   "outputs": [
    {
     "name": "stdout",
     "output_type": "stream",
     "text": [
      "3 2 1 3\n"
     ]
    },
    {
     "ename": "TypeError",
     "evalue": "'list' object is not callable",
     "output_type": "error",
     "traceback": [
      "\u001b[0;31m---------------------------------------------------------------------------\u001b[0m",
      "\u001b[0;31mTypeError\u001b[0m                                 Traceback (most recent call last)",
      "Cell \u001b[0;32mIn[170], line 7\u001b[0m\n\u001b[1;32m      5\u001b[0m     \u001b[38;5;28mprint\u001b[39m(c)\n\u001b[1;32m      6\u001b[0m cand \u001b[38;5;241m=\u001b[39m \u001b[38;5;28mmap\u001b[39m(\u001b[38;5;28mint\u001b[39m, \u001b[38;5;28minput\u001b[39m()\u001b[38;5;241m.\u001b[39mrstrip()\u001b[38;5;241m.\u001b[39msplit())\n\u001b[0;32m----> 7\u001b[0m candles\u001b[38;5;241m=\u001b[39m\u001b[38;5;28;43mlist\u001b[39;49m\u001b[43m(\u001b[49m\u001b[43mcand\u001b[49m\u001b[43m)\u001b[49m\n\u001b[1;32m      9\u001b[0m result \u001b[38;5;241m=\u001b[39m birthdayCakeCandles(candles)\n\u001b[1;32m     10\u001b[0m \u001b[38;5;28mprint\u001b[39m(result)\n",
      "\u001b[0;31mTypeError\u001b[0m: 'list' object is not callable"
     ]
    }
   ],
   "source": [
    "def birthdayCakeCandles(candles):\n",
    "    cand=candles.copy()\n",
    "    m=max(cand)\n",
    "    c=cand.count(m)\n",
    "    print(c)\n",
    "cand = map(int, input().rstrip().split())\n",
    "candles=list(cand)\n",
    "\n",
    "result = birthdayCakeCandles(candles)\n",
    "print(result)"
   ]
  },
  {
   "cell_type": "code",
   "execution_count": 25,
   "metadata": {},
   "outputs": [
    {
     "ename": "TypeError",
     "evalue": "can only concatenate list (not \"int\") to list",
     "output_type": "error",
     "traceback": [
      "\u001b[0;31m---------------------------------------------------------------------------\u001b[0m",
      "\u001b[0;31mTypeError\u001b[0m                                 Traceback (most recent call last)",
      "Cell \u001b[0;32mIn[25], line 7\u001b[0m\n\u001b[1;32m      5\u001b[0m         \u001b[38;5;28;01mreturn\u001b[39;00m lis[\u001b[38;5;241m0\u001b[39m]\u001b[38;5;241m+\u001b[39mSum(lis[\u001b[38;5;241m1\u001b[39m:])\n\u001b[1;32m      6\u001b[0m lis\u001b[38;5;241m=\u001b[39m[\u001b[38;5;241m1\u001b[39m,[\u001b[38;5;241m2\u001b[39m,\u001b[38;5;241m5\u001b[39m],\u001b[38;5;241m1\u001b[39m,\u001b[38;5;241m7\u001b[39m,\u001b[38;5;241m8\u001b[39m]\n\u001b[0;32m----> 7\u001b[0m \u001b[43mSum\u001b[49m\u001b[43m(\u001b[49m\u001b[43mlis\u001b[49m\u001b[43m)\u001b[49m\n",
      "Cell \u001b[0;32mIn[25], line 5\u001b[0m, in \u001b[0;36mSum\u001b[0;34m(lis)\u001b[0m\n\u001b[1;32m      3\u001b[0m     \u001b[38;5;28;01mreturn\u001b[39;00m lis[\u001b[38;5;241m0\u001b[39m]\n\u001b[1;32m      4\u001b[0m \u001b[38;5;28;01melse\u001b[39;00m:\n\u001b[0;32m----> 5\u001b[0m     \u001b[38;5;28;01mreturn\u001b[39;00m lis[\u001b[38;5;241m0\u001b[39m]\u001b[38;5;241m+\u001b[39m\u001b[43mSum\u001b[49m\u001b[43m(\u001b[49m\u001b[43mlis\u001b[49m\u001b[43m[\u001b[49m\u001b[38;5;241;43m1\u001b[39;49m\u001b[43m:\u001b[49m\u001b[43m]\u001b[49m\u001b[43m)\u001b[49m\n",
      "Cell \u001b[0;32mIn[25], line 5\u001b[0m, in \u001b[0;36mSum\u001b[0;34m(lis)\u001b[0m\n\u001b[1;32m      3\u001b[0m     \u001b[38;5;28;01mreturn\u001b[39;00m lis[\u001b[38;5;241m0\u001b[39m]\n\u001b[1;32m      4\u001b[0m \u001b[38;5;28;01melse\u001b[39;00m:\n\u001b[0;32m----> 5\u001b[0m     \u001b[38;5;28;01mreturn\u001b[39;00m \u001b[43mlis\u001b[49m\u001b[43m[\u001b[49m\u001b[38;5;241;43m0\u001b[39;49m\u001b[43m]\u001b[49m\u001b[38;5;241;43m+\u001b[39;49m\u001b[43mSum\u001b[49m\u001b[43m(\u001b[49m\u001b[43mlis\u001b[49m\u001b[43m[\u001b[49m\u001b[38;5;241;43m1\u001b[39;49m\u001b[43m:\u001b[49m\u001b[43m]\u001b[49m\u001b[43m)\u001b[49m\n",
      "\u001b[0;31mTypeError\u001b[0m: can only concatenate list (not \"int\") to list"
     ]
    }
   ],
   "source": [
    "def Sum(lis):\n",
    "    if len(lis)==1:\n",
    "        return lis[0]\n",
    "    else:\n",
    "        return lis[0]+Sum(lis[1:])\n",
    "lis=[1,[2,5],1,7,8]\n",
    "Sum(lis)"
   ]
  },
  {
   "cell_type": "code",
   "execution_count": 23,
   "metadata": {},
   "outputs": [
    {
     "ename": "TypeError",
     "evalue": "unsupported operand type(s) for ** or pow(): 'list' and 'int'",
     "output_type": "error",
     "traceback": [
      "\u001b[0;31m---------------------------------------------------------------------------\u001b[0m",
      "\u001b[0;31mTypeError\u001b[0m                                 Traceback (most recent call last)",
      "Cell \u001b[0;32mIn[23], line 7\u001b[0m\n\u001b[1;32m      5\u001b[0m         \u001b[38;5;28;01mreturn\u001b[39;00m lis[\u001b[38;5;241m0\u001b[39m]\u001b[38;5;241m*\u001b[39m\u001b[38;5;241m*\u001b[39m\u001b[38;5;241m2\u001b[39m\u001b[38;5;241m+\u001b[39mSum(lis[\u001b[38;5;241m1\u001b[39m:])\n\u001b[1;32m      6\u001b[0m lis\u001b[38;5;241m=\u001b[39m[\u001b[38;5;241m1\u001b[39m,[\u001b[38;5;241m2\u001b[39m,\u001b[38;5;241m5\u001b[39m],\u001b[38;5;241m1\u001b[39m,\u001b[38;5;241m7\u001b[39m,\u001b[38;5;241m8\u001b[39m]\n\u001b[0;32m----> 7\u001b[0m \u001b[43mSum\u001b[49m\u001b[43m(\u001b[49m\u001b[43mlis\u001b[49m\u001b[43m)\u001b[49m\n",
      "Cell \u001b[0;32mIn[23], line 5\u001b[0m, in \u001b[0;36mSum\u001b[0;34m(lis)\u001b[0m\n\u001b[1;32m      3\u001b[0m     \u001b[38;5;28;01mreturn\u001b[39;00m lis[\u001b[38;5;241m0\u001b[39m]\u001b[38;5;241m*\u001b[39m\u001b[38;5;241m*\u001b[39m\u001b[38;5;241m2\u001b[39m\n\u001b[1;32m      4\u001b[0m \u001b[38;5;28;01melse\u001b[39;00m:\n\u001b[0;32m----> 5\u001b[0m     \u001b[38;5;28;01mreturn\u001b[39;00m lis[\u001b[38;5;241m0\u001b[39m]\u001b[38;5;241m*\u001b[39m\u001b[38;5;241m*\u001b[39m\u001b[38;5;241m2\u001b[39m\u001b[38;5;241m+\u001b[39m\u001b[43mSum\u001b[49m\u001b[43m(\u001b[49m\u001b[43mlis\u001b[49m\u001b[43m[\u001b[49m\u001b[38;5;241;43m1\u001b[39;49m\u001b[43m:\u001b[49m\u001b[43m]\u001b[49m\u001b[43m)\u001b[49m\n",
      "Cell \u001b[0;32mIn[23], line 5\u001b[0m, in \u001b[0;36mSum\u001b[0;34m(lis)\u001b[0m\n\u001b[1;32m      3\u001b[0m     \u001b[38;5;28;01mreturn\u001b[39;00m lis[\u001b[38;5;241m0\u001b[39m]\u001b[38;5;241m*\u001b[39m\u001b[38;5;241m*\u001b[39m\u001b[38;5;241m2\u001b[39m\n\u001b[1;32m      4\u001b[0m \u001b[38;5;28;01melse\u001b[39;00m:\n\u001b[0;32m----> 5\u001b[0m     \u001b[38;5;28;01mreturn\u001b[39;00m \u001b[43mlis\u001b[49m\u001b[43m[\u001b[49m\u001b[38;5;241;43m0\u001b[39;49m\u001b[43m]\u001b[49m\u001b[38;5;241;43m*\u001b[39;49m\u001b[38;5;241;43m*\u001b[39;49m\u001b[38;5;241;43m2\u001b[39;49m\u001b[38;5;241m+\u001b[39mSum(lis[\u001b[38;5;241m1\u001b[39m:])\n",
      "\u001b[0;31mTypeError\u001b[0m: unsupported operand type(s) for ** or pow(): 'list' and 'int'"
     ]
    }
   ],
   "source": [
    "def Sum(lis):\n",
    "    if len(lis)==1:\n",
    "        return lis[0]**2\n",
    "    else:\n",
    "        return lis[0]**2+Sum(lis[1:])\n",
    "lis=[1,2,5,1,7,8]\n",
    "Sum(lis)"
   ]
  },
  {
   "cell_type": "code",
   "execution_count": 6,
   "metadata": {},
   "outputs": [
    {
     "name": "stdout",
     "output_type": "stream",
     "text": [
      "255\n",
      "12\n"
     ]
    }
   ],
   "source": [
    "def sum_dig(n):\n",
    "    ns=str(n)\n",
    "    if len(ns)==1:\n",
    "        return n\n",
    "    return int(ns[0]) + sum_dig(int(ns[1:]))\n",
    "n=int(input())\n",
    "print(sum_dig(n))"
   ]
  },
  {
   "cell_type": "code",
   "execution_count": 4,
   "metadata": {},
   "outputs": [
    {
     "name": "stdout",
     "output_type": "stream",
     "text": [
      "Enter a number: 255\n",
      "12\n"
     ]
    }
   ],
   "source": [
    "def sum_dig(n):\n",
    "    # Convert the integer to a string\n",
    "    n_str = str(n)\n",
    "    \n",
    "    # Base case: if the length of the string is 1, return the number\n",
    "    if len(n_str) == 1:\n",
    "        return n\n",
    "    \n",
    "    # Recursive case: add the first digit to the sum of the rest of the digits\n",
    "    return int(n_str[0]) + sum_dig(int(n_str[1:]))\n",
    "\n",
    "# Get user input as an integer\n",
    "n = int(input(\"Enter a number: \"))\n",
    "# Call the function and print the result\n",
    "print(sum_dig(n))\n"
   ]
  },
  {
   "cell_type": "code",
   "execution_count": 10,
   "metadata": {},
   "outputs": [
    {
     "name": "stdout",
     "output_type": "stream",
     "text": [
      "3\n",
      "1.8333333333333333\n"
     ]
    }
   ],
   "source": [
    "def sum_series(n):\n",
    "    s=0\n",
    "    for i in range(1,n+1):\n",
    "        s +=1/i\n",
    "    return s\n",
    "n=int(input())\n",
    "print(sum_series(n))"
   ]
  },
  {
   "cell_type": "code",
   "execution_count": 12,
   "metadata": {},
   "outputs": [
    {
     "name": "stdout",
     "output_type": "stream",
     "text": [
      "3\n",
      "1.83\n"
     ]
    }
   ],
   "source": [
    "def sum_series(n):\n",
    "    if n==1:\n",
    "        return 1/n\n",
    "    return (1/n)+sum_series(n-1)\n",
    "n=int(input())\n",
    "print(\"{:.2f}\".format(sum_series(n)))"
   ]
  },
  {
   "cell_type": "code",
   "execution_count": 21,
   "metadata": {},
   "outputs": [
    {
     "name": "stdout",
     "output_type": "stream",
     "text": [
      "2\n",
      "2\n",
      "0\n"
     ]
    }
   ],
   "source": [
    "def inde(lis,n):\n",
    "    return lis.index(n)\n",
    "lis=list(map(int,input().split()))\n",
    "n=int(input())\n",
    "print(inde(lis,n))"
   ]
  },
  {
   "cell_type": "code",
   "execution_count": 30,
   "metadata": {},
   "outputs": [
    {
     "name": "stdout",
     "output_type": "stream",
     "text": [
      "21\n"
     ]
    }
   ],
   "source": [
    "def sum_list(lis):\n",
    "    t=0\n",
    "    for i in lis:\n",
    "        if isinstance(i,list):\n",
    "            t=t+sum_list(i)\n",
    "        else:\n",
    "            t=t+i\n",
    "    return t\n",
    "lis=[ [1, 2, [3,4], [5,6]]]\n",
    "print(sum_list(lis))"
   ]
  },
  {
   "cell_type": "code",
   "execution_count": 44,
   "metadata": {},
   "outputs": [
    {
     "name": "stdout",
     "output_type": "stream",
     "text": [
      "noon\n",
      "False\n"
     ]
    }
   ],
   "source": [
    "def palindrome(st):\n",
    "    rev=\"\"\n",
    "    if len(st)==1:\n",
    "        rev=st\n",
    "        return rev\n",
    "    rev=rev+palindrome(st[-1:])\n",
    "    if st==rev:\n",
    "        return True\n",
    "    return False\n",
    "st=input()\n",
    "print(palindrome(st))\n",
    "        "
   ]
  },
  {
   "cell_type": "code",
   "execution_count": 58,
   "metadata": {},
   "outputs": [
    {
     "name": "stdout",
     "output_type": "stream",
     "text": [
      "Noon\n",
      "True\n"
     ]
    }
   ],
   "source": [
    "def is_palindrome(string):\n",
    "    for i in range(1,len(string)+1):\n",
    "        if string==string[-1::-1]:\n",
    "            return True\n",
    "        else:\n",
    "            return False\n",
    "s= input()\n",
    "string=s.lower()\n",
    "is_true = is_palindrome(string)\n",
    "print(is_true)"
   ]
  },
  {
   "cell_type": "code",
   "execution_count": 72,
   "metadata": {},
   "outputs": [
    {
     "name": "stdout",
     "output_type": "stream",
     "text": [
      "02\n"
     ]
    }
   ],
   "source": [
    "i=20\n",
    "s=str(i)\n",
    "rev=s[::-1]\n",
    "print(rev)"
   ]
  },
  {
   "cell_type": "code",
   "execution_count": 79,
   "metadata": {},
   "outputs": [
    {
     "name": "stdout",
     "output_type": "stream",
     "text": [
      "True\n"
     ]
    }
   ],
   "source": [
    "def rec_palindrome(st):\n",
    "    if len(st)<=1:\n",
    "        return True\n",
    "    elif st[0]==st[-1]:\n",
    "        return rec_palindrome(st[-1:-1])\n",
    "    else:\n",
    "        return False\n",
    "print(rec_palindrome(\"noon\"))"
   ]
  },
  {
   "cell_type": "code",
   "execution_count": 3,
   "metadata": {},
   "outputs": [
    {
     "name": "stdout",
     "output_type": "stream",
     "text": [
      "5\n",
      "----a-b-c-d-e----\n",
      "-----b-c-d-e-----\n",
      "------c-d-e------\n",
      "-------d-e-------\n",
      "--------e--------\n",
      "-------d-e-------\n",
      "------c-d-e------\n",
      "-----b-c-d-e-----\n",
      "----a-b-c-d-e----\n"
     ]
    }
   ],
   "source": [
    "def print_rangoli(size):\n",
    "    import string\n",
    "    \n",
    "    # Create a list of alphabet characters up to the given size\n",
    "    alphabet = string.ascii_lowercase[:size]\n",
    "    \n",
    "    # Create the top part of the rangoli\n",
    "    top_part = []\n",
    "    for i in range(size):\n",
    "        line = '-'.join(alphabet[0:i:-1] + alphabet[i:size])\n",
    "        top_part.append(line.center(size * 4 - 3, '-'))\n",
    "    \n",
    "    # Create the bottom part of the rangoli by reversing the top part\n",
    "    bottom_part = top_part[::-1]\n",
    "    \n",
    "    # Combine the top and bottom parts with a newline separator\n",
    "    rangoli = '\\n'.join(top_part + bottom_part[1:])\n",
    "    \n",
    "    return rangoli\n",
    "\n",
    "# Get the input size\n",
    "size = int(input().strip())\n",
    "\n",
    "# Print the rangoli pattern\n",
    "result = print_rangoli(size)\n",
    "print(result)\n"
   ]
  },
  {
   "cell_type": "code",
   "execution_count": 16,
   "metadata": {},
   "outputs": [
    {
     "name": "stdout",
     "output_type": "stream",
     "text": [
      "AACBAADA\n",
      "4\n",
      "ACB\n",
      "AD\n"
     ]
    }
   ],
   "source": [
    "def merge_the_tools(string, k):\n",
    "    p=(len(string))//k\n",
    "    for i in range(0,len(string),k):\n",
    "        sub=string[i:i+k]\n",
    "        seq=\"\".join(sorted(set(sub),key=sub.index))\n",
    "        print(seq)\n",
    "        \n",
    "\n",
    "if __name__ == '__main__':\n",
    "    string, k = input(), int(input())\n",
    "    merge_the_tools(string, k)"
   ]
  },
  {
   "cell_type": "code",
   "execution_count": 33,
   "metadata": {
    "scrolled": true
   },
   "outputs": [
    {
     "name": "stdout",
     "output_type": "stream",
     "text": [
      "3 2\n",
      "1 6\n",
      "3 66\n",
      "2 4\n",
      "1\n",
      "24\n",
      "16\n",
      "366\n"
     ]
    }
   ],
   "source": [
    "nm = input().split()\n",
    "\n",
    "n = int(nm[0])\n",
    "\n",
    "m = int(nm[1])\n",
    "\n",
    "arr = []\n",
    "\n",
    "for _ in range(n):\n",
    "    arr.append(list(map(int, input().rstrip().split())))\n",
    "\n",
    "k = int(input())\n",
    "\n",
    "s=sorted(arr,key=lambda x:x[k])\n",
    "for i in s:\n",
    "    print(\" \".join(map(str,i)))\n",
    "    "
   ]
  },
  {
   "cell_type": "code",
   "execution_count": 24,
   "metadata": {},
   "outputs": [
    {
     "name": "stdout",
     "output_type": "stream",
     "text": [
      "[1, 4, 2, 6, 7]\n"
     ]
    }
   ],
   "source": [
    "\n"
   ]
  },
  {
   "cell_type": "code",
   "execution_count": null,
   "metadata": {},
   "outputs": [],
   "source": []
  },
  {
   "cell_type": "code",
   "execution_count": null,
   "metadata": {},
   "outputs": [],
   "source": []
  },
  {
   "cell_type": "code",
   "execution_count": 40,
   "metadata": {},
   "outputs": [
    {
     "name": "stdout",
     "output_type": "stream",
     "text": [
      "3\n",
      "12 5 23\n",
      "True\n"
     ]
    }
   ],
   "source": [
    "n,vals=int(input()),list(map(str,input().split()))\n",
    "l=[True if all(int(x)>0 for x in vals) and any(x==x[::-1] for x in vals) else False]\n",
    "print(\"\".join(map(str,l)))"
   ]
  },
  {
   "cell_type": "code",
   "execution_count": 52,
   "metadata": {},
   "outputs": [
    {
     "name": "stdout",
     "output_type": "stream",
     "text": [
      "Sorting1234\n",
      "ginortS2413\n"
     ]
    }
   ],
   "source": [
    "val=input()\n",
    "low=\"\"\n",
    "upp=\"\"\n",
    "odd=\"\"\n",
    "even=\"\"\n",
    "for i in val:\n",
    "    if i.isalpha():\n",
    "        if i.islower():\n",
    "            low+=i\n",
    "        else:\n",
    "            upp+=i\n",
    "    elif i.isdigit():\n",
    "        if int(i)%2==0:\n",
    "            od+=i\n",
    "        else:\n",
    "            even+=i\n",
    "l=\"\".join(sorted(low))\n",
    "u=\"\".join(sorted(upp))\n",
    "o=\"\".join(sorted(odd))\n",
    "e=\"\".join(sorted(even))\n",
    "print(l+u+o+e)\n",
    "#print(\"\".join()"
   ]
  },
  {
   "cell_type": "code",
   "execution_count": 77,
   "metadata": {},
   "outputs": [
    {
     "name": "stdout",
     "output_type": "stream",
     "text": [
      "122341\n",
      "('1',)\n",
      "('2', '2')\n",
      "('3',)\n",
      "('4',)\n",
      "('1',)\n"
     ]
    }
   ],
   "source": [
    "from itertools import groupby\n",
    "import itertools\n",
    "string=input()\n",
    "val=(tuple(g) for k,g in groupby(string))\n",
    "c=0\n",
    "for i in val:\n",
    "    \n",
    "      "
   ]
  },
  {
   "cell_type": "code",
   "execution_count": 73,
   "metadata": {},
   "outputs": [
    {
     "name": "stdout",
     "output_type": "stream",
     "text": [
      "\n"
     ]
    }
   ],
   "source": [
    "s=input()\n",
    "c=0\n",
    "for i in range(len(s)-1):\n",
    "    if s[i]!=s[i+1]:\n",
    "        c=1\n",
    "    else:\n",
    "        while s[i]==s[i+1]:\n",
    "            c=c+1\n",
    "            if i+1==len(s):\n",
    "                break\n",
    "    print(c,s[i])"
   ]
  },
  {
   "cell_type": "code",
   "execution_count": null,
   "metadata": {},
   "outputs": [],
   "source": []
  },
  {
   "cell_type": "code",
   "execution_count": null,
   "metadata": {},
   "outputs": [],
   "source": []
  },
  {
   "cell_type": "code",
   "execution_count": null,
   "metadata": {},
   "outputs": [],
   "source": []
  },
  {
   "cell_type": "code",
   "execution_count": null,
   "metadata": {},
   "outputs": [],
   "source": []
  },
  {
   "cell_type": "code",
   "execution_count": null,
   "metadata": {},
   "outputs": [],
   "source": []
  },
  {
   "cell_type": "code",
   "execution_count": null,
   "metadata": {},
   "outputs": [],
   "source": []
  }
 ],
 "metadata": {
  "kernelspec": {
   "display_name": "Python 3 (ipykernel)",
   "language": "python",
   "name": "python3"
  },
  "language_info": {
   "codemirror_mode": {
    "name": "ipython",
    "version": 3
   },
   "file_extension": ".py",
   "mimetype": "text/x-python",
   "name": "python",
   "nbconvert_exporter": "python",
   "pygments_lexer": "ipython3",
   "version": "3.10.9"
  }
 },
 "nbformat": 4,
 "nbformat_minor": 2
}
