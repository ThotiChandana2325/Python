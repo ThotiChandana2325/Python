{
 "cells": [
  {
   "cell_type": "code",
   "execution_count": 11,
   "id": "757cd1a3",
   "metadata": {},
   "outputs": [
    {
     "name": "stdout",
     "output_type": "stream",
     "text": [
      "2,7,11,15\n",
      "9\n"
     ]
    },
    {
     "data": {
      "text/plain": [
       "[0, 1]"
      ]
     },
     "execution_count": 11,
     "metadata": {},
     "output_type": "execute_result"
    }
   ],
   "source": [
    "class Solution(object):\n",
    "    def twoSum(self, nums, target):\n",
    "\n",
    "        self.nums=list(nums)\n",
    "        self.target=target\n",
    "        for i in range(len(self.nums)):\n",
    "            for j in range(i+1,len(self.nums)):\n",
    "                if self.nums[i]+self.nums[j]==target:\n",
    "                    return list([i,j])\n",
    "        \n",
    "ob=Solution()\n",
    "nums=map(int,input().split(\",\"))\n",
    "target=int(input())\n",
    "ob.twoSum(nums,target)"
   ]
  },
  {
   "cell_type": "code",
   "execution_count": 27,
   "id": "f5aa824d",
   "metadata": {},
   "outputs": [
    {
     "name": "stdout",
     "output_type": "stream",
     "text": [
      "2,7,11,15\n",
      "9\n"
     ]
    },
    {
     "data": {
      "text/plain": [
       "[0, 1]"
      ]
     },
     "execution_count": 27,
     "metadata": {},
     "output_type": "execute_result"
    }
   ],
   "source": [
    "class Solution:\n",
    "    def twoSum(self, nums, target):\n",
    "        h={}\n",
    "        for i in range(len(nums)):\n",
    "            h[nums[i]]=i\n",
    "           \n",
    "        for i in range(len(nums)):                       \n",
    "            y=target-nums[i]\n",
    "            \n",
    "            if y in h and h[y]!=i:\n",
    "                \n",
    "                return [i,h[y]]\n",
    "            \n",
    "              \n",
    "        \n",
    "ob=Solution()\n",
    "nums=list(map(int,input().split(\",\")))\n",
    "\n",
    "target=int(input())\n",
    "ob.twoSum(nums,target)\n"
   ]
  },
  {
   "cell_type": "code",
   "execution_count": 38,
   "id": "57a8e915",
   "metadata": {},
   "outputs": [
    {
     "ename": "TypeError",
     "evalue": "'int' object is not iterable",
     "output_type": "error",
     "traceback": [
      "\u001b[0;31m---------------------------------------------------------------------------\u001b[0m",
      "\u001b[0;31mTypeError\u001b[0m                                 Traceback (most recent call last)",
      "Cell \u001b[0;32mIn[38], line 7\u001b[0m\n\u001b[1;32m      4\u001b[0m             \u001b[38;5;28mprint\u001b[39m(i)\n\u001b[1;32m      6\u001b[0m ob\u001b[38;5;241m=\u001b[39msol()\n\u001b[0;32m----> 7\u001b[0m \u001b[43mob\u001b[49m\u001b[38;5;241;43m.\u001b[39;49m\u001b[43mpalindrome\u001b[49m\u001b[43m(\u001b[49m\u001b[38;5;241;43m-\u001b[39;49m\u001b[38;5;241;43m121\u001b[39;49m\u001b[43m)\u001b[49m\n",
      "Cell \u001b[0;32mIn[38], line 3\u001b[0m, in \u001b[0;36msol.palindrome\u001b[0;34m(self, num)\u001b[0m\n\u001b[1;32m      2\u001b[0m \u001b[38;5;28;01mdef\u001b[39;00m \u001b[38;5;21mpalindrome\u001b[39m(\u001b[38;5;28mself\u001b[39m,num):\n\u001b[0;32m----> 3\u001b[0m     \u001b[38;5;28;01mfor\u001b[39;00m i \u001b[38;5;129;01min\u001b[39;00m  num:\n\u001b[1;32m      4\u001b[0m         \u001b[38;5;28mprint\u001b[39m(i)\n",
      "\u001b[0;31mTypeError\u001b[0m: 'int' object is not iterable"
     ]
    }
   ],
   "source": [
    "class sol:\n",
    "    def palindrome(self,num):\n",
    "        for i in  num:\n",
    "            \n",
    "            \n",
    "ob=sol()\n",
    "ob.palindrome(-121)"
   ]
  },
  {
   "cell_type": "code",
   "execution_count": 54,
   "id": "2de91a1f",
   "metadata": {},
   "outputs": [
    {
     "name": "stdout",
     "output_type": "stream",
     "text": [
      "121\n",
      "121\n",
      "True\n"
     ]
    }
   ],
   "source": [
    "x=int(input())\n",
    "rev=0\n",
    "temp=x\n",
    "while temp!=0:\n",
    "    d=temp%10\n",
    "    rev=(rev*10)+d\n",
    "    temp//=10\n",
    "print(rev)\n",
    "if x==rev:\n",
    "    print(\"True\")"
   ]
  },
  {
   "cell_type": "code",
   "execution_count": 72,
   "id": "baf8a2d8",
   "metadata": {},
   "outputs": [
    {
     "name": "stdout",
     "output_type": "stream",
     "text": [
      "1000\n",
      "2\n",
      "2\n"
     ]
    },
    {
     "data": {
      "text/plain": [
       "2"
      ]
     },
     "execution_count": 72,
     "metadata": {},
     "output_type": "execute_result"
    }
   ],
   "source": [
    "last_digit = 2024 // (10 ** (len(str(1024)) - 1))\n",
    "x=(10 **(len(str(1024)) - 1))\n",
    "print(x)\n",
    "print(last_digit)\n",
    "y=(1024 % (10 ** (len(str(1024)) - 1))) // 10\n",
    "print(y)\n",
    "1024%1000\n",
    "24//10\n"
   ]
  },
  {
   "cell_type": "code",
   "execution_count": 61,
   "id": "e4a8a5e3",
   "metadata": {},
   "outputs": [
    {
     "data": {
      "text/plain": [
       "1"
      ]
     },
     "execution_count": 61,
     "metadata": {},
     "output_type": "execute_result"
    }
   ],
   "source": [
    "1024//1000"
   ]
  },
  {
   "cell_type": "code",
   "execution_count": 70,
   "id": "799d0d58",
   "metadata": {},
   "outputs": [
    {
     "name": "stdout",
     "output_type": "stream",
     "text": [
      "234\n"
     ]
    }
   ],
   "source": [
    "def is_palindrome(n):\n",
    "   \"\"\"\n",
    "   Returns True if n is a palindrome number, False otherwise.\n",
    "   \"\"\"\n",
    "   # Base case: one-digit numbers are always palindromes\n",
    "   if n // 10 == 0:\n",
    "       return True\n",
    "   # Recursive case: compare first and last digits, then check the remaining digits\n",
    "   first_digit = n % 10\n",
    "   last_digit = n // (10 ** (len(str(n)) - 1))\n",
    "   if first_digit != last_digit:\n",
    "       return False\n",
    "   else:\n",
    "       # Remove the first and last digits from the number and check the remaining digits recursively\n",
    "       return is_palindrome((n % (10 ** (len(str(n)) - 1))) // 10)\n",
    "# Example usage:\n",
    "\n",
    "#print(is_palindrome(12321))  # True\n",
    "n=12345\n",
    "x=(n % (10 ** (len(str(n)) - 1))) // 10\n",
    "print(x)"
   ]
  },
  {
   "cell_type": "code",
   "execution_count": 120,
   "id": "1592babf",
   "metadata": {},
   "outputs": [
    {
     "data": {
      "text/plain": [
       "False"
      ]
     },
     "execution_count": 120,
     "metadata": {},
     "output_type": "execute_result"
    }
   ],
   "source": [
    "class Solution:\n",
    "    def isPalindrome(self, x: int) -> bool:\n",
    "        if x<0:\n",
    "            return False\n",
    "        return x==self.reverse(x,0)\n",
    "    def reverse(self,n,rev):\n",
    "        if n==0:\n",
    "            return rev\n",
    "        return self.reverse(n//10,((rev*10)+(n%10)))\n",
    "    def check(self,x):\n",
    "        if self.isPalindrome(x):\n",
    "            return True\n",
    "        return False\n",
    "ob=Solution()\n",
    "ob.check(10021)  "
   ]
  },
  {
   "cell_type": "code",
   "execution_count": null,
   "id": "8d398fc9",
   "metadata": {},
   "outputs": [],
   "source": [
    "def pattern(s,p):\n",
    "    if match(s,p):\n",
    "        return True\n",
    "s=input()\n",
    "p="
   ]
  },
  {
   "cell_type": "code",
   "execution_count": null,
   "id": "90ffe973",
   "metadata": {},
   "outputs": [],
   "source": []
  }
 ],
 "metadata": {
  "kernelspec": {
   "display_name": "Python 3 (ipykernel)",
   "language": "python",
   "name": "python3"
  },
  "language_info": {
   "codemirror_mode": {
    "name": "ipython",
    "version": 3
   },
   "file_extension": ".py",
   "mimetype": "text/x-python",
   "name": "python",
   "nbconvert_exporter": "python",
   "pygments_lexer": "ipython3",
   "version": "3.10.9"
  }
 },
 "nbformat": 4,
 "nbformat_minor": 5
}
